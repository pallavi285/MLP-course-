{
 "cells": [
  {
   "cell_type": "code",
   "execution_count": null,
   "metadata": {},
   "outputs": [],
   "source": [
    "import pandas as pd\n",
    "import seaborn as sns\n"
   ]
  },
  {
   "cell_type": "markdown",
   "metadata": {
    "id": "JEAuzWiPJxZU"
   },
   "source": [
    "# Q1"
   ]
  },
  {
   "cell_type": "markdown",
   "metadata": {
    "id": "zqF3fc2SJ5ZO"
   },
   "source": [
    "Explain the difference between SimpleImputer and KNNImputer, and use them on this data.\n",
    "\n",
    "data = {'Age': [25, 30, None, 45, 40], 'Fare': [100, None, 80, 75, 60]}\n",
    "\n",
    "\n",
    "\n",
    "---\n",
    "\n"
   ]
  },
  {
   "cell_type": "markdown",
   "metadata": {
    "id": "VJhxbUOAXhSd"
   },
   "source": [
    "# Q2"
   ]
  },
  {
   "cell_type": "markdown",
   "metadata": {
    "id": "-CMzEZsEXkZa"
   },
   "source": [
    "Use DictVectorizer to transform a list of dictionaries into a feature matrix. Also use FeatureHasher.\n",
    "\n",
    "data = [{'city': 'New York', 'temperature': 21},\n",
    "        {'city': 'San Francisco', 'temperature': 18},\n",
    "        {'city': 'Chicago', 'temperature': 15}]"
   ]
  },
  {
   "cell_type": "markdown",
   "metadata": {
    "id": "5664zFeqX2-x"
   },
   "source": [
    "# Q3\n",
    "\n",
    "df = sns.load_dataset('titanic')\n",
    "\n",
    "df.head()"
   ]
  },
  {
   "cell_type": "markdown",
   "metadata": {
    "id": "lU2noOZrXsws"
   },
   "source": [
    "Use SimpleImputer to fill missing values in the Age column with the mean."
   ]
  },
  {
   "cell_type": "markdown",
   "metadata": {
    "id": "fjTYJvlRbhKN"
   },
   "source": [
    "# Q4"
   ]
  },
  {
   "cell_type": "markdown",
   "metadata": {
    "id": "z--g_BmHbdch"
   },
   "source": [
    "Use KNNImputer to fill missing values in both Age and Fare columns based on their nearest neighbors."
   ]
  },
  {
   "cell_type": "markdown",
   "metadata": {
    "id": "SRALAJGLb2B8"
   },
   "source": [
    "# Q5\n",
    "\n",
    "Use OneHotEncoder to encode the categorical Sex and Embarked columns."
   ]
  },
  {
   "cell_type": "markdown",
   "metadata": {
    "id": "1QlTZvPKd3RX"
   },
   "source": [
    "# Q6\n",
    "Use LabelEncoder to encode the Sex column.\n"
   ]
  },
  {
   "cell_type": "markdown",
   "metadata": {
    "id": "BoRiEm0xeTEj"
   },
   "source": [
    "# Q7\n",
    " Use OrdinalEncoder to encode the Embarked column, assuming some ordinal ranking of the ports."
   ]
  },
  {
   "cell_type": "markdown",
   "metadata": {
    "id": "UadxZJSLeeyS"
   },
   "source": [
    "# Q8\n",
    "Create a pipeline that imputes missing values for the Age column and encodes the Sex and Embarked columns using OneHotEncoder."
   ]
  },
  {
   "cell_type": "markdown",
   "metadata": {
    "id": "lOjPU7hYehEZ"
   },
   "source": [
    "# Q9\n",
    "Use ColumnTransformer to apply OneHotEncoder to Sex and Embarked, and scale numerical columns like Age and Fare."
   ]
  },
  {
   "cell_type": "markdown",
   "metadata": {
    "id": "pg0AfRmQe9nW"
   },
   "source": [
    "# Q10\n",
    "Use SelectKBest to select the top 2 features that are most correlated with survival (Survived)."
   ]
  },
  {
   "cell_type": "markdown",
   "metadata": {
    "id": "4dfnpJDjfAUT"
   },
   "source": [
    "# Q11\n",
    "Use RFE (Recursive Feature Elimination) with a logistic regression model to select the top 3 features for predicting survival."
   ]
  },
  {
   "cell_type": "markdown",
   "metadata": {
    "id": "DmjQ1VEPfLnm"
   },
   "source": [
    "# Q12\n",
    "\n",
    "Use FunctionTransformer to apply a log transformation to the Fare column."
   ]
  },
  {
   "cell_type": "markdown",
   "metadata": {
    "id": "ZAXOGcppfTrM"
   },
   "source": [
    "# Q13\n",
    "Create a pipeline that:  \n",
    "\n",
    "Imputes missing values in the 'age' column using the mean.  \n",
    "\n",
    "Imputes missing values in the 'embarked' column using the most frequent strategy.  \n",
    "\n",
    "Scales the 'fare' and 'age' columns using StandardScaler.  \n",
    "\n",
    "One-hot encodes the 'sex' and 'embarked' columns.\n"
   ]
  },
  {
   "cell_type": "markdown",
   "metadata": {
    "id": "DW-mcyGgf8jB"
   },
   "source": [
    "# Q14\n",
    "Create a pipeline that:\n",
    "\n",
    "Imputes missing values in the 'age' column using the mean.\n",
    "\n",
    "Scales the 'fare' column using StandardScaler.\n",
    "\n",
    "One-hot encodes the 'sex' column.\n",
    "Passes through the 'pclass' column without any transformation.\n",
    "\n",
    "Retains the original 'survived' column without any transformation."
   ]
  }
 ],
 "metadata": {
  "colab": {
   "authorship_tag": "ABX9TyNCkQrFgznkltkgvqm/Xfve",
   "provenance": [],
   "toc_visible": true
  },
  "kernelspec": {
   "display_name": "Python 3",
   "name": "python3"
  },
  "language_info": {
   "codemirror_mode": {
    "name": "ipython",
    "version": 3
   },
   "file_extension": ".py",
   "mimetype": "text/x-python",
   "name": "python",
   "nbconvert_exporter": "python",
   "pygments_lexer": "ipython3",
   "version": "3.11.2"
  }
 },
 "nbformat": 4,
 "nbformat_minor": 0
}
