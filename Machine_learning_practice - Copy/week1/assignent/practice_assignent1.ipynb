{
 "cells": [
  {
   "cell_type": "code",
   "execution_count": 50,
   "id": "6533e9da",
   "metadata": {},
   "outputs": [],
   "source": [
    "import pandas as pd"
   ]
  },
  {
   "cell_type": "code",
   "execution_count": 51,
   "id": "bf17a033",
   "metadata": {},
   "outputs": [],
   "source": [
    "df = pd.read_csv('Preprocessing1.csv')"
   ]
  },
  {
   "cell_type": "code",
   "execution_count": 52,
   "id": "82f7a35c",
   "metadata": {},
   "outputs": [
    {
     "data": {
      "text/plain": [
       "Airline              0\n",
       "Source               0\n",
       "Destination          0\n",
       "Route                1\n",
       "Dep_Time             0\n",
       "Arrival_Time         0\n",
       "Duration             0\n",
       "Total_Stops        200\n",
       "Additional_Info      0\n",
       "Price                0\n",
       "Month                0\n",
       "WeekDay              0\n",
       "Day                236\n",
       "dtype: int64"
      ]
     },
     "execution_count": 52,
     "metadata": {},
     "output_type": "execute_result"
    }
   ],
   "source": [
    "df.isnull().sum()"
   ]
  },
  {
   "cell_type": "code",
   "execution_count": 53,
   "id": "a7a28446",
   "metadata": {},
   "outputs": [
    {
     "data": {
      "text/plain": [
       "437"
      ]
     },
     "execution_count": 53,
     "metadata": {},
     "output_type": "execute_result"
    }
   ],
   "source": [
    "df.isnull().sum().sum()"
   ]
  },
  {
   "cell_type": "code",
   "execution_count": 54,
   "id": "fb051ee7",
   "metadata": {},
   "outputs": [
    {
     "data": {
      "text/html": [
       "<div>\n",
       "<style scoped>\n",
       "    .dataframe tbody tr th:only-of-type {\n",
       "        vertical-align: middle;\n",
       "    }\n",
       "\n",
       "    .dataframe tbody tr th {\n",
       "        vertical-align: top;\n",
       "    }\n",
       "\n",
       "    .dataframe thead th {\n",
       "        text-align: right;\n",
       "    }\n",
       "</style>\n",
       "<table border=\"1\" class=\"dataframe\">\n",
       "  <thead>\n",
       "    <tr style=\"text-align: right;\">\n",
       "      <th></th>\n",
       "      <th>Total_Stops</th>\n",
       "    </tr>\n",
       "  </thead>\n",
       "  <tbody>\n",
       "    <tr>\n",
       "      <th>0</th>\n",
       "      <td>1 stop</td>\n",
       "    </tr>\n",
       "    <tr>\n",
       "      <th>1</th>\n",
       "      <td>1 stop</td>\n",
       "    </tr>\n",
       "    <tr>\n",
       "      <th>2</th>\n",
       "      <td>non-stop</td>\n",
       "    </tr>\n",
       "    <tr>\n",
       "      <th>3</th>\n",
       "      <td>1 stop</td>\n",
       "    </tr>\n",
       "    <tr>\n",
       "      <th>4</th>\n",
       "      <td>non-stop</td>\n",
       "    </tr>\n",
       "    <tr>\n",
       "      <th>...</th>\n",
       "      <td>...</td>\n",
       "    </tr>\n",
       "    <tr>\n",
       "      <th>9445</th>\n",
       "      <td>1 stop</td>\n",
       "    </tr>\n",
       "    <tr>\n",
       "      <th>9446</th>\n",
       "      <td>1 stop</td>\n",
       "    </tr>\n",
       "    <tr>\n",
       "      <th>9447</th>\n",
       "      <td>1 stop</td>\n",
       "    </tr>\n",
       "    <tr>\n",
       "      <th>9448</th>\n",
       "      <td>1 stop</td>\n",
       "    </tr>\n",
       "    <tr>\n",
       "      <th>9449</th>\n",
       "      <td>3 stops</td>\n",
       "    </tr>\n",
       "  </tbody>\n",
       "</table>\n",
       "<p>9450 rows × 1 columns</p>\n",
       "</div>"
      ],
      "text/plain": [
       "     Total_Stops\n",
       "0         1 stop\n",
       "1         1 stop\n",
       "2       non-stop\n",
       "3         1 stop\n",
       "4       non-stop\n",
       "...          ...\n",
       "9445      1 stop\n",
       "9446      1 stop\n",
       "9447      1 stop\n",
       "9448      1 stop\n",
       "9449     3 stops\n",
       "\n",
       "[9450 rows x 1 columns]"
      ]
     },
     "execution_count": 54,
     "metadata": {},
     "output_type": "execute_result"
    }
   ],
   "source": [
    "df[['Total_Stops']]"
   ]
  },
  {
   "cell_type": "code",
   "execution_count": 55,
   "id": "9c71cf82",
   "metadata": {},
   "outputs": [
    {
     "data": {
      "text/plain": [
       "array(['1 stop', 'non-stop', '2 stops', nan, '3 stops'], dtype=object)"
      ]
     },
     "execution_count": 55,
     "metadata": {},
     "output_type": "execute_result"
    }
   ],
   "source": [
    "df['Total_Stops'].unique()"
   ]
  },
  {
   "cell_type": "code",
   "execution_count": 56,
   "id": "604e302f",
   "metadata": {},
   "outputs": [
    {
     "data": {
      "text/plain": [
       "Total_Stops\n",
       "1 stop      4748\n",
       "non-stop    3132\n",
       "2 stops     1315\n",
       "3 stops       55\n",
       "Name: count, dtype: int64"
      ]
     },
     "execution_count": 56,
     "metadata": {},
     "output_type": "execute_result"
    }
   ],
   "source": [
    "df['Total_Stops'].value_counts()"
   ]
  },
  {
   "cell_type": "code",
   "execution_count": 57,
   "id": "658028e7",
   "metadata": {},
   "outputs": [
    {
     "name": "stdout",
     "output_type": "stream",
     "text": [
      "<class 'pandas.core.frame.DataFrame'>\n",
      "RangeIndex: 9450 entries, 0 to 9449\n",
      "Data columns (total 13 columns):\n",
      " #   Column           Non-Null Count  Dtype  \n",
      "---  ------           --------------  -----  \n",
      " 0   Airline          9450 non-null   object \n",
      " 1   Source           9450 non-null   object \n",
      " 2   Destination      9450 non-null   object \n",
      " 3   Route            9449 non-null   object \n",
      " 4   Dep_Time         9450 non-null   object \n",
      " 5   Arrival_Time     9450 non-null   object \n",
      " 6   Duration         9450 non-null   object \n",
      " 7   Total_Stops      9250 non-null   object \n",
      " 8   Additional_Info  9450 non-null   object \n",
      " 9   Price            9450 non-null   int64  \n",
      " 10  Month            9450 non-null   int64  \n",
      " 11  WeekDay          9450 non-null   object \n",
      " 12  Day              9214 non-null   float64\n",
      "dtypes: float64(1), int64(2), object(10)\n",
      "memory usage: 959.9+ KB\n"
     ]
    }
   ],
   "source": [
    "df.info()"
   ]
  },
  {
   "cell_type": "code",
   "execution_count": 58,
   "id": "7489c8fe",
   "metadata": {},
   "outputs": [
    {
     "data": {
      "text/plain": [
       "'9027.90'"
      ]
     },
     "execution_count": 58,
     "metadata": {},
     "output_type": "execute_result"
    }
   ],
   "source": [
    "mean = df['Price'].mean()\n",
    "f\"{mean:.2f}\""
   ]
  },
  {
   "cell_type": "code",
   "execution_count": 59,
   "id": "26a96b6e",
   "metadata": {},
   "outputs": [
    {
     "data": {
      "text/html": [
       "<div>\n",
       "<style scoped>\n",
       "    .dataframe tbody tr th:only-of-type {\n",
       "        vertical-align: middle;\n",
       "    }\n",
       "\n",
       "    .dataframe tbody tr th {\n",
       "        vertical-align: top;\n",
       "    }\n",
       "\n",
       "    .dataframe thead th {\n",
       "        text-align: right;\n",
       "    }\n",
       "</style>\n",
       "<table border=\"1\" class=\"dataframe\">\n",
       "  <thead>\n",
       "    <tr style=\"text-align: right;\">\n",
       "      <th></th>\n",
       "      <th>Price</th>\n",
       "      <th>Month</th>\n",
       "      <th>Day</th>\n",
       "    </tr>\n",
       "  </thead>\n",
       "  <tbody>\n",
       "    <tr>\n",
       "      <th>count</th>\n",
       "      <td>9450.000000</td>\n",
       "      <td>9450.000000</td>\n",
       "      <td>9214.000000</td>\n",
       "    </tr>\n",
       "    <tr>\n",
       "      <th>mean</th>\n",
       "      <td>9027.895556</td>\n",
       "      <td>4.718730</td>\n",
       "      <td>13.517582</td>\n",
       "    </tr>\n",
       "    <tr>\n",
       "      <th>std</th>\n",
       "      <td>4466.677471</td>\n",
       "      <td>1.162725</td>\n",
       "      <td>8.459792</td>\n",
       "    </tr>\n",
       "    <tr>\n",
       "      <th>min</th>\n",
       "      <td>1759.000000</td>\n",
       "      <td>3.000000</td>\n",
       "      <td>1.000000</td>\n",
       "    </tr>\n",
       "    <tr>\n",
       "      <th>25%</th>\n",
       "      <td>5198.000000</td>\n",
       "      <td>3.000000</td>\n",
       "      <td>6.000000</td>\n",
       "    </tr>\n",
       "    <tr>\n",
       "      <th>50%</th>\n",
       "      <td>8366.000000</td>\n",
       "      <td>5.000000</td>\n",
       "      <td>12.000000</td>\n",
       "    </tr>\n",
       "    <tr>\n",
       "      <th>75%</th>\n",
       "      <td>12373.000000</td>\n",
       "      <td>6.000000</td>\n",
       "      <td>21.000000</td>\n",
       "    </tr>\n",
       "    <tr>\n",
       "      <th>max</th>\n",
       "      <td>57209.000000</td>\n",
       "      <td>6.000000</td>\n",
       "      <td>27.000000</td>\n",
       "    </tr>\n",
       "  </tbody>\n",
       "</table>\n",
       "</div>"
      ],
      "text/plain": [
       "              Price        Month          Day\n",
       "count   9450.000000  9450.000000  9214.000000\n",
       "mean    9027.895556     4.718730    13.517582\n",
       "std     4466.677471     1.162725     8.459792\n",
       "min     1759.000000     3.000000     1.000000\n",
       "25%     5198.000000     3.000000     6.000000\n",
       "50%     8366.000000     5.000000    12.000000\n",
       "75%    12373.000000     6.000000    21.000000\n",
       "max    57209.000000     6.000000    27.000000"
      ]
     },
     "execution_count": 59,
     "metadata": {},
     "output_type": "execute_result"
    }
   ],
   "source": [
    "df.describe()"
   ]
  },
  {
   "cell_type": "markdown",
   "id": "1e541610",
   "metadata": {},
   "source": [
    "\n",
    "\n",
    "### During which month did the highest number of flights occur? Months are represented by numerical codes, with January corresponding to 1, February to 2, and so forth.\n",
    "\n",
    "- January\n",
    "\n",
    "- May\n",
    "\n",
    "- October\n",
    "\n",
    "- December"
   ]
  },
  {
   "cell_type": "code",
   "execution_count": 60,
   "id": "1e80d0b0",
   "metadata": {},
   "outputs": [
    {
     "name": "stdout",
     "output_type": "stream",
     "text": [
      "<class 'pandas.core.frame.DataFrame'>\n",
      "RangeIndex: 9450 entries, 0 to 9449\n",
      "Data columns (total 13 columns):\n",
      " #   Column           Non-Null Count  Dtype  \n",
      "---  ------           --------------  -----  \n",
      " 0   Airline          9450 non-null   object \n",
      " 1   Source           9450 non-null   object \n",
      " 2   Destination      9450 non-null   object \n",
      " 3   Route            9449 non-null   object \n",
      " 4   Dep_Time         9450 non-null   object \n",
      " 5   Arrival_Time     9450 non-null   object \n",
      " 6   Duration         9450 non-null   object \n",
      " 7   Total_Stops      9250 non-null   object \n",
      " 8   Additional_Info  9450 non-null   object \n",
      " 9   Price            9450 non-null   int64  \n",
      " 10  Month            9450 non-null   int64  \n",
      " 11  WeekDay          9450 non-null   object \n",
      " 12  Day              9214 non-null   float64\n",
      "dtypes: float64(1), int64(2), object(10)\n",
      "memory usage: 959.9+ KB\n"
     ]
    }
   ],
   "source": [
    "df.info()"
   ]
  },
  {
   "cell_type": "code",
   "execution_count": 61,
   "id": "fb0146da",
   "metadata": {},
   "outputs": [
    {
     "data": {
      "text/html": [
       "<div>\n",
       "<style scoped>\n",
       "    .dataframe tbody tr th:only-of-type {\n",
       "        vertical-align: middle;\n",
       "    }\n",
       "\n",
       "    .dataframe tbody tr th {\n",
       "        vertical-align: top;\n",
       "    }\n",
       "\n",
       "    .dataframe thead th {\n",
       "        text-align: right;\n",
       "    }\n",
       "</style>\n",
       "<table border=\"1\" class=\"dataframe\">\n",
       "  <thead>\n",
       "    <tr style=\"text-align: right;\">\n",
       "      <th></th>\n",
       "      <th>Airline</th>\n",
       "      <th>Source</th>\n",
       "      <th>Destination</th>\n",
       "      <th>Route</th>\n",
       "      <th>Dep_Time</th>\n",
       "      <th>Arrival_Time</th>\n",
       "      <th>Duration</th>\n",
       "      <th>Total_Stops</th>\n",
       "      <th>Additional_Info</th>\n",
       "      <th>Price</th>\n",
       "      <th>Month</th>\n",
       "      <th>WeekDay</th>\n",
       "      <th>Day</th>\n",
       "    </tr>\n",
       "  </thead>\n",
       "  <tbody>\n",
       "    <tr>\n",
       "      <th>0</th>\n",
       "      <td>Jet Airways</td>\n",
       "      <td>Delhi</td>\n",
       "      <td>Banglore</td>\n",
       "      <td>DEL → BOM → COK</td>\n",
       "      <td>20:00</td>\n",
       "      <td>04:25 10 Jun</td>\n",
       "      <td>26h 35m</td>\n",
       "      <td>1 stop</td>\n",
       "      <td>In-flight meal not included</td>\n",
       "      <td>14924</td>\n",
       "      <td>6</td>\n",
       "      <td>Thursday</td>\n",
       "      <td>6.0</td>\n",
       "    </tr>\n",
       "    <tr>\n",
       "      <th>1</th>\n",
       "      <td>Jet Airways</td>\n",
       "      <td>Delhi</td>\n",
       "      <td>Cochin</td>\n",
       "      <td>DEL → BOM → COK</td>\n",
       "      <td>16:00</td>\n",
       "      <td>19:00 10 Jun</td>\n",
       "      <td>27h</td>\n",
       "      <td>1 stop</td>\n",
       "      <td>In-flight meal not included</td>\n",
       "      <td>10577</td>\n",
       "      <td>6</td>\n",
       "      <td>Sunday</td>\n",
       "      <td>9.0</td>\n",
       "    </tr>\n",
       "    <tr>\n",
       "      <th>2</th>\n",
       "      <td>Jet Airways</td>\n",
       "      <td>Mumbai</td>\n",
       "      <td>Hyderabad</td>\n",
       "      <td>BOM → HYD</td>\n",
       "      <td>19:35</td>\n",
       "      <td>21:05</td>\n",
       "      <td>1h 30m</td>\n",
       "      <td>non-stop</td>\n",
       "      <td>No info</td>\n",
       "      <td>5678</td>\n",
       "      <td>3</td>\n",
       "      <td>Friday</td>\n",
       "      <td>15.0</td>\n",
       "    </tr>\n",
       "    <tr>\n",
       "      <th>3</th>\n",
       "      <td>Multiple carriers</td>\n",
       "      <td>Delhi</td>\n",
       "      <td>Banglore</td>\n",
       "      <td>DEL → BOM → COK</td>\n",
       "      <td>18:55</td>\n",
       "      <td>01:30 16 Jun</td>\n",
       "      <td>15h 10m</td>\n",
       "      <td>1 stop</td>\n",
       "      <td>In-flight meal not included</td>\n",
       "      <td>7408</td>\n",
       "      <td>5</td>\n",
       "      <td>Monday</td>\n",
       "      <td>6.0</td>\n",
       "    </tr>\n",
       "    <tr>\n",
       "      <th>4</th>\n",
       "      <td>Air India</td>\n",
       "      <td>Delhi</td>\n",
       "      <td>Cochin</td>\n",
       "      <td>DEL → COK</td>\n",
       "      <td>17:10</td>\n",
       "      <td>17:55</td>\n",
       "      <td>8h 20m</td>\n",
       "      <td>non-stop</td>\n",
       "      <td>No info</td>\n",
       "      <td>6724</td>\n",
       "      <td>6</td>\n",
       "      <td>Monday</td>\n",
       "      <td>24.0</td>\n",
       "    </tr>\n",
       "  </tbody>\n",
       "</table>\n",
       "</div>"
      ],
      "text/plain": [
       "             Airline  Source Destination            Route Dep_Time  \\\n",
       "0        Jet Airways   Delhi    Banglore  DEL → BOM → COK    20:00   \n",
       "1        Jet Airways   Delhi      Cochin  DEL → BOM → COK    16:00   \n",
       "2        Jet Airways  Mumbai   Hyderabad        BOM → HYD    19:35   \n",
       "3  Multiple carriers   Delhi    Banglore  DEL → BOM → COK    18:55   \n",
       "4          Air India   Delhi      Cochin        DEL → COK    17:10   \n",
       "\n",
       "   Arrival_Time Duration Total_Stops              Additional_Info  Price  \\\n",
       "0  04:25 10 Jun  26h 35m      1 stop  In-flight meal not included  14924   \n",
       "1  19:00 10 Jun      27h      1 stop  In-flight meal not included  10577   \n",
       "2         21:05   1h 30m    non-stop                      No info   5678   \n",
       "3  01:30 16 Jun  15h 10m      1 stop  In-flight meal not included   7408   \n",
       "4         17:55   8h 20m    non-stop                      No info   6724   \n",
       "\n",
       "   Month   WeekDay   Day  \n",
       "0      6  Thursday   6.0  \n",
       "1      6    Sunday   9.0  \n",
       "2      3    Friday  15.0  \n",
       "3      5    Monday   6.0  \n",
       "4      6    Monday  24.0  "
      ]
     },
     "execution_count": 61,
     "metadata": {},
     "output_type": "execute_result"
    }
   ],
   "source": [
    "df.head()"
   ]
  },
  {
   "cell_type": "code",
   "execution_count": 62,
   "id": "c7839a60",
   "metadata": {},
   "outputs": [
    {
     "data": {
      "text/plain": [
       "array([6, 3, 5, 4], dtype=int64)"
      ]
     },
     "execution_count": 62,
     "metadata": {},
     "output_type": "execute_result"
    }
   ],
   "source": [
    "df['Month'].unique()"
   ]
  },
  {
   "cell_type": "code",
   "execution_count": 63,
   "id": "9be95aef",
   "metadata": {},
   "outputs": [
    {
     "data": {
      "text/plain": [
       "Month\n",
       "4     926\n",
       "3    2388\n",
       "6    3044\n",
       "5    3092\n",
       "Name: Airline, dtype: int64"
      ]
     },
     "execution_count": 63,
     "metadata": {},
     "output_type": "execute_result"
    }
   ],
   "source": [
    "df.groupby('Month')['Airline'].count().sort_values()"
   ]
  },
  {
   "cell_type": "markdown",
   "id": "da64ae93",
   "metadata": {},
   "source": [
    "### Is the average price of flight tickets higher on weekends (Saturday and Sunday) or on weekdays (Remaining 5 days)?\n",
    "\n",
    "- Weekends (Saturday and Sunday)\n",
    "\n",
    "- Weekdays"
   ]
  },
  {
   "cell_type": "code",
   "execution_count": 64,
   "id": "7a40739f",
   "metadata": {},
   "outputs": [
    {
     "name": "stdout",
     "output_type": "stream",
     "text": [
      "<class 'pandas.core.frame.DataFrame'>\n",
      "RangeIndex: 9450 entries, 0 to 9449\n",
      "Data columns (total 13 columns):\n",
      " #   Column           Non-Null Count  Dtype  \n",
      "---  ------           --------------  -----  \n",
      " 0   Airline          9450 non-null   object \n",
      " 1   Source           9450 non-null   object \n",
      " 2   Destination      9450 non-null   object \n",
      " 3   Route            9449 non-null   object \n",
      " 4   Dep_Time         9450 non-null   object \n",
      " 5   Arrival_Time     9450 non-null   object \n",
      " 6   Duration         9450 non-null   object \n",
      " 7   Total_Stops      9250 non-null   object \n",
      " 8   Additional_Info  9450 non-null   object \n",
      " 9   Price            9450 non-null   int64  \n",
      " 10  Month            9450 non-null   int64  \n",
      " 11  WeekDay          9450 non-null   object \n",
      " 12  Day              9214 non-null   float64\n",
      "dtypes: float64(1), int64(2), object(10)\n",
      "memory usage: 959.9+ KB\n"
     ]
    }
   ],
   "source": [
    "df.info()"
   ]
  },
  {
   "cell_type": "code",
   "execution_count": 65,
   "id": "36dbc68b",
   "metadata": {},
   "outputs": [
    {
     "data": {
      "text/html": [
       "<div>\n",
       "<style scoped>\n",
       "    .dataframe tbody tr th:only-of-type {\n",
       "        vertical-align: middle;\n",
       "    }\n",
       "\n",
       "    .dataframe tbody tr th {\n",
       "        vertical-align: top;\n",
       "    }\n",
       "\n",
       "    .dataframe thead th {\n",
       "        text-align: right;\n",
       "    }\n",
       "</style>\n",
       "<table border=\"1\" class=\"dataframe\">\n",
       "  <thead>\n",
       "    <tr style=\"text-align: right;\">\n",
       "      <th></th>\n",
       "      <th>Airline</th>\n",
       "      <th>Source</th>\n",
       "      <th>Destination</th>\n",
       "      <th>Route</th>\n",
       "      <th>Dep_Time</th>\n",
       "      <th>Arrival_Time</th>\n",
       "      <th>Duration</th>\n",
       "      <th>Total_Stops</th>\n",
       "      <th>Additional_Info</th>\n",
       "      <th>Price</th>\n",
       "      <th>Month</th>\n",
       "      <th>WeekDay</th>\n",
       "      <th>Day</th>\n",
       "    </tr>\n",
       "  </thead>\n",
       "  <tbody>\n",
       "    <tr>\n",
       "      <th>0</th>\n",
       "      <td>Jet Airways</td>\n",
       "      <td>Delhi</td>\n",
       "      <td>Banglore</td>\n",
       "      <td>DEL → BOM → COK</td>\n",
       "      <td>20:00</td>\n",
       "      <td>04:25 10 Jun</td>\n",
       "      <td>26h 35m</td>\n",
       "      <td>1 stop</td>\n",
       "      <td>In-flight meal not included</td>\n",
       "      <td>14924</td>\n",
       "      <td>6</td>\n",
       "      <td>Thursday</td>\n",
       "      <td>6.0</td>\n",
       "    </tr>\n",
       "  </tbody>\n",
       "</table>\n",
       "</div>"
      ],
      "text/plain": [
       "       Airline Source Destination            Route Dep_Time  Arrival_Time  \\\n",
       "0  Jet Airways  Delhi    Banglore  DEL → BOM → COK    20:00  04:25 10 Jun   \n",
       "\n",
       "  Duration Total_Stops              Additional_Info  Price  Month   WeekDay  \\\n",
       "0  26h 35m      1 stop  In-flight meal not included  14924      6  Thursday   \n",
       "\n",
       "   Day  \n",
       "0  6.0  "
      ]
     },
     "execution_count": 65,
     "metadata": {},
     "output_type": "execute_result"
    }
   ],
   "source": [
    "df.head(1)"
   ]
  },
  {
   "cell_type": "code",
   "execution_count": 66,
   "id": "61060a54",
   "metadata": {},
   "outputs": [
    {
     "data": {
      "text/plain": [
       "WeekDay\n",
       "Monday       8834.710081\n",
       "Saturday     8878.064683\n",
       "Friday       8961.014388\n",
       "Thursday     9013.744025\n",
       "Wednesday    9091.326994\n",
       "Tuesday      9275.404342\n",
       "Sunday       9280.047087\n",
       "Name: Price, dtype: float64"
      ]
     },
     "execution_count": 66,
     "metadata": {},
     "output_type": "execute_result"
    }
   ],
   "source": [
    "df.groupby('WeekDay')['Price'].mean().sort_values()"
   ]
  },
  {
   "cell_type": "code",
   "execution_count": 67,
   "id": "e13d59ff",
   "metadata": {},
   "outputs": [
    {
     "name": "stdout",
     "output_type": "stream",
     "text": [
      "WeekDay\n",
      "Saturday    18158.11177\n",
      "Name: Price, dtype: float64\n"
     ]
    }
   ],
   "source": [
    "weekend2 = df.loc[ df['WeekDay'] == 'Sunday' ,'WeekDay']\n",
    "weekend1 = df.loc[ df['WeekDay'] == 'Saturday' ,'WeekDay']\n",
    "\n",
    "avg1 = df.groupby(weekend2)['Price'].mean()\n",
    "avg2 = df.groupby(weekend1)['Price'].mean()\n",
    "weekends = sum(avg1, avg2)\n",
    "print(weekends)"
   ]
  },
  {
   "cell_type": "markdown",
   "id": "0eb6ba8c",
   "metadata": {},
   "source": [
    "### Question 4\n",
    "\n",
    "Two of the entries in the 'Additional_Info' column are 'No info' and 'No Info'. Replace all occurrences of 'No Info' with 'No info'. How many flights fall under airline 'IndiGo' and have 'No info' as additional information?"
   ]
  },
  {
   "cell_type": "code",
   "execution_count": 68,
   "id": "86c3936b",
   "metadata": {},
   "outputs": [
    {
     "data": {
      "text/plain": [
       "array(['In-flight meal not included', 'No info',\n",
       "       'No check-in baggage included', '1 Long layover',\n",
       "       'Change airports', 'No Info', '2 Long layover', '1 Short layover',\n",
       "       'Business class'], dtype=object)"
      ]
     },
     "execution_count": 68,
     "metadata": {},
     "output_type": "execute_result"
    }
   ],
   "source": [
    "df['Additional_Info'].unique()"
   ]
  },
  {
   "cell_type": "code",
   "execution_count": 69,
   "id": "e8ab3339",
   "metadata": {},
   "outputs": [],
   "source": [
    "df['Additional_Info'] = df['Additional_Info'].replace('No Info', 'No info')\n"
   ]
  },
  {
   "cell_type": "markdown",
   "id": "cd604b9b",
   "metadata": {},
   "source": [
    "### How many flights fall under airline 'IndiGo' and have 'No info' as additional information?"
   ]
  },
  {
   "cell_type": "code",
   "execution_count": 70,
   "id": "7da9034c",
   "metadata": {},
   "outputs": [
    {
     "name": "stdout",
     "output_type": "stream",
     "text": [
      "<class 'pandas.core.frame.DataFrame'>\n",
      "RangeIndex: 9450 entries, 0 to 9449\n",
      "Data columns (total 13 columns):\n",
      " #   Column           Non-Null Count  Dtype  \n",
      "---  ------           --------------  -----  \n",
      " 0   Airline          9450 non-null   object \n",
      " 1   Source           9450 non-null   object \n",
      " 2   Destination      9450 non-null   object \n",
      " 3   Route            9449 non-null   object \n",
      " 4   Dep_Time         9450 non-null   object \n",
      " 5   Arrival_Time     9450 non-null   object \n",
      " 6   Duration         9450 non-null   object \n",
      " 7   Total_Stops      9250 non-null   object \n",
      " 8   Additional_Info  9450 non-null   object \n",
      " 9   Price            9450 non-null   int64  \n",
      " 10  Month            9450 non-null   int64  \n",
      " 11  WeekDay          9450 non-null   object \n",
      " 12  Day              9214 non-null   float64\n",
      "dtypes: float64(1), int64(2), object(10)\n",
      "memory usage: 959.9+ KB\n"
     ]
    }
   ],
   "source": [
    "df.info()"
   ]
  },
  {
   "cell_type": "code",
   "execution_count": 71,
   "id": "c986fdb8",
   "metadata": {},
   "outputs": [
    {
     "data": {
      "text/plain": [
       "Airline            1650\n",
       "Source             1650\n",
       "Destination        1650\n",
       "Route              1650\n",
       "Dep_Time           1650\n",
       "Arrival_Time       1650\n",
       "Duration           1650\n",
       "Total_Stops        1609\n",
       "Additional_Info    1650\n",
       "Price              1650\n",
       "Month              1650\n",
       "WeekDay            1650\n",
       "Day                1614\n",
       "dtype: int64"
      ]
     },
     "execution_count": 71,
     "metadata": {},
     "output_type": "execute_result"
    }
   ],
   "source": [
    "# fatch all the row of data where airline is indigo\n",
    "df[(df['Airline']=='IndiGo') & ( df['Additional_Info']=='No info')].count()\n"
   ]
  },
  {
   "cell_type": "code",
   "execution_count": 72,
   "id": "e34bb855",
   "metadata": {},
   "outputs": [
    {
     "name": "stdout",
     "output_type": "stream",
     "text": [
      "                              Airline               Additional_Info  count\n",
      "0                            Air Asia   In-flight meal not included     31\n",
      "1                            Air Asia  No check-in baggage included      4\n",
      "2                            Air Asia                       No info    226\n",
      "3                           Air India                1 Long layover      3\n",
      "4                           Air India                2 Long layover      2\n",
      "5                           Air India               Change airports      3\n",
      "6                           Air India   In-flight meal not included    153\n",
      "7                           Air India  No check-in baggage included     26\n",
      "8                           Air India                       No info   1414\n",
      "9                               GoAir                1 Long layover      1\n",
      "10                              GoAir   In-flight meal not included     20\n",
      "11                              GoAir                       No info    174\n",
      "12                             IndiGo                1 Long layover      1\n",
      "13                             IndiGo               1 Short layover      1\n",
      "14                             IndiGo               Change airports      1\n",
      "15                             IndiGo   In-flight meal not included    168\n",
      "16                             IndiGo  No check-in baggage included     35\n",
      "17                             IndiGo                       No info   1650\n",
      "18                        Jet Airways                1 Long layover      6\n",
      "19                        Jet Airways               1 Short layover      1\n",
      "20                        Jet Airways                2 Long layover      1\n",
      "21                        Jet Airways                Business class      1\n",
      "22                        Jet Airways   In-flight meal not included   1132\n",
      "23                        Jet Airways  No check-in baggage included     58\n",
      "24                        Jet Airways                       No info   2119\n",
      "25               Jet Airways Business                       No info      2\n",
      "26                  Multiple carriers                1 Long layover      1\n",
      "27                  Multiple carriers   In-flight meal not included    131\n",
      "28                  Multiple carriers  No check-in baggage included     15\n",
      "29                  Multiple carriers                       No info    880\n",
      "30  Multiple carriers Premium economy   In-flight meal not included      1\n",
      "31  Multiple carriers Premium economy                       No info     11\n",
      "32                           SpiceJet                1 Long layover      1\n",
      "33                           SpiceJet   In-flight meal not included     80\n",
      "34                           SpiceJet  No check-in baggage included    149\n",
      "35                           SpiceJet                       No info    524\n",
      "36                            Vistara               Change airports      1\n",
      "37                            Vistara   In-flight meal not included     34\n",
      "38                            Vistara  No check-in baggage included     11\n",
      "39                            Vistara                       No info    377\n",
      "40            Vistara Premium economy                       No info      1\n"
     ]
    }
   ],
   "source": [
    "result = (\n",
    "    df.groupby(['Airline', 'Additional_Info'])\n",
    "      .size()\n",
    "      .reset_index(name='count')\n",
    ")\n",
    "print(result)"
   ]
  },
  {
   "cell_type": "code",
   "execution_count": 73,
   "id": "abe4548b",
   "metadata": {},
   "outputs": [
    {
     "name": "stdout",
     "output_type": "stream",
     "text": [
      "   Airline Additional_Info  count\n",
      "17  IndiGo         No info   1650\n"
     ]
    }
   ],
   "source": [
    "\n",
    "filtered_result = result[\n",
    "    (result['Airline'] == 'IndiGo') & (result['Additional_Info'] == 'No info')\n",
    "]\n",
    "print(filtered_result)"
   ]
  },
  {
   "cell_type": "code",
   "execution_count": 74,
   "id": "715bb7e9",
   "metadata": {},
   "outputs": [
    {
     "data": {
      "text/plain": [
       "Airline\n",
       "Air Asia                              261\n",
       "Air India                            1601\n",
       "GoAir                                 195\n",
       "IndiGo                               1856\n",
       "Jet Airways                          3318\n",
       "Jet Airways Business                    2\n",
       "Multiple carriers                    1027\n",
       "Multiple carriers Premium economy      12\n",
       "SpiceJet                              754\n",
       "Vistara                               423\n",
       "Vistara Premium economy                 1\n",
       "Name: Additional_Info, dtype: int64"
      ]
     },
     "execution_count": 74,
     "metadata": {},
     "output_type": "execute_result"
    }
   ],
   "source": [
    "df.groupby('Airline')['Additional_Info'].count()"
   ]
  },
  {
   "cell_type": "code",
   "execution_count": 75,
   "id": "f396d734",
   "metadata": {},
   "outputs": [
    {
     "data": {
      "text/plain": [
       "array(['In-flight meal not included', 'No info',\n",
       "       'No check-in baggage included', '1 Long layover',\n",
       "       'Change airports', '2 Long layover', '1 Short layover',\n",
       "       'Business class'], dtype=object)"
      ]
     },
     "execution_count": 75,
     "metadata": {},
     "output_type": "execute_result"
    }
   ],
   "source": [
    "df['Additional_Info'].unique()"
   ]
  },
  {
   "cell_type": "markdown",
   "id": "8beee0e3",
   "metadata": {},
   "source": [
    "### How many flights fall under airline 'Air India' and have 'No info' as additional information?"
   ]
  },
  {
   "cell_type": "code",
   "execution_count": 76,
   "id": "58c73e50",
   "metadata": {},
   "outputs": [
    {
     "data": {
      "text/html": [
       "<div>\n",
       "<style scoped>\n",
       "    .dataframe tbody tr th:only-of-type {\n",
       "        vertical-align: middle;\n",
       "    }\n",
       "\n",
       "    .dataframe tbody tr th {\n",
       "        vertical-align: top;\n",
       "    }\n",
       "\n",
       "    .dataframe thead th {\n",
       "        text-align: right;\n",
       "    }\n",
       "</style>\n",
       "<table border=\"1\" class=\"dataframe\">\n",
       "  <thead>\n",
       "    <tr style=\"text-align: right;\">\n",
       "      <th></th>\n",
       "      <th>Airline</th>\n",
       "      <th>Source</th>\n",
       "      <th>Destination</th>\n",
       "      <th>Route</th>\n",
       "      <th>Dep_Time</th>\n",
       "      <th>Arrival_Time</th>\n",
       "      <th>Duration</th>\n",
       "      <th>Total_Stops</th>\n",
       "      <th>Additional_Info</th>\n",
       "      <th>Price</th>\n",
       "      <th>Month</th>\n",
       "      <th>WeekDay</th>\n",
       "      <th>Day</th>\n",
       "    </tr>\n",
       "  </thead>\n",
       "  <tbody>\n",
       "    <tr>\n",
       "      <th>0</th>\n",
       "      <td>Jet Airways</td>\n",
       "      <td>Delhi</td>\n",
       "      <td>Banglore</td>\n",
       "      <td>DEL → BOM → COK</td>\n",
       "      <td>20:00</td>\n",
       "      <td>04:25 10 Jun</td>\n",
       "      <td>26h 35m</td>\n",
       "      <td>1 stop</td>\n",
       "      <td>In-flight meal not included</td>\n",
       "      <td>14924</td>\n",
       "      <td>6</td>\n",
       "      <td>Thursday</td>\n",
       "      <td>6.0</td>\n",
       "    </tr>\n",
       "  </tbody>\n",
       "</table>\n",
       "</div>"
      ],
      "text/plain": [
       "       Airline Source Destination            Route Dep_Time  Arrival_Time  \\\n",
       "0  Jet Airways  Delhi    Banglore  DEL → BOM → COK    20:00  04:25 10 Jun   \n",
       "\n",
       "  Duration Total_Stops              Additional_Info  Price  Month   WeekDay  \\\n",
       "0  26h 35m      1 stop  In-flight meal not included  14924      6  Thursday   \n",
       "\n",
       "   Day  \n",
       "0  6.0  "
      ]
     },
     "execution_count": 76,
     "metadata": {},
     "output_type": "execute_result"
    }
   ],
   "source": [
    "df.head(1)"
   ]
  },
  {
   "cell_type": "code",
   "execution_count": 77,
   "id": "d8253219",
   "metadata": {},
   "outputs": [],
   "source": [
    "result = ( df.groupby(['Airline','Additional_Info']).size().reset_index(name = 'count'))\n"
   ]
  },
  {
   "cell_type": "code",
   "execution_count": 78,
   "id": "7631f9d8",
   "metadata": {},
   "outputs": [
    {
     "name": "stdout",
     "output_type": "stream",
     "text": [
      "     Airline Additional_Info  count\n",
      "8  Air India         No info   1414\n"
     ]
    }
   ],
   "source": [
    "filter_result = result[\n",
    "    (result['Airline']=='Air India')\n",
    "    & (result['Additional_Info']=='No info')\n",
    "    ]\n",
    "print(filter_result)"
   ]
  },
  {
   "cell_type": "markdown",
   "id": "844de1b3",
   "metadata": {},
   "source": [
    "### Convert the values of 'Duration' into seconds. Enter the average duration (in seconds) of a flight. Enter your answer correct to two decimal places."
   ]
  },
  {
   "cell_type": "code",
   "execution_count": 79,
   "id": "9c6988b1",
   "metadata": {},
   "outputs": [
    {
     "name": "stdout",
     "output_type": "stream",
     "text": [
      "<class 'pandas.core.frame.DataFrame'>\n",
      "RangeIndex: 9450 entries, 0 to 9449\n",
      "Data columns (total 13 columns):\n",
      " #   Column           Non-Null Count  Dtype  \n",
      "---  ------           --------------  -----  \n",
      " 0   Airline          9450 non-null   object \n",
      " 1   Source           9450 non-null   object \n",
      " 2   Destination      9450 non-null   object \n",
      " 3   Route            9449 non-null   object \n",
      " 4   Dep_Time         9450 non-null   object \n",
      " 5   Arrival_Time     9450 non-null   object \n",
      " 6   Duration         9450 non-null   object \n",
      " 7   Total_Stops      9250 non-null   object \n",
      " 8   Additional_Info  9450 non-null   object \n",
      " 9   Price            9450 non-null   int64  \n",
      " 10  Month            9450 non-null   int64  \n",
      " 11  WeekDay          9450 non-null   object \n",
      " 12  Day              9214 non-null   float64\n",
      "dtypes: float64(1), int64(2), object(10)\n",
      "memory usage: 959.9+ KB\n"
     ]
    }
   ],
   "source": [
    "df.info()"
   ]
  },
  {
   "cell_type": "code",
   "execution_count": 80,
   "id": "c29bf5b8",
   "metadata": {},
   "outputs": [
    {
     "data": {
      "text/plain": [
       "Price\n",
       "10262    233\n",
       "10844    193\n",
       "7229     160\n",
       "4804     148\n",
       "4823     137\n",
       "        ... \n",
       "4860       1\n",
       "12074      1\n",
       "11306      1\n",
       "5626       1\n",
       "10278      1\n",
       "Name: count, Length: 1499, dtype: int64"
      ]
     },
     "execution_count": 80,
     "metadata": {},
     "output_type": "execute_result"
    }
   ],
   "source": [
    "df[\"Price\"].value_counts()"
   ]
  },
  {
   "cell_type": "code",
   "execution_count": 81,
   "id": "abb72c52",
   "metadata": {},
   "outputs": [],
   "source": [
    "def convert(time):\n",
    "    h = 0\n",
    "    m= 0 \n",
    "    rest = time\n",
    "    if 'h' in time:\n",
    "        h_part , rest = time.split('h', 1)\n",
    "        h = int(h_part) if h_part else 0 \n",
    "    if 'm' in rest:\n",
    "        m_part  = rest.split('m',1)[0]\n",
    "        m = int(m_part) if m_part else 0\n",
    "    return float(h*3600 + m*60)\n",
    "convert('26h 35m')\n",
    "df['duration_sec'] = df['Duration'].apply(convert)"
   ]
  },
  {
   "cell_type": "code",
   "execution_count": 82,
   "id": "87f451c8",
   "metadata": {},
   "outputs": [
    {
     "data": {
      "text/plain": [
       "'38957.94'"
      ]
     },
     "execution_count": 82,
     "metadata": {},
     "output_type": "execute_result"
    }
   ],
   "source": [
    "f\"{df['duration_sec'].mean():.2f}\""
   ]
  },
  {
   "cell_type": "code",
   "execution_count": 83,
   "id": "092fa2d4",
   "metadata": {},
   "outputs": [
    {
     "data": {
      "text/plain": [
       "38957.94"
      ]
     },
     "execution_count": 83,
     "metadata": {},
     "output_type": "execute_result"
    }
   ],
   "source": [
    "round(df['duration_sec'].mean(),2)"
   ]
  },
  {
   "cell_type": "markdown",
   "id": "92bd2f7e",
   "metadata": {},
   "source": []
  },
  {
   "cell_type": "code",
   "execution_count": 84,
   "id": "8f8187a1",
   "metadata": {},
   "outputs": [
    {
     "data": {
      "text/plain": [
       "<bound method DataFrame.isna of                 Airline    Source Destination                        Route  \\\n",
       "0           Jet Airways     Delhi    Banglore              DEL → BOM → COK   \n",
       "1           Jet Airways     Delhi      Cochin              DEL → BOM → COK   \n",
       "2           Jet Airways    Mumbai   Hyderabad                    BOM → HYD   \n",
       "3     Multiple carriers     Delhi    Banglore              DEL → BOM → COK   \n",
       "4             Air India     Delhi      Cochin                    DEL → COK   \n",
       "...                 ...       ...         ...                          ...   \n",
       "9445          Air India  Banglore      Cochin              BLR → MAA → DEL   \n",
       "9446             IndiGo     Delhi      Cochin              DEL → BOM → COK   \n",
       "9447  Multiple carriers     Delhi      Cochin              DEL → BOM → COK   \n",
       "9448        Jet Airways   Kolkata    Banglore              CCU → BOM → BLR   \n",
       "9449          Air India   Kolkata    Banglore  CCU → GAU → IMF → DEL → BLR   \n",
       "\n",
       "     Dep_Time  Arrival_Time Duration Total_Stops              Additional_Info  \\\n",
       "0       20:00  04:25 10 Jun  26h 35m      1 stop  In-flight meal not included   \n",
       "1       16:00  19:00 10 Jun      27h      1 stop  In-flight meal not included   \n",
       "2       19:35         21:05   1h 30m    non-stop                      No info   \n",
       "3       18:55  01:30 16 Jun  15h 10m      1 stop  In-flight meal not included   \n",
       "4       17:10         17:55   8h 20m    non-stop                      No info   \n",
       "...       ...           ...      ...         ...                          ...   \n",
       "9445    19:30         19:50   8h 55m      1 stop  In-flight meal not included   \n",
       "9446    17:00         21:00   8h 35m      1 stop                      No info   \n",
       "9447    07:05         19:45  15h 15m      1 stop                      No info   \n",
       "9448    08:20         19:50   12h 5m      1 stop                      No info   \n",
       "9449    14:30         23:15   8h 45m     3 stops                      No info   \n",
       "\n",
       "      Price  Month    WeekDay   Day  duration_sec  \n",
       "0     14924      6   Thursday   6.0       95700.0  \n",
       "1     10577      6     Sunday   9.0       97200.0  \n",
       "2      5678      3     Friday  15.0        5400.0  \n",
       "3      7408      5     Monday   6.0       54600.0  \n",
       "4      6724      6     Monday  24.0       30000.0  \n",
       "...     ...    ...        ...   ...           ...  \n",
       "9445   5932      6  Wednesday  12.0       32100.0  \n",
       "9446   6838      3     Sunday   3.0       30900.0  \n",
       "9447  12615      3   Saturday   9.0       54900.0  \n",
       "9448  10844      5   Saturday  18.0       43500.0  \n",
       "9449  15145      5   Thursday   9.0       31500.0  \n",
       "\n",
       "[9450 rows x 14 columns]>"
      ]
     },
     "execution_count": 84,
     "metadata": {},
     "output_type": "execute_result"
    }
   ],
   "source": [
    "df.isna"
   ]
  },
  {
   "cell_type": "markdown",
   "id": "bd3f7e2e",
   "metadata": {},
   "source": [
    "### Apply the following functions to the columns Dep_Time and Arrival_Time:\n",
    "\n",
    "Transform the values in the 'dep_time' and 'arrival_time' columns to represent the hour component. For instance, if an entry is 10:05 June 13 or 10:05, the corresponding value should be 10. \n",
    "Then convert the time into four categories as follows:\n",
    "5 <= hour < 12 = Morning \n",
    "12 <= hour < 17 = Afternoon \n",
    "17 <= hour < 20 = Evening \n",
    "20 <= hour < 5 = Night\n",
    "\n",
    "Note: Please ensure that you make the changes directly within the dataset and continue to use that modified dataset for subsequent questions."
   ]
  },
  {
   "cell_type": "code",
   "execution_count": 85,
   "id": "a9be5d35",
   "metadata": {},
   "outputs": [],
   "source": [
    "def hour(time):\n",
    "    h_split , rest = time.split(':',1)\n",
    "    h = int(h_split) if h_split else 0\n",
    "    return h\n",
    "hour('04:25 10 Jun')\n",
    "def name(h):\n",
    "    if h >= 5 and h<12:\n",
    "        return 'Morning'\n",
    "    elif h >= 12 and h <17:\n",
    "        return 'Afternoon'\n",
    "    elif h >=17 and h<20:\n",
    "        return 'Evening'\n",
    "    else:\n",
    "        return 'Night'\n",
    "        \n",
    "    \n",
    "    "
   ]
  },
  {
   "cell_type": "code",
   "execution_count": 86,
   "id": "b5f4e995",
   "metadata": {},
   "outputs": [
    {
     "data": {
      "text/plain": [
       "0       20:00\n",
       "1       16:00\n",
       "2       19:35\n",
       "3       18:55\n",
       "4       17:10\n",
       "        ...  \n",
       "9445    19:30\n",
       "9446    17:00\n",
       "9447    07:05\n",
       "9448    08:20\n",
       "9449    14:30\n",
       "Name: Dep_Time, Length: 9450, dtype: object"
      ]
     },
     "execution_count": 86,
     "metadata": {},
     "output_type": "execute_result"
    }
   ],
   "source": [
    "df['Dep_Time']"
   ]
  },
  {
   "cell_type": "code",
   "execution_count": 87,
   "id": "79691fd8",
   "metadata": {},
   "outputs": [],
   "source": [
    "df['Dep_hour']=df['Dep_Time'].apply(hour).apply(name)\n",
    "df['Arr_hour']=df['Arrival_Time'].apply(hour).apply(name)\n",
    "\n"
   ]
  },
  {
   "cell_type": "code",
   "execution_count": 88,
   "id": "74f23ea7",
   "metadata": {},
   "outputs": [
    {
     "data": {
      "text/html": [
       "<div>\n",
       "<style scoped>\n",
       "    .dataframe tbody tr th:only-of-type {\n",
       "        vertical-align: middle;\n",
       "    }\n",
       "\n",
       "    .dataframe tbody tr th {\n",
       "        vertical-align: top;\n",
       "    }\n",
       "\n",
       "    .dataframe thead th {\n",
       "        text-align: right;\n",
       "    }\n",
       "</style>\n",
       "<table border=\"1\" class=\"dataframe\">\n",
       "  <thead>\n",
       "    <tr style=\"text-align: right;\">\n",
       "      <th></th>\n",
       "      <th>Airline</th>\n",
       "      <th>Source</th>\n",
       "      <th>Destination</th>\n",
       "      <th>Route</th>\n",
       "      <th>Dep_Time</th>\n",
       "      <th>Arrival_Time</th>\n",
       "      <th>Duration</th>\n",
       "      <th>Total_Stops</th>\n",
       "      <th>Additional_Info</th>\n",
       "      <th>Price</th>\n",
       "      <th>Month</th>\n",
       "      <th>WeekDay</th>\n",
       "      <th>Day</th>\n",
       "      <th>duration_sec</th>\n",
       "      <th>Dep_hour</th>\n",
       "      <th>Arr_hour</th>\n",
       "    </tr>\n",
       "  </thead>\n",
       "  <tbody>\n",
       "    <tr>\n",
       "      <th>0</th>\n",
       "      <td>Jet Airways</td>\n",
       "      <td>Delhi</td>\n",
       "      <td>Banglore</td>\n",
       "      <td>DEL → BOM → COK</td>\n",
       "      <td>20:00</td>\n",
       "      <td>04:25 10 Jun</td>\n",
       "      <td>26h 35m</td>\n",
       "      <td>1 stop</td>\n",
       "      <td>In-flight meal not included</td>\n",
       "      <td>14924</td>\n",
       "      <td>6</td>\n",
       "      <td>Thursday</td>\n",
       "      <td>6.0</td>\n",
       "      <td>95700.0</td>\n",
       "      <td>Night</td>\n",
       "      <td>Night</td>\n",
       "    </tr>\n",
       "    <tr>\n",
       "      <th>1</th>\n",
       "      <td>Jet Airways</td>\n",
       "      <td>Delhi</td>\n",
       "      <td>Cochin</td>\n",
       "      <td>DEL → BOM → COK</td>\n",
       "      <td>16:00</td>\n",
       "      <td>19:00 10 Jun</td>\n",
       "      <td>27h</td>\n",
       "      <td>1 stop</td>\n",
       "      <td>In-flight meal not included</td>\n",
       "      <td>10577</td>\n",
       "      <td>6</td>\n",
       "      <td>Sunday</td>\n",
       "      <td>9.0</td>\n",
       "      <td>97200.0</td>\n",
       "      <td>Afternoon</td>\n",
       "      <td>Evening</td>\n",
       "    </tr>\n",
       "    <tr>\n",
       "      <th>2</th>\n",
       "      <td>Jet Airways</td>\n",
       "      <td>Mumbai</td>\n",
       "      <td>Hyderabad</td>\n",
       "      <td>BOM → HYD</td>\n",
       "      <td>19:35</td>\n",
       "      <td>21:05</td>\n",
       "      <td>1h 30m</td>\n",
       "      <td>non-stop</td>\n",
       "      <td>No info</td>\n",
       "      <td>5678</td>\n",
       "      <td>3</td>\n",
       "      <td>Friday</td>\n",
       "      <td>15.0</td>\n",
       "      <td>5400.0</td>\n",
       "      <td>Evening</td>\n",
       "      <td>Night</td>\n",
       "    </tr>\n",
       "    <tr>\n",
       "      <th>3</th>\n",
       "      <td>Multiple carriers</td>\n",
       "      <td>Delhi</td>\n",
       "      <td>Banglore</td>\n",
       "      <td>DEL → BOM → COK</td>\n",
       "      <td>18:55</td>\n",
       "      <td>01:30 16 Jun</td>\n",
       "      <td>15h 10m</td>\n",
       "      <td>1 stop</td>\n",
       "      <td>In-flight meal not included</td>\n",
       "      <td>7408</td>\n",
       "      <td>5</td>\n",
       "      <td>Monday</td>\n",
       "      <td>6.0</td>\n",
       "      <td>54600.0</td>\n",
       "      <td>Evening</td>\n",
       "      <td>Night</td>\n",
       "    </tr>\n",
       "    <tr>\n",
       "      <th>4</th>\n",
       "      <td>Air India</td>\n",
       "      <td>Delhi</td>\n",
       "      <td>Cochin</td>\n",
       "      <td>DEL → COK</td>\n",
       "      <td>17:10</td>\n",
       "      <td>17:55</td>\n",
       "      <td>8h 20m</td>\n",
       "      <td>non-stop</td>\n",
       "      <td>No info</td>\n",
       "      <td>6724</td>\n",
       "      <td>6</td>\n",
       "      <td>Monday</td>\n",
       "      <td>24.0</td>\n",
       "      <td>30000.0</td>\n",
       "      <td>Evening</td>\n",
       "      <td>Evening</td>\n",
       "    </tr>\n",
       "  </tbody>\n",
       "</table>\n",
       "</div>"
      ],
      "text/plain": [
       "             Airline  Source Destination            Route Dep_Time  \\\n",
       "0        Jet Airways   Delhi    Banglore  DEL → BOM → COK    20:00   \n",
       "1        Jet Airways   Delhi      Cochin  DEL → BOM → COK    16:00   \n",
       "2        Jet Airways  Mumbai   Hyderabad        BOM → HYD    19:35   \n",
       "3  Multiple carriers   Delhi    Banglore  DEL → BOM → COK    18:55   \n",
       "4          Air India   Delhi      Cochin        DEL → COK    17:10   \n",
       "\n",
       "   Arrival_Time Duration Total_Stops              Additional_Info  Price  \\\n",
       "0  04:25 10 Jun  26h 35m      1 stop  In-flight meal not included  14924   \n",
       "1  19:00 10 Jun      27h      1 stop  In-flight meal not included  10577   \n",
       "2         21:05   1h 30m    non-stop                      No info   5678   \n",
       "3  01:30 16 Jun  15h 10m      1 stop  In-flight meal not included   7408   \n",
       "4         17:55   8h 20m    non-stop                      No info   6724   \n",
       "\n",
       "   Month   WeekDay   Day  duration_sec   Dep_hour Arr_hour  \n",
       "0      6  Thursday   6.0       95700.0      Night    Night  \n",
       "1      6    Sunday   9.0       97200.0  Afternoon  Evening  \n",
       "2      3    Friday  15.0        5400.0    Evening    Night  \n",
       "3      5    Monday   6.0       54600.0    Evening    Night  \n",
       "4      6    Monday  24.0       30000.0    Evening  Evening  "
      ]
     },
     "execution_count": 88,
     "metadata": {},
     "output_type": "execute_result"
    }
   ],
   "source": [
    "df.head(5)"
   ]
  },
  {
   "cell_type": "markdown",
   "id": "c6b11224",
   "metadata": {},
   "source": [
    "#### How many flights started in the Morning and arrived the destination at Evening?"
   ]
  },
  {
   "cell_type": "code",
   "execution_count": 89,
   "id": "ad0e628c",
   "metadata": {},
   "outputs": [
    {
     "data": {
      "text/plain": [
       "922"
      ]
     },
     "execution_count": 89,
     "metadata": {},
     "output_type": "execute_result"
    }
   ],
   "source": [
    "((df['Dep_hour']=='Morning') & (df['Arr_hour']=='Evening')).sum()"
   ]
  },
  {
   "cell_type": "markdown",
   "id": "f7671bad",
   "metadata": {},
   "source": [
    "#### Encode the values of column 'WeekDay' as follows:\n",
    "Weekends (Sunday, Saturday) = 1\n",
    "all remaining five days = 0\n",
    "What is the most frequent (mode) WeekDay?\n",
    "\n",
    "- Weekends\n",
    "\n",
    "- Weekdays"
   ]
  },
  {
   "cell_type": "code",
   "execution_count": 90,
   "id": "64fc0717",
   "metadata": {},
   "outputs": [],
   "source": [
    "def weekends1_weekday0(day):\n",
    "    if day =='Sunday' or day == 'Saturday':\n",
    "        return 1\n",
    "    else:\n",
    "        return 0"
   ]
  },
  {
   "cell_type": "code",
   "execution_count": 91,
   "id": "8bbb2185",
   "metadata": {},
   "outputs": [
    {
     "data": {
      "text/plain": [
       "0    0\n",
       "Name: week, dtype: int64"
      ]
     },
     "execution_count": 91,
     "metadata": {},
     "output_type": "execute_result"
    }
   ],
   "source": [
    "df['week']=df['WeekDay'].apply(weekends1_weekday0)\n",
    "df['week'].mode() # most frequent is weekdays"
   ]
  },
  {
   "cell_type": "code",
   "execution_count": null,
   "id": "ee0e0b37",
   "metadata": {},
   "outputs": [],
   "source": []
  }
 ],
 "metadata": {
  "kernelspec": {
   "display_name": "Python 3",
   "language": "python",
   "name": "python3"
  },
  "language_info": {
   "codemirror_mode": {
    "name": "ipython",
    "version": 3
   },
   "file_extension": ".py",
   "mimetype": "text/x-python",
   "name": "python",
   "nbconvert_exporter": "python",
   "pygments_lexer": "ipython3",
   "version": "3.11.2"
  }
 },
 "nbformat": 4,
 "nbformat_minor": 5
}
