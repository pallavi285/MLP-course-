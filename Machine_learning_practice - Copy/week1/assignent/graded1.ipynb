{
 "cells": [
  {
   "cell_type": "markdown",
   "id": "54cefc5d",
   "metadata": {},
   "source": [
    "# GA 1 week 1"
   ]
  },
  {
   "cell_type": "markdown",
   "id": "4cd77ddd",
   "metadata": {},
   "source": [
    "## import data"
   ]
  },
  {
   "cell_type": "code",
   "execution_count": 18,
   "id": "7cc3c7af",
   "metadata": {},
   "outputs": [],
   "source": [
    "import pandas as pd\n",
    "import numpy as np"
   ]
  },
  {
   "cell_type": "code",
   "execution_count": 19,
   "id": "2c58a8fc",
   "metadata": {},
   "outputs": [],
   "source": [
    "df = pd.read_csv('Week1_GA_dataset.csv')"
   ]
  },
  {
   "cell_type": "markdown",
   "id": "e41c11f0",
   "metadata": {},
   "source": [
    "## Knowing data"
   ]
  },
  {
   "cell_type": "code",
   "execution_count": 20,
   "id": "09ab8ff6",
   "metadata": {},
   "outputs": [
    {
     "name": "stdout",
     "output_type": "stream",
     "text": [
      "<class 'pandas.core.frame.DataFrame'>\n",
      "RangeIndex: 10000 entries, 0 to 9999\n",
      "Data columns (total 12 columns):\n",
      " #   Column             Non-Null Count  Dtype  \n",
      "---  ------             --------------  -----  \n",
      " 0   Date               10000 non-null  object \n",
      " 1   Year               10000 non-null  int64  \n",
      " 2   Locality           8747 non-null   object \n",
      " 3   Estimated Value    8757 non-null   float64\n",
      " 4   Sale Price         10000 non-null  float64\n",
      " 5   Property           10000 non-null  object \n",
      " 6   Residential        10000 non-null  object \n",
      " 7   num_rooms          10000 non-null  int64  \n",
      " 8   num_bathrooms      10000 non-null  int64  \n",
      " 9   carpet_area        8771 non-null   float64\n",
      " 10  property_tax_rate  10000 non-null  float64\n",
      " 11  Face               10000 non-null  object \n",
      "dtypes: float64(4), int64(3), object(5)\n",
      "memory usage: 937.6+ KB\n"
     ]
    }
   ],
   "source": [
    "df.info()"
   ]
  },
  {
   "cell_type": "code",
   "execution_count": 21,
   "id": "5ad8aed4",
   "metadata": {},
   "outputs": [
    {
     "data": {
      "text/plain": [
       "array(['Single Family', 'Two Family', '?', 'Three Family', 'Four Family'],\n",
       "      dtype=object)"
      ]
     },
     "execution_count": 21,
     "metadata": {},
     "output_type": "execute_result"
    }
   ],
   "source": [
    "df['Property'].unique()"
   ]
  },
  {
   "cell_type": "code",
   "execution_count": 22,
   "id": "b9035e32",
   "metadata": {},
   "outputs": [
    {
     "data": {
      "text/plain": [
       "array(['Waterbury', 'Bridgeport', 'Greenwich', 'Norwalk', nan,\n",
       "       'Fairfield', 'West Hartford', 'Stamford'], dtype=object)"
      ]
     },
     "execution_count": 22,
     "metadata": {},
     "output_type": "execute_result"
    }
   ],
   "source": [
    "df['Locality'].unique()"
   ]
  },
  {
   "cell_type": "code",
   "execution_count": 23,
   "id": "b853e4a1",
   "metadata": {},
   "outputs": [
    {
     "data": {
      "text/plain": [
       "(10000, 12)"
      ]
     },
     "execution_count": 23,
     "metadata": {},
     "output_type": "execute_result"
    }
   ],
   "source": [
    "df.shape"
   ]
  },
  {
   "cell_type": "markdown",
   "id": "371c396e",
   "metadata": {},
   "source": [
    "## 1\n",
    "How many unknown (\"?) values are present in the dataset? Remove/Delete unknown (\"?) values present in the dataset to make it null value.    \n",
    "\n",
    "Remove/Delete - means it will show NAN in place of \"?\"    \n",
    "\n",
    "**Note:** If there is no value present in the dataset it is represented as NAN(read pandas documentation for all the other ways to represent null values) in data"
   ]
  },
  {
   "cell_type": "code",
   "execution_count": 24,
   "id": "a6547d56",
   "metadata": {},
   "outputs": [],
   "source": [
    "df.replace('?', np.nan,inplace=True)"
   ]
  },
  {
   "cell_type": "code",
   "execution_count": 25,
   "id": "4ca1742a",
   "metadata": {},
   "outputs": [
    {
     "data": {
      "text/plain": [
       "5548"
      ]
     },
     "execution_count": 25,
     "metadata": {},
     "output_type": "execute_result"
    }
   ],
   "source": [
    "df.isna().sum().sum()"
   ]
  },
  {
   "cell_type": "markdown",
   "id": "a3b5678b",
   "metadata": {},
   "source": [
    "## 3\n",
    "What is the value present at the 692th indexed row and 0th indexed column in the data ?\n",
    "\n",
    "dataframe[692,0] (simpy saying this in a matrix)   \n",
    "rows/ columns starts indexing from zero(0) in python"
   ]
  },
  {
   "cell_type": "code",
   "execution_count": 26,
   "id": "90dca29b",
   "metadata": {},
   "outputs": [
    {
     "data": {
      "text/plain": [
       "'2009-11-16'"
      ]
     },
     "execution_count": 26,
     "metadata": {},
     "output_type": "execute_result"
    }
   ],
   "source": [
    "df.iloc[692 , 0]"
   ]
  },
  {
   "cell_type": "markdown",
   "id": "204c51ce",
   "metadata": {},
   "source": [
    "## 4\n",
    "What is the value present at the 546th indexed row and 7th indexed column in the data ?   \n",
    "\n",
    " dataframe[546,7] (simpy saying this in a matrix)\n",
    " rows/ columns starts indexing from zero(0) in python"
   ]
  },
  {
   "cell_type": "code",
   "execution_count": 27,
   "id": "237f33e3",
   "metadata": {},
   "outputs": [
    {
     "data": {
      "text/plain": [
       "3"
      ]
     },
     "execution_count": 27,
     "metadata": {},
     "output_type": "execute_result"
    }
   ],
   "source": [
    "df.iloc[546 , 7]"
   ]
  },
  {
   "cell_type": "markdown",
   "id": "2f957afb",
   "metadata": {},
   "source": [
    "## 5\n",
    "\n",
    "What are the unique values present in the Locality feature of the dataset?\n",
    "\n",
    "- A) [Detached House, Duplex, Triplex, Fourplex]\n",
    "\n",
    "- B) [Bridgeport, Fairfield, Greenwich, Norwalk,Stamford,Waterbury, West Hartford]\n",
    "\n",
    "- C) [Boston, California, Greenwich, Stamford]\n",
    "\n",
    "- D) [West Hartford, Waterbury, Norwalk]"
   ]
  },
  {
   "cell_type": "code",
   "execution_count": 28,
   "id": "44735394",
   "metadata": {},
   "outputs": [
    {
     "data": {
      "text/plain": [
       "array(['Waterbury', 'Bridgeport', 'Greenwich', 'Norwalk', nan,\n",
       "       'Fairfield', 'West Hartford', 'Stamford'], dtype=object)"
      ]
     },
     "execution_count": 28,
     "metadata": {},
     "output_type": "execute_result"
    }
   ],
   "source": [
    "df['Locality'].unique()"
   ]
  },
  {
   "cell_type": "markdown",
   "id": "607201e6",
   "metadata": {},
   "source": [
    "## 6\n",
    "Which of the following features have missing(NaN) values present in the dataset?\n",
    "(Note: compute after removing \"?\")\n",
    "\n",
    "- A) Year\n",
    "\n",
    "- B) Estimated Value\n",
    "\n",
    "- C) Sale Price\n",
    "\n",
    "- D) Locality\n",
    "\n",
    "- E) Property\n",
    "\n",
    "- F) property_tax_rate"
   ]
  },
  {
   "cell_type": "code",
   "execution_count": 29,
   "id": "b59de5b9",
   "metadata": {},
   "outputs": [
    {
     "data": {
      "text/plain": [
       "Date                    0\n",
       "Year                    0\n",
       "Locality             1253\n",
       "Estimated Value      1243\n",
       "Sale Price              0\n",
       "Property             1823\n",
       "Residential             0\n",
       "num_rooms               0\n",
       "num_bathrooms           0\n",
       "carpet_area          1229\n",
       "property_tax_rate       0\n",
       "Face                    0\n",
       "dtype: int64"
      ]
     },
     "execution_count": 29,
     "metadata": {},
     "output_type": "execute_result"
    }
   ],
   "source": [
    "df.isna().sum()"
   ]
  },
  {
   "cell_type": "markdown",
   "id": "08c7db64",
   "metadata": {},
   "source": [
    "## 7\n",
    "Which of the following feature has most missing(NaN) values present in the dataset?\n",
    " (Note: compute after removing \"?\") \n",
    "\n",
    "- A) Locality\n",
    "\n",
    "- B) Estimated Value\n",
    "\n",
    "- C) Property\n",
    "\n",
    "- D) carpet_area"
   ]
  },
  {
   "cell_type": "code",
   "execution_count": 30,
   "id": "eaed5818",
   "metadata": {},
   "outputs": [
    {
     "data": {
      "text/plain": [
       "1823"
      ]
     },
     "execution_count": 30,
     "metadata": {},
     "output_type": "execute_result"
    }
   ],
   "source": [
    "df.isna().sum().max()"
   ]
  },
  {
   "cell_type": "markdown",
   "id": "d9004ad0",
   "metadata": {},
   "source": [
    "## 8 \n",
    " Drop all the samples(rows) with missing values strictly greater than 2. \n",
    "How many samples remains after that ?\n",
    " (Note: compute after removing \"?\") "
   ]
  },
  {
   "cell_type": "code",
   "execution_count": 31,
   "id": "164e7922",
   "metadata": {},
   "outputs": [],
   "source": [
    "df_cleaned = df[df.isna().sum(axis= 1)<2]"
   ]
  },
  {
   "cell_type": "code",
   "execution_count": 32,
   "id": "75a8771b",
   "metadata": {},
   "outputs": [
    {
     "data": {
      "text/plain": [
       "9086"
      ]
     },
     "execution_count": 32,
     "metadata": {},
     "output_type": "execute_result"
    }
   ],
   "source": [
    "df_cleaned.shape[0]"
   ]
  },
  {
   "cell_type": "markdown",
   "id": "d2082b40",
   "metadata": {},
   "source": [
    "## 9\n",
    "Drop all the samples(rows) with missing values in the original dataframe. How many samples remains after that ?\n",
    " (Note: compute after removing \"?\") "
   ]
  },
  {
   "cell_type": "code",
   "execution_count": 33,
   "id": "1fc75cba",
   "metadata": {},
   "outputs": [
    {
     "data": {
      "text/plain": [
       "(5449, 12)"
      ]
     },
     "execution_count": 33,
     "metadata": {},
     "output_type": "execute_result"
    }
   ],
   "source": [
    "df.dropna().shape"
   ]
  }
 ],
 "metadata": {
  "kernelspec": {
   "display_name": "Python 3",
   "language": "python",
   "name": "python3"
  },
  "language_info": {
   "codemirror_mode": {
    "name": "ipython",
    "version": 3
   },
   "file_extension": ".py",
   "mimetype": "text/x-python",
   "name": "python",
   "nbconvert_exporter": "python",
   "pygments_lexer": "ipython3",
   "version": "3.11.2"
  }
 },
 "nbformat": 4,
 "nbformat_minor": 5
}
