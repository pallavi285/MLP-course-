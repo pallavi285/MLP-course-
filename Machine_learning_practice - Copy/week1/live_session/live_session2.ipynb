{
 "cells": [
  {
   "cell_type": "markdown",
   "id": "2df1bff0",
   "metadata": {},
   "source": [
    "## diff between numpy and pandas"
   ]
  },
  {
   "cell_type": "markdown",
   "id": "f8382cd0",
   "metadata": {},
   "source": [
    "## data"
   ]
  },
  {
   "cell_type": "code",
   "execution_count": 166,
   "id": "16d9d35c",
   "metadata": {},
   "outputs": [],
   "source": [
    "import pandas as pd\n",
    "import numpy as np"
   ]
  },
  {
   "cell_type": "code",
   "execution_count": 167,
   "id": "63942140",
   "metadata": {},
   "outputs": [],
   "source": [
    "np.random.seed(42)\n",
    "dates = pd.date_range('2023-01-01', '2023-03-31')\n",
    "products = ['Laptop', 'Phone', 'Tablet', 'Monitor', 'Keyboard']\n",
    "regions = ['North', 'South', 'East', 'West']\n",
    "\n",
    "sales_data = pd.DataFrame({\n",
    "    'Date': np.random.choice(dates, 500),\n",
    "    'Product': np.random.choice(products, 500),\n",
    "    'Region': np.random.choice(regions, 500),\n",
    "    'Units_Sold': np.random.randint(1, 20, 500),\n",
    "    'Unit_Price': np.random.uniform(100, 2000, 500).round(2),\n",
    "    'Customer_ID': np.random.randint(1000, 1100, 500)\n",
    "})\n",
    "sales_data['Total_Sales'] = sales_data['Units_Sold'] * sales_data['Unit_Price']"
   ]
  },
  {
   "cell_type": "code",
   "execution_count": 168,
   "id": "244e9000",
   "metadata": {},
   "outputs": [],
   "source": [
    "df = sales_data"
   ]
  },
  {
   "cell_type": "code",
   "execution_count": 169,
   "id": "9d1fb5da",
   "metadata": {},
   "outputs": [
    {
     "data": {
      "text/plain": [
       "(500, 7)"
      ]
     },
     "execution_count": 169,
     "metadata": {},
     "output_type": "execute_result"
    }
   ],
   "source": [
    "df.shape"
   ]
  },
  {
   "cell_type": "code",
   "execution_count": 170,
   "id": "415dce73",
   "metadata": {},
   "outputs": [
    {
     "name": "stdout",
     "output_type": "stream",
     "text": [
      "<class 'pandas.core.frame.DataFrame'>\n",
      "RangeIndex: 500 entries, 0 to 499\n",
      "Data columns (total 7 columns):\n",
      " #   Column       Non-Null Count  Dtype         \n",
      "---  ------       --------------  -----         \n",
      " 0   Date         500 non-null    datetime64[ns]\n",
      " 1   Product      500 non-null    object        \n",
      " 2   Region       500 non-null    object        \n",
      " 3   Units_Sold   500 non-null    int32         \n",
      " 4   Unit_Price   500 non-null    float64       \n",
      " 5   Customer_ID  500 non-null    int32         \n",
      " 6   Total_Sales  500 non-null    float64       \n",
      "dtypes: datetime64[ns](1), float64(2), int32(2), object(2)\n",
      "memory usage: 23.6+ KB\n"
     ]
    }
   ],
   "source": [
    "df.info()"
   ]
  },
  {
   "cell_type": "code",
   "execution_count": 171,
   "id": "bb80d3d3",
   "metadata": {},
   "outputs": [
    {
     "data": {
      "text/plain": [
       "Units_Sold     500\n",
       "Unit_Price     500\n",
       "Customer_ID    500\n",
       "Total_Sales    500\n",
       "dtype: int64"
      ]
     },
     "execution_count": 171,
     "metadata": {},
     "output_type": "execute_result"
    }
   ],
   "source": [
    "df.select_dtypes('number').count()"
   ]
  },
  {
   "cell_type": "code",
   "execution_count": 172,
   "id": "0714d761",
   "metadata": {},
   "outputs": [
    {
     "data": {
      "text/plain": [
       "Product    500\n",
       "Region     500\n",
       "dtype: int64"
      ]
     },
     "execution_count": 172,
     "metadata": {},
     "output_type": "execute_result"
    }
   ],
   "source": [
    "df.select_dtypes('object').count()"
   ]
  },
  {
   "cell_type": "markdown",
   "id": "9afa259d",
   "metadata": {},
   "source": [
    "## Question"
   ]
  },
  {
   "cell_type": "markdown",
   "id": "edc59aa0",
   "metadata": {},
   "source": [
    "### Select sales of 'Laptop' or 'Phone' with more than 10 units sold"
   ]
  },
  {
   "cell_type": "markdown",
   "id": "8f2e37f4",
   "metadata": {},
   "source": [
    "- | for or\n",
    "- & for and\n",
    "- ~ for not"
   ]
  },
  {
   "cell_type": "code",
   "execution_count": 173,
   "id": "19a509aa",
   "metadata": {},
   "outputs": [
    {
     "data": {
      "text/html": [
       "<div>\n",
       "<style scoped>\n",
       "    .dataframe tbody tr th:only-of-type {\n",
       "        vertical-align: middle;\n",
       "    }\n",
       "\n",
       "    .dataframe tbody tr th {\n",
       "        vertical-align: top;\n",
       "    }\n",
       "\n",
       "    .dataframe thead th {\n",
       "        text-align: right;\n",
       "    }\n",
       "</style>\n",
       "<table border=\"1\" class=\"dataframe\">\n",
       "  <thead>\n",
       "    <tr style=\"text-align: right;\">\n",
       "      <th></th>\n",
       "      <th>Date</th>\n",
       "      <th>Product</th>\n",
       "      <th>Region</th>\n",
       "      <th>Units_Sold</th>\n",
       "      <th>Unit_Price</th>\n",
       "      <th>Customer_ID</th>\n",
       "      <th>Total_Sales</th>\n",
       "    </tr>\n",
       "  </thead>\n",
       "  <tbody>\n",
       "    <tr>\n",
       "      <th>7</th>\n",
       "      <td>2023-03-16</td>\n",
       "      <td>Laptop</td>\n",
       "      <td>East</td>\n",
       "      <td>7</td>\n",
       "      <td>352.16</td>\n",
       "      <td>1033</td>\n",
       "      <td>2465.12</td>\n",
       "    </tr>\n",
       "    <tr>\n",
       "      <th>8</th>\n",
       "      <td>2023-03-16</td>\n",
       "      <td>Phone</td>\n",
       "      <td>North</td>\n",
       "      <td>17</td>\n",
       "      <td>372.73</td>\n",
       "      <td>1029</td>\n",
       "      <td>6336.41</td>\n",
       "    </tr>\n",
       "    <tr>\n",
       "      <th>10</th>\n",
       "      <td>2023-01-24</td>\n",
       "      <td>Phone</td>\n",
       "      <td>West</td>\n",
       "      <td>14</td>\n",
       "      <td>1492.51</td>\n",
       "      <td>1018</td>\n",
       "      <td>20895.14</td>\n",
       "    </tr>\n",
       "    <tr>\n",
       "      <th>11</th>\n",
       "      <td>2023-01-03</td>\n",
       "      <td>Phone</td>\n",
       "      <td>South</td>\n",
       "      <td>15</td>\n",
       "      <td>408.53</td>\n",
       "      <td>1030</td>\n",
       "      <td>6127.95</td>\n",
       "    </tr>\n",
       "    <tr>\n",
       "      <th>15</th>\n",
       "      <td>2023-03-29</td>\n",
       "      <td>Laptop</td>\n",
       "      <td>East</td>\n",
       "      <td>16</td>\n",
       "      <td>545.67</td>\n",
       "      <td>1048</td>\n",
       "      <td>8730.72</td>\n",
       "    </tr>\n",
       "    <tr>\n",
       "      <th>...</th>\n",
       "      <td>...</td>\n",
       "      <td>...</td>\n",
       "      <td>...</td>\n",
       "      <td>...</td>\n",
       "      <td>...</td>\n",
       "      <td>...</td>\n",
       "      <td>...</td>\n",
       "    </tr>\n",
       "    <tr>\n",
       "      <th>484</th>\n",
       "      <td>2023-02-19</td>\n",
       "      <td>Laptop</td>\n",
       "      <td>West</td>\n",
       "      <td>5</td>\n",
       "      <td>336.96</td>\n",
       "      <td>1034</td>\n",
       "      <td>1684.80</td>\n",
       "    </tr>\n",
       "    <tr>\n",
       "      <th>485</th>\n",
       "      <td>2023-02-04</td>\n",
       "      <td>Laptop</td>\n",
       "      <td>West</td>\n",
       "      <td>1</td>\n",
       "      <td>832.21</td>\n",
       "      <td>1010</td>\n",
       "      <td>832.21</td>\n",
       "    </tr>\n",
       "    <tr>\n",
       "      <th>486</th>\n",
       "      <td>2023-02-02</td>\n",
       "      <td>Laptop</td>\n",
       "      <td>East</td>\n",
       "      <td>3</td>\n",
       "      <td>1322.39</td>\n",
       "      <td>1063</td>\n",
       "      <td>3967.17</td>\n",
       "    </tr>\n",
       "    <tr>\n",
       "      <th>493</th>\n",
       "      <td>2023-03-06</td>\n",
       "      <td>Phone</td>\n",
       "      <td>South</td>\n",
       "      <td>14</td>\n",
       "      <td>155.24</td>\n",
       "      <td>1066</td>\n",
       "      <td>2173.36</td>\n",
       "    </tr>\n",
       "    <tr>\n",
       "      <th>496</th>\n",
       "      <td>2023-03-15</td>\n",
       "      <td>Laptop</td>\n",
       "      <td>West</td>\n",
       "      <td>18</td>\n",
       "      <td>836.58</td>\n",
       "      <td>1072</td>\n",
       "      <td>15058.44</td>\n",
       "    </tr>\n",
       "  </tbody>\n",
       "</table>\n",
       "<p>155 rows × 7 columns</p>\n",
       "</div>"
      ],
      "text/plain": [
       "          Date Product Region  Units_Sold  Unit_Price  Customer_ID  \\\n",
       "7   2023-03-16  Laptop   East           7      352.16         1033   \n",
       "8   2023-03-16   Phone  North          17      372.73         1029   \n",
       "10  2023-01-24   Phone   West          14     1492.51         1018   \n",
       "11  2023-01-03   Phone  South          15      408.53         1030   \n",
       "15  2023-03-29  Laptop   East          16      545.67         1048   \n",
       "..         ...     ...    ...         ...         ...          ...   \n",
       "484 2023-02-19  Laptop   West           5      336.96         1034   \n",
       "485 2023-02-04  Laptop   West           1      832.21         1010   \n",
       "486 2023-02-02  Laptop   East           3     1322.39         1063   \n",
       "493 2023-03-06   Phone  South          14      155.24         1066   \n",
       "496 2023-03-15  Laptop   West          18      836.58         1072   \n",
       "\n",
       "     Total_Sales  \n",
       "7        2465.12  \n",
       "8        6336.41  \n",
       "10      20895.14  \n",
       "11       6127.95  \n",
       "15       8730.72  \n",
       "..           ...  \n",
       "484      1684.80  \n",
       "485       832.21  \n",
       "486      3967.17  \n",
       "493      2173.36  \n",
       "496     15058.44  \n",
       "\n",
       "[155 rows x 7 columns]"
      ]
     },
     "execution_count": 173,
     "metadata": {},
     "output_type": "execute_result"
    }
   ],
   "source": [
    "df[(df['Product']==\"Laptop\") | (df['Product']==\"Phone\") & (df['Units_Sold']>10)]"
   ]
  },
  {
   "cell_type": "markdown",
   "id": "fc23a199",
   "metadata": {},
   "source": [
    "### Sales from north region"
   ]
  },
  {
   "cell_type": "code",
   "execution_count": 174,
   "id": "fd2a0a45",
   "metadata": {},
   "outputs": [
    {
     "data": {
      "text/plain": [
       "array(['North', 'South', 'East', 'West'], dtype=object)"
      ]
     },
     "execution_count": 174,
     "metadata": {},
     "output_type": "execute_result"
    }
   ],
   "source": [
    "df['Region'].unique()"
   ]
  },
  {
   "cell_type": "code",
   "execution_count": 175,
   "id": "d0873a0c",
   "metadata": {},
   "outputs": [
    {
     "data": {
      "text/html": [
       "<div>\n",
       "<style scoped>\n",
       "    .dataframe tbody tr th:only-of-type {\n",
       "        vertical-align: middle;\n",
       "    }\n",
       "\n",
       "    .dataframe tbody tr th {\n",
       "        vertical-align: top;\n",
       "    }\n",
       "\n",
       "    .dataframe thead th {\n",
       "        text-align: right;\n",
       "    }\n",
       "</style>\n",
       "<table border=\"1\" class=\"dataframe\">\n",
       "  <thead>\n",
       "    <tr style=\"text-align: right;\">\n",
       "      <th></th>\n",
       "      <th>Date</th>\n",
       "      <th>Product</th>\n",
       "      <th>Region</th>\n",
       "      <th>Units_Sold</th>\n",
       "      <th>Unit_Price</th>\n",
       "      <th>Customer_ID</th>\n",
       "      <th>Total_Sales</th>\n",
       "    </tr>\n",
       "  </thead>\n",
       "  <tbody>\n",
       "    <tr>\n",
       "      <th>0</th>\n",
       "      <td>2023-02-21</td>\n",
       "      <td>Keyboard</td>\n",
       "      <td>North</td>\n",
       "      <td>12</td>\n",
       "      <td>1948.89</td>\n",
       "      <td>1002</td>\n",
       "      <td>23386.68</td>\n",
       "    </tr>\n",
       "    <tr>\n",
       "      <th>2</th>\n",
       "      <td>2023-03-13</td>\n",
       "      <td>Phone</td>\n",
       "      <td>North</td>\n",
       "      <td>9</td>\n",
       "      <td>583.03</td>\n",
       "      <td>1079</td>\n",
       "      <td>5247.27</td>\n",
       "    </tr>\n",
       "    <tr>\n",
       "      <th>3</th>\n",
       "      <td>2023-03-02</td>\n",
       "      <td>Keyboard</td>\n",
       "      <td>North</td>\n",
       "      <td>13</td>\n",
       "      <td>1091.29</td>\n",
       "      <td>1057</td>\n",
       "      <td>14186.77</td>\n",
       "    </tr>\n",
       "    <tr>\n",
       "      <th>4</th>\n",
       "      <td>2023-01-21</td>\n",
       "      <td>Tablet</td>\n",
       "      <td>North</td>\n",
       "      <td>15</td>\n",
       "      <td>751.04</td>\n",
       "      <td>1054</td>\n",
       "      <td>11265.60</td>\n",
       "    </tr>\n",
       "    <tr>\n",
       "      <th>5</th>\n",
       "      <td>2023-03-24</td>\n",
       "      <td>Phone</td>\n",
       "      <td>North</td>\n",
       "      <td>10</td>\n",
       "      <td>1111.27</td>\n",
       "      <td>1003</td>\n",
       "      <td>11112.70</td>\n",
       "    </tr>\n",
       "    <tr>\n",
       "      <th>...</th>\n",
       "      <td>...</td>\n",
       "      <td>...</td>\n",
       "      <td>...</td>\n",
       "      <td>...</td>\n",
       "      <td>...</td>\n",
       "      <td>...</td>\n",
       "      <td>...</td>\n",
       "    </tr>\n",
       "    <tr>\n",
       "      <th>489</th>\n",
       "      <td>2023-02-20</td>\n",
       "      <td>Tablet</td>\n",
       "      <td>North</td>\n",
       "      <td>5</td>\n",
       "      <td>361.86</td>\n",
       "      <td>1020</td>\n",
       "      <td>1809.30</td>\n",
       "    </tr>\n",
       "    <tr>\n",
       "      <th>490</th>\n",
       "      <td>2023-02-12</td>\n",
       "      <td>Tablet</td>\n",
       "      <td>North</td>\n",
       "      <td>1</td>\n",
       "      <td>1359.78</td>\n",
       "      <td>1068</td>\n",
       "      <td>1359.78</td>\n",
       "    </tr>\n",
       "    <tr>\n",
       "      <th>492</th>\n",
       "      <td>2023-03-08</td>\n",
       "      <td>Tablet</td>\n",
       "      <td>North</td>\n",
       "      <td>19</td>\n",
       "      <td>438.91</td>\n",
       "      <td>1019</td>\n",
       "      <td>8339.29</td>\n",
       "    </tr>\n",
       "    <tr>\n",
       "      <th>497</th>\n",
       "      <td>2023-02-12</td>\n",
       "      <td>Monitor</td>\n",
       "      <td>North</td>\n",
       "      <td>11</td>\n",
       "      <td>864.42</td>\n",
       "      <td>1060</td>\n",
       "      <td>9508.62</td>\n",
       "    </tr>\n",
       "    <tr>\n",
       "      <th>499</th>\n",
       "      <td>2023-01-29</td>\n",
       "      <td>Monitor</td>\n",
       "      <td>North</td>\n",
       "      <td>18</td>\n",
       "      <td>1069.21</td>\n",
       "      <td>1067</td>\n",
       "      <td>19245.78</td>\n",
       "    </tr>\n",
       "  </tbody>\n",
       "</table>\n",
       "<p>134 rows × 7 columns</p>\n",
       "</div>"
      ],
      "text/plain": [
       "          Date   Product Region  Units_Sold  Unit_Price  Customer_ID  \\\n",
       "0   2023-02-21  Keyboard  North          12     1948.89         1002   \n",
       "2   2023-03-13     Phone  North           9      583.03         1079   \n",
       "3   2023-03-02  Keyboard  North          13     1091.29         1057   \n",
       "4   2023-01-21    Tablet  North          15      751.04         1054   \n",
       "5   2023-03-24     Phone  North          10     1111.27         1003   \n",
       "..         ...       ...    ...         ...         ...          ...   \n",
       "489 2023-02-20    Tablet  North           5      361.86         1020   \n",
       "490 2023-02-12    Tablet  North           1     1359.78         1068   \n",
       "492 2023-03-08    Tablet  North          19      438.91         1019   \n",
       "497 2023-02-12   Monitor  North          11      864.42         1060   \n",
       "499 2023-01-29   Monitor  North          18     1069.21         1067   \n",
       "\n",
       "     Total_Sales  \n",
       "0       23386.68  \n",
       "2        5247.27  \n",
       "3       14186.77  \n",
       "4       11265.60  \n",
       "5       11112.70  \n",
       "..           ...  \n",
       "489      1809.30  \n",
       "490      1359.78  \n",
       "492      8339.29  \n",
       "497      9508.62  \n",
       "499     19245.78  \n",
       "\n",
       "[134 rows x 7 columns]"
      ]
     },
     "execution_count": 175,
     "metadata": {},
     "output_type": "execute_result"
    }
   ],
   "source": [
    "df[df['Region']=='North']"
   ]
  },
  {
   "cell_type": "markdown",
   "id": "9c55b3f8",
   "metadata": {},
   "source": [
    "### Select columns 'Product', 'Region', and 'Total_Sales' for all records"
   ]
  },
  {
   "cell_type": "code",
   "execution_count": 176,
   "id": "5a18b4fc",
   "metadata": {},
   "outputs": [
    {
     "data": {
      "text/html": [
       "<div>\n",
       "<style scoped>\n",
       "    .dataframe tbody tr th:only-of-type {\n",
       "        vertical-align: middle;\n",
       "    }\n",
       "\n",
       "    .dataframe tbody tr th {\n",
       "        vertical-align: top;\n",
       "    }\n",
       "\n",
       "    .dataframe thead th {\n",
       "        text-align: right;\n",
       "    }\n",
       "</style>\n",
       "<table border=\"1\" class=\"dataframe\">\n",
       "  <thead>\n",
       "    <tr style=\"text-align: right;\">\n",
       "      <th></th>\n",
       "      <th>Product</th>\n",
       "      <th>Region</th>\n",
       "      <th>Total_Sales</th>\n",
       "    </tr>\n",
       "  </thead>\n",
       "  <tbody>\n",
       "    <tr>\n",
       "      <th>0</th>\n",
       "      <td>Keyboard</td>\n",
       "      <td>North</td>\n",
       "      <td>23386.68</td>\n",
       "    </tr>\n",
       "    <tr>\n",
       "      <th>1</th>\n",
       "      <td>Monitor</td>\n",
       "      <td>South</td>\n",
       "      <td>18033.15</td>\n",
       "    </tr>\n",
       "    <tr>\n",
       "      <th>2</th>\n",
       "      <td>Phone</td>\n",
       "      <td>North</td>\n",
       "      <td>5247.27</td>\n",
       "    </tr>\n",
       "    <tr>\n",
       "      <th>3</th>\n",
       "      <td>Keyboard</td>\n",
       "      <td>North</td>\n",
       "      <td>14186.77</td>\n",
       "    </tr>\n",
       "    <tr>\n",
       "      <th>4</th>\n",
       "      <td>Tablet</td>\n",
       "      <td>North</td>\n",
       "      <td>11265.60</td>\n",
       "    </tr>\n",
       "    <tr>\n",
       "      <th>...</th>\n",
       "      <td>...</td>\n",
       "      <td>...</td>\n",
       "      <td>...</td>\n",
       "    </tr>\n",
       "    <tr>\n",
       "      <th>495</th>\n",
       "      <td>Keyboard</td>\n",
       "      <td>South</td>\n",
       "      <td>4445.10</td>\n",
       "    </tr>\n",
       "    <tr>\n",
       "      <th>496</th>\n",
       "      <td>Laptop</td>\n",
       "      <td>West</td>\n",
       "      <td>15058.44</td>\n",
       "    </tr>\n",
       "    <tr>\n",
       "      <th>497</th>\n",
       "      <td>Monitor</td>\n",
       "      <td>North</td>\n",
       "      <td>9508.62</td>\n",
       "    </tr>\n",
       "    <tr>\n",
       "      <th>498</th>\n",
       "      <td>Tablet</td>\n",
       "      <td>South</td>\n",
       "      <td>3522.20</td>\n",
       "    </tr>\n",
       "    <tr>\n",
       "      <th>499</th>\n",
       "      <td>Monitor</td>\n",
       "      <td>North</td>\n",
       "      <td>19245.78</td>\n",
       "    </tr>\n",
       "  </tbody>\n",
       "</table>\n",
       "<p>500 rows × 3 columns</p>\n",
       "</div>"
      ],
      "text/plain": [
       "      Product Region  Total_Sales\n",
       "0    Keyboard  North     23386.68\n",
       "1     Monitor  South     18033.15\n",
       "2       Phone  North      5247.27\n",
       "3    Keyboard  North     14186.77\n",
       "4      Tablet  North     11265.60\n",
       "..        ...    ...          ...\n",
       "495  Keyboard  South      4445.10\n",
       "496    Laptop   West     15058.44\n",
       "497   Monitor  North      9508.62\n",
       "498    Tablet  South      3522.20\n",
       "499   Monitor  North     19245.78\n",
       "\n",
       "[500 rows x 3 columns]"
      ]
     },
     "execution_count": 176,
     "metadata": {},
     "output_type": "execute_result"
    }
   ],
   "source": [
    "df[['Product','Region','Total_Sales']]"
   ]
  },
  {
   "cell_type": "markdown",
   "id": "7fc8f818",
   "metadata": {},
   "source": [
    "## Question **Grouping Operations:**"
   ]
  },
  {
   "cell_type": "markdown",
   "id": "dedc3a7b",
   "metadata": {},
   "source": [
    "### Group by operation"
   ]
  },
  {
   "cell_type": "code",
   "execution_count": 177,
   "id": "54bd57cd",
   "metadata": {},
   "outputs": [
    {
     "data": {
      "text/plain": [
       "Region\n",
       "East     128\n",
       "North    134\n",
       "South    127\n",
       "West     111\n",
       "Name: Product, dtype: int64"
      ]
     },
     "execution_count": 177,
     "metadata": {},
     "output_type": "execute_result"
    }
   ],
   "source": [
    "df.groupby('Region')['Product'].count()"
   ]
  },
  {
   "cell_type": "markdown",
   "id": "2ad8a3cb",
   "metadata": {},
   "source": [
    "### Find the total sales by product"
   ]
  },
  {
   "cell_type": "code",
   "execution_count": 178,
   "id": "8934ffd7",
   "metadata": {},
   "outputs": [
    {
     "name": "stdout",
     "output_type": "stream",
     "text": [
      "<class 'pandas.core.frame.DataFrame'>\n",
      "RangeIndex: 500 entries, 0 to 499\n",
      "Data columns (total 7 columns):\n",
      " #   Column       Non-Null Count  Dtype         \n",
      "---  ------       --------------  -----         \n",
      " 0   Date         500 non-null    datetime64[ns]\n",
      " 1   Product      500 non-null    object        \n",
      " 2   Region       500 non-null    object        \n",
      " 3   Units_Sold   500 non-null    int32         \n",
      " 4   Unit_Price   500 non-null    float64       \n",
      " 5   Customer_ID  500 non-null    int32         \n",
      " 6   Total_Sales  500 non-null    float64       \n",
      "dtypes: datetime64[ns](1), float64(2), int32(2), object(2)\n",
      "memory usage: 23.6+ KB\n"
     ]
    }
   ],
   "source": [
    "df.info()"
   ]
  },
  {
   "cell_type": "code",
   "execution_count": 179,
   "id": "f0266de9",
   "metadata": {},
   "outputs": [
    {
     "data": {
      "text/plain": [
       "Product\n",
       "Keyboard    1074551.96\n",
       "Laptop      1199835.35\n",
       "Monitor      950987.34\n",
       "Phone        959547.49\n",
       "Tablet       988081.01\n",
       "Name: Total_Sales, dtype: float64"
      ]
     },
     "execution_count": 179,
     "metadata": {},
     "output_type": "execute_result"
    }
   ],
   "source": [
    "df.groupby('Product')['Total_Sales'].sum()"
   ]
  },
  {
   "cell_type": "code",
   "execution_count": 180,
   "id": "2e58080a",
   "metadata": {},
   "outputs": [
    {
     "data": {
      "text/plain": [
       "Product\n",
       "Keyboard    110\n",
       "Laptop      107\n",
       "Monitor      90\n",
       "Phone        97\n",
       "Tablet       96\n",
       "Name: Total_Sales, dtype: int64"
      ]
     },
     "execution_count": 180,
     "metadata": {},
     "output_type": "execute_result"
    }
   ],
   "source": [
    "df.groupby('Product')['Total_Sales'].count()"
   ]
  },
  {
   "cell_type": "code",
   "execution_count": 181,
   "id": "296fabbf",
   "metadata": {},
   "outputs": [
    {
     "data": {
      "text/plain": [
       "array(['Keyboard', 'Monitor', 'Phone', 'Tablet', 'Laptop'], dtype=object)"
      ]
     },
     "execution_count": 181,
     "metadata": {},
     "output_type": "execute_result"
    }
   ],
   "source": [
    "df['Product'].unique()"
   ]
  },
  {
   "cell_type": "markdown",
   "id": "82287438",
   "metadata": {},
   "source": [
    "### Calculate the average units sold by region"
   ]
  },
  {
   "cell_type": "code",
   "execution_count": null,
   "id": "18403f50",
   "metadata": {},
   "outputs": [],
   "source": []
  },
  {
   "cell_type": "markdown",
   "id": "67f6903a",
   "metadata": {},
   "source": [
    "### Find the top 3 customers by total spending"
   ]
  },
  {
   "cell_type": "code",
   "execution_count": 182,
   "id": "3b09d63d",
   "metadata": {},
   "outputs": [
    {
     "data": {
      "text/plain": [
       "Customer_ID\n",
       "1066      4486.09\n",
       "1012      6021.82\n",
       "1053      8879.71\n",
       "1017      9147.48\n",
       "1064     11376.84\n",
       "          ...    \n",
       "1034    105255.55\n",
       "1085    106438.14\n",
       "1063    121376.18\n",
       "1013    124894.36\n",
       "1047    127658.62\n",
       "Name: Total_Sales, Length: 98, dtype: float64"
      ]
     },
     "execution_count": 182,
     "metadata": {},
     "output_type": "execute_result"
    }
   ],
   "source": [
    "df.groupby('Customer_ID')['Total_Sales'].sum().sort_values()"
   ]
  },
  {
   "cell_type": "code",
   "execution_count": 183,
   "id": "633af08b",
   "metadata": {},
   "outputs": [
    {
     "data": {
      "text/plain": [
       "Customer_ID\n",
       "1047    127658.62\n",
       "1013    124894.36\n",
       "1063    121376.18\n",
       "Name: Total_Sales, dtype: float64"
      ]
     },
     "execution_count": 183,
     "metadata": {},
     "output_type": "execute_result"
    }
   ],
   "source": [
    "df.groupby('Customer_ID')['Total_Sales'].sum().sort_values(ascending = False).head(3)"
   ]
  },
  {
   "cell_type": "markdown",
   "id": "e86e89bd",
   "metadata": {},
   "source": [
    "## Is Nan"
   ]
  },
  {
   "cell_type": "code",
   "execution_count": 184,
   "id": "e7243a1b",
   "metadata": {},
   "outputs": [
    {
     "data": {
      "text/html": [
       "<div>\n",
       "<style scoped>\n",
       "    .dataframe tbody tr th:only-of-type {\n",
       "        vertical-align: middle;\n",
       "    }\n",
       "\n",
       "    .dataframe tbody tr th {\n",
       "        vertical-align: top;\n",
       "    }\n",
       "\n",
       "    .dataframe thead th {\n",
       "        text-align: right;\n",
       "    }\n",
       "</style>\n",
       "<table border=\"1\" class=\"dataframe\">\n",
       "  <thead>\n",
       "    <tr style=\"text-align: right;\">\n",
       "      <th></th>\n",
       "      <th>Date</th>\n",
       "      <th>Product</th>\n",
       "      <th>Region</th>\n",
       "      <th>Units_Sold</th>\n",
       "      <th>Unit_Price</th>\n",
       "      <th>Customer_ID</th>\n",
       "      <th>Total_Sales</th>\n",
       "    </tr>\n",
       "  </thead>\n",
       "  <tbody>\n",
       "    <tr>\n",
       "      <th>0</th>\n",
       "      <td>False</td>\n",
       "      <td>False</td>\n",
       "      <td>False</td>\n",
       "      <td>False</td>\n",
       "      <td>False</td>\n",
       "      <td>False</td>\n",
       "      <td>False</td>\n",
       "    </tr>\n",
       "    <tr>\n",
       "      <th>1</th>\n",
       "      <td>False</td>\n",
       "      <td>False</td>\n",
       "      <td>False</td>\n",
       "      <td>False</td>\n",
       "      <td>False</td>\n",
       "      <td>False</td>\n",
       "      <td>False</td>\n",
       "    </tr>\n",
       "    <tr>\n",
       "      <th>2</th>\n",
       "      <td>False</td>\n",
       "      <td>False</td>\n",
       "      <td>False</td>\n",
       "      <td>False</td>\n",
       "      <td>False</td>\n",
       "      <td>False</td>\n",
       "      <td>False</td>\n",
       "    </tr>\n",
       "    <tr>\n",
       "      <th>3</th>\n",
       "      <td>False</td>\n",
       "      <td>False</td>\n",
       "      <td>False</td>\n",
       "      <td>False</td>\n",
       "      <td>False</td>\n",
       "      <td>False</td>\n",
       "      <td>False</td>\n",
       "    </tr>\n",
       "    <tr>\n",
       "      <th>4</th>\n",
       "      <td>False</td>\n",
       "      <td>False</td>\n",
       "      <td>False</td>\n",
       "      <td>False</td>\n",
       "      <td>False</td>\n",
       "      <td>False</td>\n",
       "      <td>False</td>\n",
       "    </tr>\n",
       "    <tr>\n",
       "      <th>...</th>\n",
       "      <td>...</td>\n",
       "      <td>...</td>\n",
       "      <td>...</td>\n",
       "      <td>...</td>\n",
       "      <td>...</td>\n",
       "      <td>...</td>\n",
       "      <td>...</td>\n",
       "    </tr>\n",
       "    <tr>\n",
       "      <th>495</th>\n",
       "      <td>False</td>\n",
       "      <td>False</td>\n",
       "      <td>False</td>\n",
       "      <td>False</td>\n",
       "      <td>False</td>\n",
       "      <td>False</td>\n",
       "      <td>False</td>\n",
       "    </tr>\n",
       "    <tr>\n",
       "      <th>496</th>\n",
       "      <td>False</td>\n",
       "      <td>False</td>\n",
       "      <td>False</td>\n",
       "      <td>False</td>\n",
       "      <td>False</td>\n",
       "      <td>False</td>\n",
       "      <td>False</td>\n",
       "    </tr>\n",
       "    <tr>\n",
       "      <th>497</th>\n",
       "      <td>False</td>\n",
       "      <td>False</td>\n",
       "      <td>False</td>\n",
       "      <td>False</td>\n",
       "      <td>False</td>\n",
       "      <td>False</td>\n",
       "      <td>False</td>\n",
       "    </tr>\n",
       "    <tr>\n",
       "      <th>498</th>\n",
       "      <td>False</td>\n",
       "      <td>False</td>\n",
       "      <td>False</td>\n",
       "      <td>False</td>\n",
       "      <td>False</td>\n",
       "      <td>False</td>\n",
       "      <td>False</td>\n",
       "    </tr>\n",
       "    <tr>\n",
       "      <th>499</th>\n",
       "      <td>False</td>\n",
       "      <td>False</td>\n",
       "      <td>False</td>\n",
       "      <td>False</td>\n",
       "      <td>False</td>\n",
       "      <td>False</td>\n",
       "      <td>False</td>\n",
       "    </tr>\n",
       "  </tbody>\n",
       "</table>\n",
       "<p>500 rows × 7 columns</p>\n",
       "</div>"
      ],
      "text/plain": [
       "      Date  Product  Region  Units_Sold  Unit_Price  Customer_ID  Total_Sales\n",
       "0    False    False   False       False       False        False        False\n",
       "1    False    False   False       False       False        False        False\n",
       "2    False    False   False       False       False        False        False\n",
       "3    False    False   False       False       False        False        False\n",
       "4    False    False   False       False       False        False        False\n",
       "..     ...      ...     ...         ...         ...          ...          ...\n",
       "495  False    False   False       False       False        False        False\n",
       "496  False    False   False       False       False        False        False\n",
       "497  False    False   False       False       False        False        False\n",
       "498  False    False   False       False       False        False        False\n",
       "499  False    False   False       False       False        False        False\n",
       "\n",
       "[500 rows x 7 columns]"
      ]
     },
     "execution_count": 184,
     "metadata": {},
     "output_type": "execute_result"
    }
   ],
   "source": [
    "df.isna()"
   ]
  },
  {
   "cell_type": "markdown",
   "id": "ea274ef7",
   "metadata": {},
   "source": [
    "This are consider None \n",
    "- np.nan\n",
    "- Nan\n",
    "- None\n",
    "- cell is balnk or empty "
   ]
  },
  {
   "cell_type": "code",
   "execution_count": 185,
   "id": "4255d3df",
   "metadata": {},
   "outputs": [
    {
     "name": "stdout",
     "output_type": "stream",
     "text": [
      "True\n",
      "True\n",
      "True\n"
     ]
    }
   ],
   "source": [
    "print(pd.isna(np.nan))\n",
    "print(pd.isna(np.NaN))\n",
    "print(pd.isna(pd.NA))"
   ]
  },
  {
   "cell_type": "markdown",
   "id": "2a718920",
   "metadata": {},
   "source": [
    "- '?'\n",
    "- #######\n",
    "- -----"
   ]
  },
  {
   "cell_type": "code",
   "execution_count": 186,
   "id": "3d6af6ae",
   "metadata": {},
   "outputs": [
    {
     "data": {
      "text/plain": [
       "Date           0\n",
       "Product        0\n",
       "Region         0\n",
       "Units_Sold     0\n",
       "Unit_Price     0\n",
       "Customer_ID    0\n",
       "Total_Sales    0\n",
       "dtype: int64"
      ]
     },
     "execution_count": 186,
     "metadata": {},
     "output_type": "execute_result"
    }
   ],
   "source": [
    "df.isna().sum()"
   ]
  },
  {
   "cell_type": "markdown",
   "id": "d7a9b703",
   "metadata": {},
   "source": [
    "## loc and iloc"
   ]
  },
  {
   "cell_type": "code",
   "execution_count": 187,
   "id": "1c51cbec",
   "metadata": {},
   "outputs": [
    {
     "data": {
      "text/plain": [
       "Date           2023-02-21 00:00:00\n",
       "Product                   Keyboard\n",
       "Region                       North\n",
       "Units_Sold                      12\n",
       "Unit_Price                 1948.89\n",
       "Customer_ID                   1002\n",
       "Total_Sales               23386.68\n",
       "Name: 0, dtype: object"
      ]
     },
     "execution_count": 187,
     "metadata": {},
     "output_type": "execute_result"
    }
   ],
   "source": [
    "df.iloc[0] # 1st row"
   ]
  },
  {
   "cell_type": "code",
   "execution_count": 188,
   "id": "ffeb88d1",
   "metadata": {},
   "outputs": [
    {
     "data": {
      "text/plain": [
       "9"
      ]
     },
     "execution_count": 188,
     "metadata": {},
     "output_type": "execute_result"
    }
   ],
   "source": [
    "# 2nd row and 3rd column\n",
    "df.iloc[2,3]"
   ]
  },
  {
   "cell_type": "code",
   "execution_count": 189,
   "id": "25455171",
   "metadata": {},
   "outputs": [
    {
     "data": {
      "text/html": [
       "<div>\n",
       "<style scoped>\n",
       "    .dataframe tbody tr th:only-of-type {\n",
       "        vertical-align: middle;\n",
       "    }\n",
       "\n",
       "    .dataframe tbody tr th {\n",
       "        vertical-align: top;\n",
       "    }\n",
       "\n",
       "    .dataframe thead th {\n",
       "        text-align: right;\n",
       "    }\n",
       "</style>\n",
       "<table border=\"1\" class=\"dataframe\">\n",
       "  <thead>\n",
       "    <tr style=\"text-align: right;\">\n",
       "      <th></th>\n",
       "      <th>Date</th>\n",
       "      <th>Product</th>\n",
       "      <th>Region</th>\n",
       "      <th>Units_Sold</th>\n",
       "      <th>Unit_Price</th>\n",
       "      <th>Customer_ID</th>\n",
       "      <th>Total_Sales</th>\n",
       "    </tr>\n",
       "  </thead>\n",
       "  <tbody>\n",
       "    <tr>\n",
       "      <th>0</th>\n",
       "      <td>2023-02-21</td>\n",
       "      <td>Keyboard</td>\n",
       "      <td>North</td>\n",
       "      <td>12</td>\n",
       "      <td>1948.89</td>\n",
       "      <td>1002</td>\n",
       "      <td>23386.68</td>\n",
       "    </tr>\n",
       "    <tr>\n",
       "      <th>1</th>\n",
       "      <td>2023-01-15</td>\n",
       "      <td>Monitor</td>\n",
       "      <td>South</td>\n",
       "      <td>15</td>\n",
       "      <td>1202.21</td>\n",
       "      <td>1087</td>\n",
       "      <td>18033.15</td>\n",
       "    </tr>\n",
       "    <tr>\n",
       "      <th>2</th>\n",
       "      <td>2023-03-13</td>\n",
       "      <td>Phone</td>\n",
       "      <td>North</td>\n",
       "      <td>9</td>\n",
       "      <td>583.03</td>\n",
       "      <td>1079</td>\n",
       "      <td>5247.27</td>\n",
       "    </tr>\n",
       "    <tr>\n",
       "      <th>3</th>\n",
       "      <td>2023-03-02</td>\n",
       "      <td>Keyboard</td>\n",
       "      <td>North</td>\n",
       "      <td>13</td>\n",
       "      <td>1091.29</td>\n",
       "      <td>1057</td>\n",
       "      <td>14186.77</td>\n",
       "    </tr>\n",
       "    <tr>\n",
       "      <th>4</th>\n",
       "      <td>2023-01-21</td>\n",
       "      <td>Tablet</td>\n",
       "      <td>North</td>\n",
       "      <td>15</td>\n",
       "      <td>751.04</td>\n",
       "      <td>1054</td>\n",
       "      <td>11265.60</td>\n",
       "    </tr>\n",
       "  </tbody>\n",
       "</table>\n",
       "</div>"
      ],
      "text/plain": [
       "        Date   Product Region  Units_Sold  Unit_Price  Customer_ID  \\\n",
       "0 2023-02-21  Keyboard  North          12     1948.89         1002   \n",
       "1 2023-01-15   Monitor  South          15     1202.21         1087   \n",
       "2 2023-03-13     Phone  North           9      583.03         1079   \n",
       "3 2023-03-02  Keyboard  North          13     1091.29         1057   \n",
       "4 2023-01-21    Tablet  North          15      751.04         1054   \n",
       "\n",
       "   Total_Sales  \n",
       "0     23386.68  \n",
       "1     18033.15  \n",
       "2      5247.27  \n",
       "3     14186.77  \n",
       "4     11265.60  "
      ]
     },
     "execution_count": 189,
     "metadata": {},
     "output_type": "execute_result"
    }
   ],
   "source": [
    "df.head()"
   ]
  },
  {
   "cell_type": "code",
   "execution_count": 190,
   "id": "3ac2f55e",
   "metadata": {},
   "outputs": [
    {
     "data": {
      "text/plain": [
       "Units_Sold           9\n",
       "Unit_Price      583.03\n",
       "Customer_ID       1079\n",
       "Total_Sales    5247.27\n",
       "Name: 2, dtype: object"
      ]
     },
     "execution_count": 190,
     "metadata": {},
     "output_type": "execute_result"
    }
   ],
   "source": [
    "df.iloc[2,3:]"
   ]
  },
  {
   "cell_type": "code",
   "execution_count": 191,
   "id": "a6e46877",
   "metadata": {},
   "outputs": [
    {
     "data": {
      "text/plain": [
       "Index(['Date', 'Product', 'Region', 'Units_Sold', 'Unit_Price', 'Customer_ID',\n",
       "       'Total_Sales'],\n",
       "      dtype='object')"
      ]
     },
     "execution_count": 191,
     "metadata": {},
     "output_type": "execute_result"
    }
   ],
   "source": [
    "df.columns"
   ]
  },
  {
   "cell_type": "code",
   "execution_count": null,
   "id": "be931a07",
   "metadata": {},
   "outputs": [],
   "source": []
  },
  {
   "cell_type": "markdown",
   "id": "6785f89e",
   "metadata": {},
   "source": [
    "## dataframe"
   ]
  },
  {
   "cell_type": "code",
   "execution_count": 192,
   "id": "a0941d90",
   "metadata": {},
   "outputs": [
    {
     "data": {
      "text/html": [
       "<div>\n",
       "<style scoped>\n",
       "    .dataframe tbody tr th:only-of-type {\n",
       "        vertical-align: middle;\n",
       "    }\n",
       "\n",
       "    .dataframe tbody tr th {\n",
       "        vertical-align: top;\n",
       "    }\n",
       "\n",
       "    .dataframe thead th {\n",
       "        text-align: right;\n",
       "    }\n",
       "</style>\n",
       "<table border=\"1\" class=\"dataframe\">\n",
       "  <thead>\n",
       "    <tr style=\"text-align: right;\">\n",
       "      <th></th>\n",
       "      <th>A</th>\n",
       "      <th>B</th>\n",
       "      <th>C</th>\n",
       "    </tr>\n",
       "  </thead>\n",
       "  <tbody>\n",
       "    <tr>\n",
       "      <th>0</th>\n",
       "      <td>12</td>\n",
       "      <td>x</td>\n",
       "      <td>12</td>\n",
       "    </tr>\n",
       "    <tr>\n",
       "      <th>1</th>\n",
       "      <td>13</td>\n",
       "      <td>y</td>\n",
       "      <td>0</td>\n",
       "    </tr>\n",
       "    <tr>\n",
       "      <th>2</th>\n",
       "      <td>14</td>\n",
       "      <td>z</td>\n",
       "      <td>12</td>\n",
       "    </tr>\n",
       "    <tr>\n",
       "      <th>3</th>\n",
       "      <td>15</td>\n",
       "      <td>w</td>\n",
       "      <td>3</td>\n",
       "    </tr>\n",
       "  </tbody>\n",
       "</table>\n",
       "</div>"
      ],
      "text/plain": [
       "    A  B   C\n",
       "0  12  x  12\n",
       "1  13  y   0\n",
       "2  14  z  12\n",
       "3  15  w   3"
      ]
     },
     "execution_count": 192,
     "metadata": {},
     "output_type": "execute_result"
    }
   ],
   "source": [
    "C = pd.DataFrame({\n",
    "    'A':[12,13,14,15],\n",
    "    'B' : ['x','y','z','w'],\n",
    "    'C':[12 , 0 , 12 , 3]\n",
    "        })\n",
    "C"
   ]
  },
  {
   "cell_type": "code",
   "execution_count": 193,
   "id": "0ef69210",
   "metadata": {},
   "outputs": [
    {
     "data": {
      "text/html": [
       "<div>\n",
       "<style scoped>\n",
       "    .dataframe tbody tr th:only-of-type {\n",
       "        vertical-align: middle;\n",
       "    }\n",
       "\n",
       "    .dataframe tbody tr th {\n",
       "        vertical-align: top;\n",
       "    }\n",
       "\n",
       "    .dataframe thead th {\n",
       "        text-align: right;\n",
       "    }\n",
       "</style>\n",
       "<table border=\"1\" class=\"dataframe\">\n",
       "  <thead>\n",
       "    <tr style=\"text-align: right;\">\n",
       "      <th></th>\n",
       "      <th>A</th>\n",
       "      <th>B</th>\n",
       "      <th>C</th>\n",
       "    </tr>\n",
       "  </thead>\n",
       "  <tbody>\n",
       "    <tr>\n",
       "      <th>a</th>\n",
       "      <td>12</td>\n",
       "      <td>x</td>\n",
       "      <td>12</td>\n",
       "    </tr>\n",
       "    <tr>\n",
       "      <th>b</th>\n",
       "      <td>13</td>\n",
       "      <td>y</td>\n",
       "      <td>0</td>\n",
       "    </tr>\n",
       "    <tr>\n",
       "      <th>c</th>\n",
       "      <td>14</td>\n",
       "      <td>z</td>\n",
       "      <td>12</td>\n",
       "    </tr>\n",
       "    <tr>\n",
       "      <th>d</th>\n",
       "      <td>15</td>\n",
       "      <td>w</td>\n",
       "      <td>3</td>\n",
       "    </tr>\n",
       "  </tbody>\n",
       "</table>\n",
       "</div>"
      ],
      "text/plain": [
       "    A  B   C\n",
       "a  12  x  12\n",
       "b  13  y   0\n",
       "c  14  z  12\n",
       "d  15  w   3"
      ]
     },
     "execution_count": 193,
     "metadata": {},
     "output_type": "execute_result"
    }
   ],
   "source": [
    "C = pd.DataFrame({\n",
    "    'A':[12,13,14,15],\n",
    "    'B' : ['x','y','z','w'],\n",
    "    'C':[12 , 0 , 12 , 3]\n",
    "        },index = ['a','b','c','d'])\n",
    "C"
   ]
  },
  {
   "cell_type": "code",
   "execution_count": 194,
   "id": "9f8ebe36",
   "metadata": {},
   "outputs": [
    {
     "data": {
      "text/plain": [
       "(4, 3)"
      ]
     },
     "execution_count": 194,
     "metadata": {},
     "output_type": "execute_result"
    }
   ],
   "source": [
    "C.shape"
   ]
  },
  {
   "cell_type": "code",
   "execution_count": 195,
   "id": "93dfe697",
   "metadata": {},
   "outputs": [
    {
     "data": {
      "text/plain": [
       "Index(['A', 'B', 'C'], dtype='object')"
      ]
     },
     "execution_count": 195,
     "metadata": {},
     "output_type": "execute_result"
    }
   ],
   "source": [
    "C.columns"
   ]
  }
 ],
 "metadata": {
  "kernelspec": {
   "display_name": "Python 3",
   "language": "python",
   "name": "python3"
  },
  "language_info": {
   "codemirror_mode": {
    "name": "ipython",
    "version": 3
   },
   "file_extension": ".py",
   "mimetype": "text/x-python",
   "name": "python",
   "nbconvert_exporter": "python",
   "pygments_lexer": "ipython3",
   "version": "3.11.2"
  }
 },
 "nbformat": 4,
 "nbformat_minor": 5
}
