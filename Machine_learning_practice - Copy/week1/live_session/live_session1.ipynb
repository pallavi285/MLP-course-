{
 "cells": [
  {
   "cell_type": "markdown",
   "id": "95c97b45",
   "metadata": {},
   "source": [
    "# 22 September 2025 (Monday)"
   ]
  },
  {
   "cell_type": "code",
   "execution_count": 1,
   "id": "e6f28821",
   "metadata": {},
   "outputs": [],
   "source": [
    "import numpy as np"
   ]
  },
  {
   "cell_type": "markdown",
   "id": "11360cc2",
   "metadata": {},
   "source": [
    "diff float and float64 and float32 ---> Imp in deep learning\n"
   ]
  },
  {
   "cell_type": "code",
   "execution_count": null,
   "id": "41d0c3f9",
   "metadata": {},
   "outputs": [],
   "source": [
    "df = read.csv(\"\")"
   ]
  },
  {
   "cell_type": "code",
   "execution_count": 2,
   "id": "58504f7c",
   "metadata": {},
   "outputs": [
    {
     "ename": "NameError",
     "evalue": "name 'df' is not defined",
     "output_type": "error",
     "traceback": [
      "\u001b[1;31m---------------------------------------------------------------------------\u001b[0m",
      "\u001b[1;31mNameError\u001b[0m                                 Traceback (most recent call last)",
      "Cell \u001b[1;32mIn[2], line 1\u001b[0m\n\u001b[1;32m----> 1\u001b[0m \u001b[43mdf\u001b[49m\u001b[38;5;241m.\u001b[39minfo() \u001b[38;5;66;03m#compact information\u001b[39;00m\n\u001b[0;32m      2\u001b[0m \u001b[38;5;66;03m#shape\u001b[39;00m\n",
      "\u001b[1;31mNameError\u001b[0m: name 'df' is not defined"
     ]
    }
   ],
   "source": [
    "df.info() #compact information\n",
    "#shape"
   ]
  },
  {
   "cell_type": "code",
   "execution_count": null,
   "id": "0b5fe244",
   "metadata": {},
   "outputs": [],
   "source": [
    "df.heap(57).tail(1)"
   ]
  },
  {
   "cell_type": "markdown",
   "id": "dbf8646a",
   "metadata": {},
   "source": [
    "##Loc AND iloc"
   ]
  },
  {
   "cell_type": "code",
   "execution_count": null,
   "id": "2bedf87b",
   "metadata": {},
   "outputs": [],
   "source": [
    "#57 th row\n",
    "df.iloc[56,:]\n",
    "\n",
    "#iloc [row number , column number]\n",
    "#: every things\n"
   ]
  },
  {
   "cell_type": "code",
   "execution_count": null,
   "id": "2a8437d1",
   "metadata": {},
   "outputs": [],
   "source": [
    "df.iloc[:,:] #entire dataset"
   ]
  },
  {
   "cell_type": "code",
   "execution_count": null,
   "id": "6ae6af93",
   "metadata": {},
   "outputs": [],
   "source": [
    "df.iloc[56] #row number"
   ]
  },
  {
   "cell_type": "markdown",
   "id": "82b7859e",
   "metadata": {},
   "source": [
    "**Show me the product category of the 57th product**"
   ]
  },
  {
   "cell_type": "code",
   "execution_count": null,
   "id": "f7cc1271",
   "metadata": {},
   "outputs": [],
   "source": [
    "df.iloc[57,1]"
   ]
  },
  {
   "cell_type": "code",
   "execution_count": null,
   "id": "451259e9",
   "metadata": {},
   "outputs": [],
   "source": [
    "df['category'][56]"
   ]
  },
  {
   "cell_type": "code",
   "execution_count": null,
   "id": "7a5140c2",
   "metadata": {},
   "outputs": [],
   "source": [
    "df[['Price','Quantity']]"
   ]
  },
  {
   "cell_type": "code",
   "execution_count": null,
   "id": "48e77c35",
   "metadata": {},
   "outputs": [],
   "source": [
    "df[['Price','Quantity']].head(2).tail(1) # access 2nd row"
   ]
  },
  {
   "cell_type": "markdown",
   "id": "6fdc650c",
   "metadata": {},
   "source": [
    "**Give me the product category and quantity for the 10th product**"
   ]
  },
  {
   "cell_type": "code",
   "execution_count": null,
   "id": "c4a8c72d",
   "metadata": {},
   "outputs": [],
   "source": [
    "df[['Category','Quantity']].head(10).tail(1)"
   ]
  },
  {
   "cell_type": "code",
   "execution_count": null,
   "id": "73c05b00",
   "metadata": {},
   "outputs": [],
   "source": [
    "df.iloc[]"
   ]
  },
  {
   "cell_type": "markdown",
   "id": "e481da72",
   "metadata": {},
   "source": [
    "## Basic Staticstics"
   ]
  },
  {
   "cell_type": "markdown",
   "id": "d297f0a9",
   "metadata": {},
   "source": [
    "**imp for project kaggle assignemt**"
   ]
  },
  {
   "cell_type": "markdown",
   "id": "135216df",
   "metadata": {},
   "source": [
    "Which is the most expansive product\n",
    "- We have to find max of price"
   ]
  },
  {
   "cell_type": "code",
   "execution_count": null,
   "id": "a8c4f8ea",
   "metadata": {},
   "outputs": [],
   "source": [
    "df[\"Price\"].max()"
   ]
  },
  {
   "cell_type": "markdown",
   "id": "01be009f",
   "metadata": {},
   "source": [
    "Which is the least expansive product\n",
    "- We have to find min of price"
   ]
  },
  {
   "cell_type": "code",
   "execution_count": null,
   "id": "b4c3313b",
   "metadata": {},
   "outputs": [],
   "source": [
    "df[\"Price\"].min()"
   ]
  },
  {
   "cell_type": "markdown",
   "id": "2df028c8",
   "metadata": {},
   "source": [
    "which name the product with min and max?"
   ]
  },
  {
   "cell_type": "markdown",
   "id": "2a59da64",
   "metadata": {},
   "source": [
    "**filtering part** you have to learn"
   ]
  },
  {
   "cell_type": "markdown",
   "id": "864eb926",
   "metadata": {},
   "source": [
    "**Question**   \n",
    "what is the range of Price?\n"
   ]
  },
  {
   "cell_type": "code",
   "execution_count": null,
   "id": "8b6d7a47",
   "metadata": {},
   "outputs": [],
   "source": [
    "maximum = df['Price'].max()\n",
    "minimum = df['Price'].min()\n",
    "range = maximum - minimum"
   ]
  },
  {
   "cell_type": "markdown",
   "id": "8f7536e5",
   "metadata": {},
   "source": [
    "**Question**  \n",
    "Total product my shop has sold?"
   ]
  },
  {
   "cell_type": "code",
   "execution_count": null,
   "id": "eb43811a",
   "metadata": {},
   "outputs": [],
   "source": [
    "#sum of all the Quantity\n",
    "df.['Quantity'].sum()"
   ]
  },
  {
   "cell_type": "markdown",
   "id": "d890ea80",
   "metadata": {},
   "source": [
    "**convert float or decimal to the num or int**"
   ]
  },
  {
   "cell_type": "code",
   "execution_count": null,
   "id": "996e1214",
   "metadata": {},
   "outputs": [],
   "source": [
    "# you can use ##int() to conver float to int"
   ]
  },
  {
   "cell_type": "code",
   "execution_count": null,
   "id": "432af0c8",
   "metadata": {},
   "outputs": [],
   "source": [
    "df.['Quantity'].mean()\n",
    "df.['Quantity'].median()\n",
    "df.['Quantity'].mode()"
   ]
  },
  {
   "cell_type": "markdown",
   "id": "cc3c8e98",
   "metadata": {},
   "source": [
    "**Two column togeter**"
   ]
  },
  {
   "cell_type": "code",
   "execution_count": null,
   "id": "af0875fc",
   "metadata": {},
   "outputs": [],
   "source": [
    "df[['Price','Quantity']].max()"
   ]
  },
  {
   "cell_type": "code",
   "execution_count": null,
   "id": "e2442d9d",
   "metadata": {},
   "outputs": [],
   "source": [
    "df.describe()"
   ]
  },
  {
   "cell_type": "markdown",
   "id": "351ef61c",
   "metadata": {},
   "source": [
    "## Null values and Dropping"
   ]
  },
  {
   "cell_type": "code",
   "execution_count": 2,
   "id": "a1ad9ed7",
   "metadata": {},
   "outputs": [
    {
     "ename": "NameError",
     "evalue": "name 'df' is not defined",
     "output_type": "error",
     "traceback": [
      "\u001b[1;31m---------------------------------------------------------------------------\u001b[0m",
      "\u001b[1;31mNameError\u001b[0m                                 Traceback (most recent call last)",
      "Cell \u001b[1;32mIn[2], line 1\u001b[0m\n\u001b[1;32m----> 1\u001b[0m \u001b[43mdf\u001b[49m\u001b[38;5;241m.\u001b[39misnull() \u001b[38;5;66;03m# Return True or False\u001b[39;00m\n",
      "\u001b[1;31mNameError\u001b[0m: name 'df' is not defined"
     ]
    }
   ],
   "source": [
    "df.isnull() # Return True or False"
   ]
  },
  {
   "cell_type": "markdown",
   "id": "8f2d0dc8",
   "metadata": {},
   "source": [
    "- True = 1\n",
    "- False = 0"
   ]
  },
  {
   "cell_type": "code",
   "execution_count": null,
   "id": "78c69f0d",
   "metadata": {},
   "outputs": [],
   "source": [
    "df.isnull().sum() #provide the count of (True) each $column wise$"
   ]
  },
  {
   "cell_type": "code",
   "execution_count": null,
   "id": "8bebdda8",
   "metadata": {},
   "outputs": [],
   "source": [
    "df.isnull().sum().sum() # Total value missing in the data"
   ]
  },
  {
   "cell_type": "code",
   "execution_count": null,
   "id": "def18d5d",
   "metadata": {},
   "outputs": [],
   "source": [
    "df.dropna() #drop rows with missing values"
   ]
  },
  {
   "cell_type": "code",
   "execution_count": null,
   "id": "fb79ede0",
   "metadata": {},
   "outputs": [],
   "source": [
    "df.dropna(inplace = True)\n",
    "# to make the change to actually modify this"
   ]
  },
  {
   "cell_type": "code",
   "execution_count": null,
   "id": "e6795938",
   "metadata": {},
   "outputs": [],
   "source": [
    "df.fillna() \n",
    "#fill the null value\n",
    "# value can be 0 \n",
    "# average or mean()\n",
    "#for catogarical mode we can do"
   ]
  },
  {
   "cell_type": "code",
   "execution_count": null,
   "id": "f50320a3",
   "metadata": {},
   "outputs": [],
   "source": [
    "mean = df[\"Price\"].mean()\n",
    "df[\"Price\"].fillna(mean)\n"
   ]
  },
  {
   "cell_type": "code",
   "execution_count": null,
   "id": "db1a646c",
   "metadata": {},
   "outputs": [],
   "source": [
    "#specific for categorical columns\n",
    "df['Category'].unique()"
   ]
  },
  {
   "cell_type": "code",
   "execution_count": null,
   "id": "068fe58b",
   "metadata": {},
   "outputs": [],
   "source": [
    "df['Category'].vlaue_counts()"
   ]
  },
  {
   "cell_type": "markdown",
   "id": "5e1ed5f1",
   "metadata": {},
   "source": [
    "What was the toal earning of the store?   \n",
    "some of revenue"
   ]
  }
 ],
 "metadata": {
  "kernelspec": {
   "display_name": "Python 3",
   "language": "python",
   "name": "python3"
  },
  "language_info": {
   "codemirror_mode": {
    "name": "ipython",
    "version": 3
   },
   "file_extension": ".py",
   "mimetype": "text/x-python",
   "name": "python",
   "nbconvert_exporter": "python",
   "pygments_lexer": "ipython3",
   "version": "3.11.2"
  }
 },
 "nbformat": 4,
 "nbformat_minor": 5
}
