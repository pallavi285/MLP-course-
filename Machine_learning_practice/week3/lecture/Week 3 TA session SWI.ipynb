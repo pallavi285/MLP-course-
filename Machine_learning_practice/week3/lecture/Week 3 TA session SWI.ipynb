{
 "cells": [
  {
   "cell_type": "code",
   "execution_count": 3,
   "metadata": {
    "executionInfo": {
     "elapsed": 401,
     "status": "ok",
     "timestamp": 1728919078083,
     "user": {
      "displayName": "YUKTI SETHI",
      "userId": "02282718160304582968"
     },
     "user_tz": -330
    },
    "id": "dkgLO05Fc62x"
   },
   "outputs": [],
   "source": [
    "import seaborn as sns\n",
    "import pandas as pd\n"
   ]
  },
  {
   "cell_type": "markdown",
   "metadata": {
    "id": "JEAuzWiPJxZU"
   },
   "source": [
    "# Q1"
   ]
  },
  {
   "cell_type": "markdown",
   "metadata": {
    "id": "zqF3fc2SJ5ZO"
   },
   "source": [
    "Explain the difference between SimpleImputer and KNNImputer, and use them on this data.\n",
    "\n",
    "data = {'Age': [25, 30, None, 45, 40], 'Fare': [100, None, 80, 75, 60]}\n",
    "\n",
    "\n",
    "\n",
    "---\n",
    "\n"
   ]
  },
  {
   "cell_type": "code",
   "execution_count": 4,
   "metadata": {
    "executionInfo": {
     "elapsed": 646,
     "status": "ok",
     "timestamp": 1728917707242,
     "user": {
      "displayName": "YUKTI SETHI",
      "userId": "02282718160304582968"
     },
     "user_tz": -330
    },
    "id": "n3dSy9ExJmNV"
   },
   "outputs": [],
   "source": [
    "import pandas as pd"
   ]
  },
  {
   "cell_type": "code",
   "execution_count": 5,
   "metadata": {
    "executionInfo": {
     "elapsed": 2,
     "status": "ok",
     "timestamp": 1728923896727,
     "user": {
      "displayName": "YUKTI SETHI",
      "userId": "02282718160304582968"
     },
     "user_tz": -330
    },
    "id": "5D06MnFSht0-"
   },
   "outputs": [],
   "source": [
    "data = {'Age': [25, 30, None, 45, 40], 'Fare': [100, None, 80, 75, 60]}"
   ]
  },
  {
   "cell_type": "code",
   "execution_count": 6,
   "metadata": {
    "executionInfo": {
     "elapsed": 2,
     "status": "ok",
     "timestamp": 1728923898560,
     "user": {
      "displayName": "YUKTI SETHI",
      "userId": "02282718160304582968"
     },
     "user_tz": -330
    },
    "id": "HE-2oy1-hpc2"
   },
   "outputs": [],
   "source": [
    "data=pd.DataFrame(data)"
   ]
  },
  {
   "cell_type": "code",
   "execution_count": 7,
   "metadata": {
    "colab": {
     "base_uri": "https://localhost:8080/",
     "height": 206
    },
    "executionInfo": {
     "elapsed": 2,
     "status": "ok",
     "timestamp": 1728923898560,
     "user": {
      "displayName": "YUKTI SETHI",
      "userId": "02282718160304582968"
     },
     "user_tz": -330
    },
    "id": "CLNEAA05hw25",
    "outputId": "e60e5e34-1996-4f23-b0c1-f20893c222b2"
   },
   "outputs": [
    {
     "data": {
      "text/html": [
       "<div>\n",
       "<style scoped>\n",
       "    .dataframe tbody tr th:only-of-type {\n",
       "        vertical-align: middle;\n",
       "    }\n",
       "\n",
       "    .dataframe tbody tr th {\n",
       "        vertical-align: top;\n",
       "    }\n",
       "\n",
       "    .dataframe thead th {\n",
       "        text-align: right;\n",
       "    }\n",
       "</style>\n",
       "<table border=\"1\" class=\"dataframe\">\n",
       "  <thead>\n",
       "    <tr style=\"text-align: right;\">\n",
       "      <th></th>\n",
       "      <th>Age</th>\n",
       "      <th>Fare</th>\n",
       "    </tr>\n",
       "  </thead>\n",
       "  <tbody>\n",
       "    <tr>\n",
       "      <th>0</th>\n",
       "      <td>25.0</td>\n",
       "      <td>100.0</td>\n",
       "    </tr>\n",
       "    <tr>\n",
       "      <th>1</th>\n",
       "      <td>30.0</td>\n",
       "      <td>NaN</td>\n",
       "    </tr>\n",
       "    <tr>\n",
       "      <th>2</th>\n",
       "      <td>NaN</td>\n",
       "      <td>80.0</td>\n",
       "    </tr>\n",
       "    <tr>\n",
       "      <th>3</th>\n",
       "      <td>45.0</td>\n",
       "      <td>75.0</td>\n",
       "    </tr>\n",
       "    <tr>\n",
       "      <th>4</th>\n",
       "      <td>40.0</td>\n",
       "      <td>60.0</td>\n",
       "    </tr>\n",
       "  </tbody>\n",
       "</table>\n",
       "</div>"
      ],
      "text/plain": [
       "    Age   Fare\n",
       "0  25.0  100.0\n",
       "1  30.0    NaN\n",
       "2   NaN   80.0\n",
       "3  45.0   75.0\n",
       "4  40.0   60.0"
      ]
     },
     "execution_count": 7,
     "metadata": {},
     "output_type": "execute_result"
    }
   ],
   "source": [
    "data.head()"
   ]
  },
  {
   "cell_type": "code",
   "execution_count": 8,
   "metadata": {
    "colab": {
     "base_uri": "https://localhost:8080/"
    },
    "executionInfo": {
     "elapsed": 3,
     "status": "ok",
     "timestamp": 1728923918384,
     "user": {
      "displayName": "YUKTI SETHI",
      "userId": "02282718160304582968"
     },
     "user_tz": -330
    },
    "id": "vTHs5urv5U6A",
    "outputId": "734edc54-a560-4c8c-c25d-9586336d8287"
   },
   "outputs": [
    {
     "name": "stdout",
     "output_type": "stream",
     "text": [
      "<class 'pandas.core.frame.DataFrame'>\n",
      "RangeIndex: 5 entries, 0 to 4\n",
      "Data columns (total 2 columns):\n",
      " #   Column  Non-Null Count  Dtype  \n",
      "---  ------  --------------  -----  \n",
      " 0   Age     4 non-null      float64\n",
      " 1   Fare    4 non-null      float64\n",
      "dtypes: float64(2)\n",
      "memory usage: 212.0 bytes\n"
     ]
    }
   ],
   "source": [
    "data.info()"
   ]
  },
  {
   "cell_type": "code",
   "execution_count": 9,
   "metadata": {
    "executionInfo": {
     "elapsed": 1,
     "status": "ok",
     "timestamp": 1728923901806,
     "user": {
      "displayName": "YUKTI SETHI",
      "userId": "02282718160304582968"
     },
     "user_tz": -330
    },
    "id": "e6SGELauhyrl"
   },
   "outputs": [],
   "source": [
    "from sklearn.impute import SimpleImputer, KNNImputer"
   ]
  },
  {
   "cell_type": "code",
   "execution_count": 10,
   "metadata": {
    "executionInfo": {
     "elapsed": 2,
     "status": "ok",
     "timestamp": 1728923904385,
     "user": {
      "displayName": "YUKTI SETHI",
      "userId": "02282718160304582968"
     },
     "user_tz": -330
    },
    "id": "7uOxgQOeh4Yc"
   },
   "outputs": [],
   "source": [
    "imputer=SimpleImputer(strategy='mean')"
   ]
  },
  {
   "cell_type": "code",
   "execution_count": 11,
   "metadata": {
    "executionInfo": {
     "elapsed": 560,
     "status": "ok",
     "timestamp": 1728923906854,
     "user": {
      "displayName": "YUKTI SETHI",
      "userId": "02282718160304582968"
     },
     "user_tz": -330
    },
    "id": "ma2gI97Th-eE"
   },
   "outputs": [],
   "source": [
    "trdata = imputer.fit_transform(data)"
   ]
  },
  {
   "cell_type": "code",
   "execution_count": 12,
   "metadata": {
    "colab": {
     "base_uri": "https://localhost:8080/"
    },
    "executionInfo": {
     "elapsed": 2,
     "status": "ok",
     "timestamp": 1728923926554,
     "user": {
      "displayName": "YUKTI SETHI",
      "userId": "02282718160304582968"
     },
     "user_tz": -330
    },
    "id": "GADdc5W7iIp0",
    "outputId": "b975d020-e94f-4a30-82ca-8ce5b7281654"
   },
   "outputs": [
    {
     "name": "stdout",
     "output_type": "stream",
     "text": [
      "<class 'pandas.core.frame.DataFrame'>\n",
      "RangeIndex: 5 entries, 0 to 4\n",
      "Data columns (total 2 columns):\n",
      " #   Column  Non-Null Count  Dtype  \n",
      "---  ------  --------------  -----  \n",
      " 0   Age     5 non-null      float64\n",
      " 1   Fare    5 non-null      float64\n",
      "dtypes: float64(2)\n",
      "memory usage: 212.0 bytes\n"
     ]
    }
   ],
   "source": [
    "pd.DataFrame(trdata, columns= data.columns).info()"
   ]
  },
  {
   "cell_type": "code",
   "execution_count": 98,
   "metadata": {},
   "outputs": [
    {
     "data": {
      "text/plain": [
       "array([[ 25., 100.],\n",
       "       [ 30.,  80.],\n",
       "       [ 35.,  80.],\n",
       "       [ 45.,  75.],\n",
       "       [ 40.,  60.]])"
      ]
     },
     "execution_count": 98,
     "metadata": {},
     "output_type": "execute_result"
    }
   ],
   "source": [
    "trdata"
   ]
  },
  {
   "cell_type": "code",
   "execution_count": 13,
   "metadata": {
    "executionInfo": {
     "elapsed": 410,
     "status": "ok",
     "timestamp": 1728918223562,
     "user": {
      "displayName": "YUKTI SETHI",
      "userId": "02282718160304582968"
     },
     "user_tz": -330
    },
    "id": "ObuwY4Upi4sk"
   },
   "outputs": [],
   "source": [
    "imputer = KNNImputer(n_neighbors=2)"
   ]
  },
  {
   "cell_type": "code",
   "execution_count": 14,
   "metadata": {
    "executionInfo": {
     "elapsed": 2,
     "status": "ok",
     "timestamp": 1728918250592,
     "user": {
      "displayName": "YUKTI SETHI",
      "userId": "02282718160304582968"
     },
     "user_tz": -330
    },
    "id": "JJ-BVVSijnuz"
   },
   "outputs": [],
   "source": [
    "trdata = imputer.fit_transform(data)"
   ]
  },
  {
   "cell_type": "code",
   "execution_count": 15,
   "metadata": {
    "colab": {
     "base_uri": "https://localhost:8080/",
     "height": 206
    },
    "executionInfo": {
     "elapsed": 4,
     "status": "ok",
     "timestamp": 1728918252187,
     "user": {
      "displayName": "YUKTI SETHI",
      "userId": "02282718160304582968"
     },
     "user_tz": -330
    },
    "id": "yMPRKZn5jthv",
    "outputId": "4e6dc0e4-fd5d-4aea-f185-78897e48a68e"
   },
   "outputs": [
    {
     "data": {
      "text/html": [
       "<div>\n",
       "<style scoped>\n",
       "    .dataframe tbody tr th:only-of-type {\n",
       "        vertical-align: middle;\n",
       "    }\n",
       "\n",
       "    .dataframe tbody tr th {\n",
       "        vertical-align: top;\n",
       "    }\n",
       "\n",
       "    .dataframe thead th {\n",
       "        text-align: right;\n",
       "    }\n",
       "</style>\n",
       "<table border=\"1\" class=\"dataframe\">\n",
       "  <thead>\n",
       "    <tr style=\"text-align: right;\">\n",
       "      <th></th>\n",
       "      <th>Age</th>\n",
       "      <th>Fare</th>\n",
       "    </tr>\n",
       "  </thead>\n",
       "  <tbody>\n",
       "    <tr>\n",
       "      <th>0</th>\n",
       "      <td>25.0</td>\n",
       "      <td>100.0</td>\n",
       "    </tr>\n",
       "    <tr>\n",
       "      <th>1</th>\n",
       "      <td>30.0</td>\n",
       "      <td>80.0</td>\n",
       "    </tr>\n",
       "    <tr>\n",
       "      <th>2</th>\n",
       "      <td>35.0</td>\n",
       "      <td>80.0</td>\n",
       "    </tr>\n",
       "    <tr>\n",
       "      <th>3</th>\n",
       "      <td>45.0</td>\n",
       "      <td>75.0</td>\n",
       "    </tr>\n",
       "    <tr>\n",
       "      <th>4</th>\n",
       "      <td>40.0</td>\n",
       "      <td>60.0</td>\n",
       "    </tr>\n",
       "  </tbody>\n",
       "</table>\n",
       "</div>"
      ],
      "text/plain": [
       "    Age   Fare\n",
       "0  25.0  100.0\n",
       "1  30.0   80.0\n",
       "2  35.0   80.0\n",
       "3  45.0   75.0\n",
       "4  40.0   60.0"
      ]
     },
     "execution_count": 15,
     "metadata": {},
     "output_type": "execute_result"
    }
   ],
   "source": [
    "pd.DataFrame(trdata, columns= data.columns)"
   ]
  },
  {
   "cell_type": "markdown",
   "metadata": {
    "id": "VJhxbUOAXhSd"
   },
   "source": [
    "# Q2"
   ]
  },
  {
   "cell_type": "markdown",
   "metadata": {
    "id": "-CMzEZsEXkZa"
   },
   "source": [
    "Use DictVectorizer to transform a list of dictionaries into a feature matrix. Also use FeatureHasher.\n",
    "\n",
    "data = [{'city': 'New York', 'temperature': 21},\n",
    "        {'city': 'San Francisco', 'temperature': 18},\n",
    "        {'city': 'Chicago', 'temperature': 15}]"
   ]
  },
  {
   "cell_type": "code",
   "execution_count": 16,
   "metadata": {
    "executionInfo": {
     "elapsed": 2,
     "status": "ok",
     "timestamp": 1728918837992,
     "user": {
      "displayName": "YUKTI SETHI",
      "userId": "02282718160304582968"
     },
     "user_tz": -330
    },
    "id": "Hjg2YQAPlkk_"
   },
   "outputs": [],
   "source": [
    "data = [{'city': 'New York', 'temperature': 21}, {'city': 'San Francisco', 'temperature': 18}, {'city': 'Chicago', 'temperature': 15}]"
   ]
  },
  {
   "cell_type": "code",
   "execution_count": 17,
   "metadata": {
    "executionInfo": {
     "elapsed": 463,
     "status": "ok",
     "timestamp": 1728918645881,
     "user": {
      "displayName": "YUKTI SETHI",
      "userId": "02282718160304582968"
     },
     "user_tz": -330
    },
    "id": "Xgao4fCTXsVe"
   },
   "outputs": [],
   "source": [
    "from sklearn.feature_extraction import DictVectorizer"
   ]
  },
  {
   "cell_type": "code",
   "execution_count": 18,
   "metadata": {
    "executionInfo": {
     "elapsed": 416,
     "status": "ok",
     "timestamp": 1728918819493,
     "user": {
      "displayName": "YUKTI SETHI",
      "userId": "02282718160304582968"
     },
     "user_tz": -330
    },
    "id": "Gg_V3vk9lOrU"
   },
   "outputs": [],
   "source": [
    "dv= DictVectorizer()"
   ]
  },
  {
   "cell_type": "code",
   "execution_count": 19,
   "metadata": {
    "colab": {
     "base_uri": "https://localhost:8080/"
    },
    "executionInfo": {
     "elapsed": 429,
     "status": "ok",
     "timestamp": 1728918934349,
     "user": {
      "displayName": "YUKTI SETHI",
      "userId": "02282718160304582968"
     },
     "user_tz": -330
    },
    "id": "ygE9yXs4lc2b",
    "outputId": "982312ee-c320-4ebd-f575-da410d8ee087"
   },
   "outputs": [
    {
     "data": {
      "text/plain": [
       "array([[ 0.,  1.,  0., 21.],\n",
       "       [ 0.,  0.,  1., 18.],\n",
       "       [ 1.,  0.,  0., 15.]])"
      ]
     },
     "execution_count": 19,
     "metadata": {},
     "output_type": "execute_result"
    }
   ],
   "source": [
    "dv.fit_transform(data).toarray()"
   ]
  },
  {
   "cell_type": "code",
   "execution_count": 20,
   "metadata": {
    "executionInfo": {
     "elapsed": 1,
     "status": "ok",
     "timestamp": 1728918892882,
     "user": {
      "displayName": "YUKTI SETHI",
      "userId": "02282718160304582968"
     },
     "user_tz": -330
    },
    "id": "7hoA9RTFmI4e"
   },
   "outputs": [],
   "source": [
    "from sklearn.feature_extraction import FeatureHasher"
   ]
  },
  {
   "cell_type": "code",
   "execution_count": 21,
   "metadata": {
    "executionInfo": {
     "elapsed": 423,
     "status": "ok",
     "timestamp": 1728918951926,
     "user": {
      "displayName": "YUKTI SETHI",
      "userId": "02282718160304582968"
     },
     "user_tz": -330
    },
    "id": "1aj7wkhsmXjx"
   },
   "outputs": [
    {
     "name": "stdout",
     "output_type": "stream",
     "text": [
      "\u001b[1;31mInit signature:\u001b[0m\n",
      " \u001b[0mFeatureHasher\u001b[0m\u001b[1;33m(\u001b[0m\u001b[1;33m\n",
      "\u001b[0m    \u001b[0mn_features\u001b[0m\u001b[1;33m=\u001b[0m\u001b[1;36m1048576\u001b[0m\u001b[1;33m,\u001b[0m\u001b[1;33m\n",
      "\u001b[0m    \u001b[1;33m*\u001b[0m\u001b[1;33m,\u001b[0m\u001b[1;33m\n",
      "\u001b[0m    \u001b[0minput_type\u001b[0m\u001b[1;33m=\u001b[0m\u001b[1;34m'dict'\u001b[0m\u001b[1;33m,\u001b[0m\u001b[1;33m\n",
      "\u001b[0m    \u001b[0mdtype\u001b[0m\u001b[1;33m=\u001b[0m\u001b[1;33m<\u001b[0m\u001b[1;32mclass\u001b[0m \u001b[1;34m'numpy.float64'\u001b[0m\u001b[1;33m>\u001b[0m\u001b[1;33m,\u001b[0m\u001b[1;33m\n",
      "\u001b[0m    \u001b[0malternate_sign\u001b[0m\u001b[1;33m=\u001b[0m\u001b[1;32mTrue\u001b[0m\u001b[1;33m,\u001b[0m\u001b[1;33m\n",
      "\u001b[0m\u001b[1;33m)\u001b[0m\u001b[1;33m\u001b[0m\u001b[1;33m\u001b[0m\u001b[0m\n",
      "\u001b[1;31mDocstring:\u001b[0m     \n",
      "Implements feature hashing, aka the hashing trick.\n",
      "\n",
      "This class turns sequences of symbolic feature names (strings) into\n",
      "scipy.sparse matrices, using a hash function to compute the matrix column\n",
      "corresponding to a name. The hash function employed is the signed 32-bit\n",
      "version of Murmurhash3.\n",
      "\n",
      "Feature names of type byte string are used as-is. Unicode strings are\n",
      "converted to UTF-8 first, but no Unicode normalization is done.\n",
      "Feature values must be (finite) numbers.\n",
      "\n",
      "This class is a low-memory alternative to DictVectorizer and\n",
      "CountVectorizer, intended for large-scale (online) learning and situations\n",
      "where memory is tight, e.g. when running prediction code on embedded\n",
      "devices.\n",
      "\n",
      "For an efficiency comparison of the different feature extractors, see\n",
      ":ref:`sphx_glr_auto_examples_text_plot_hashing_vs_dict_vectorizer.py`.\n",
      "\n",
      "Read more in the :ref:`User Guide <feature_hashing>`.\n",
      "\n",
      ".. versionadded:: 0.13\n",
      "\n",
      "Parameters\n",
      "----------\n",
      "n_features : int, default=2**20\n",
      "    The number of features (columns) in the output matrices. Small numbers\n",
      "    of features are likely to cause hash collisions, but large numbers\n",
      "    will cause larger coefficient dimensions in linear learners.\n",
      "input_type : str, default='dict'\n",
      "    Choose a string from {'dict', 'pair', 'string'}.\n",
      "    Either \"dict\" (the default) to accept dictionaries over\n",
      "    (feature_name, value); \"pair\" to accept pairs of (feature_name, value);\n",
      "    or \"string\" to accept single strings.\n",
      "    feature_name should be a string, while value should be a number.\n",
      "    In the case of \"string\", a value of 1 is implied.\n",
      "    The feature_name is hashed to find the appropriate column for the\n",
      "    feature. The value's sign might be flipped in the output (but see\n",
      "    non_negative, below).\n",
      "dtype : numpy dtype, default=np.float64\n",
      "    The type of feature values. Passed to scipy.sparse matrix constructors\n",
      "    as the dtype argument. Do not set this to bool, np.boolean or any\n",
      "    unsigned integer type.\n",
      "alternate_sign : bool, default=True\n",
      "    When True, an alternating sign is added to the features as to\n",
      "    approximately conserve the inner product in the hashed space even for\n",
      "    small n_features. This approach is similar to sparse random projection.\n",
      "\n",
      "    .. versionchanged:: 0.19\n",
      "        ``alternate_sign`` replaces the now deprecated ``non_negative``\n",
      "        parameter.\n",
      "\n",
      "See Also\n",
      "--------\n",
      "DictVectorizer : Vectorizes string-valued features using a hash table.\n",
      "sklearn.preprocessing.OneHotEncoder : Handles nominal/categorical features.\n",
      "\n",
      "Notes\n",
      "-----\n",
      "This estimator is :term:`stateless` and does not need to be fitted.\n",
      "However, we recommend to call :meth:`fit_transform` instead of\n",
      ":meth:`transform`, as parameter validation is only performed in\n",
      ":meth:`fit`.\n",
      "\n",
      "Examples\n",
      "--------\n",
      ">>> from sklearn.feature_extraction import FeatureHasher\n",
      ">>> h = FeatureHasher(n_features=10)\n",
      ">>> D = [{'dog': 1, 'cat':2, 'elephant':4},{'dog': 2, 'run': 5}]\n",
      ">>> f = h.transform(D)\n",
      ">>> f.toarray()\n",
      "array([[ 0.,  0., -4., -1.,  0.,  0.,  0.,  0.,  0.,  2.],\n",
      "       [ 0.,  0.,  0., -2., -5.,  0.,  0.,  0.,  0.,  0.]])\n",
      "\n",
      "With `input_type=\"string\"`, the input must be an iterable over iterables of\n",
      "strings:\n",
      "\n",
      ">>> h = FeatureHasher(n_features=8, input_type=\"string\")\n",
      ">>> raw_X = [[\"dog\", \"cat\", \"snake\"], [\"snake\", \"dog\"], [\"cat\", \"bird\"]]\n",
      ">>> f = h.transform(raw_X)\n",
      ">>> f.toarray()\n",
      "array([[ 0.,  0.,  0., -1.,  0., -1.,  0.,  1.],\n",
      "       [ 0.,  0.,  0., -1.,  0., -1.,  0.,  0.],\n",
      "       [ 0., -1.,  0.,  0.,  0.,  0.,  0.,  1.]])\n",
      "\u001b[1;31mFile:\u001b[0m           c:\\users\\pallavi\\appdata\\roaming\\python\\python311\\site-packages\\sklearn\\feature_extraction\\_hash.py\n",
      "\u001b[1;31mType:\u001b[0m           type\n",
      "\u001b[1;31mSubclasses:\u001b[0m     "
     ]
    }
   ],
   "source": [
    "? FeatureHasher"
   ]
  },
  {
   "cell_type": "code",
   "execution_count": 22,
   "metadata": {
    "executionInfo": {
     "elapsed": 413,
     "status": "ok",
     "timestamp": 1728919014246,
     "user": {
      "displayName": "YUKTI SETHI",
      "userId": "02282718160304582968"
     },
     "user_tz": -330
    },
    "id": "6FKNGgFTmK9y"
   },
   "outputs": [],
   "source": [
    "fh=FeatureHasher(n_features=4)"
   ]
  },
  {
   "cell_type": "code",
   "execution_count": 23,
   "metadata": {
    "colab": {
     "base_uri": "https://localhost:8080/"
    },
    "executionInfo": {
     "elapsed": 2,
     "status": "ok",
     "timestamp": 1728919017682,
     "user": {
      "displayName": "YUKTI SETHI",
      "userId": "02282718160304582968"
     },
     "user_tz": -330
    },
    "id": "yC34DXSdmMyl",
    "outputId": "e0f9c695-dca0-48b7-dcc5-b96edae431d3"
   },
   "outputs": [
    {
     "data": {
      "text/plain": [
       "array([[  0., -21.,   0.,  -1.],\n",
       "       [ -1., -18.,   0.,   0.],\n",
       "       [  0., -15.,   0.,   1.]])"
      ]
     },
     "execution_count": 23,
     "metadata": {},
     "output_type": "execute_result"
    }
   ],
   "source": [
    "fh.fit_transform(data).toarray()"
   ]
  },
  {
   "cell_type": "markdown",
   "metadata": {
    "id": "5664zFeqX2-x"
   },
   "source": [
    "# Q3\n",
    "\n",
    "df = sns.load_dataset('titanic')\n",
    "\n",
    "df.head()"
   ]
  },
  {
   "cell_type": "markdown",
   "metadata": {
    "id": "lU2noOZrXsws"
   },
   "source": [
    "Use SimpleImputer to fill missing values in the Age column with the mean."
   ]
  },
  {
   "cell_type": "code",
   "execution_count": 24,
   "metadata": {
    "colab": {
     "base_uri": "https://localhost:8080/",
     "height": 226
    },
    "executionInfo": {
     "elapsed": 443,
     "status": "ok",
     "timestamp": 1728919081827,
     "user": {
      "displayName": "YUKTI SETHI",
      "userId": "02282718160304582968"
     },
     "user_tz": -330
    },
    "id": "i7GuzSRXbc5B",
    "outputId": "5a9fb8d7-e59d-4244-8c6b-95d839b59c5a"
   },
   "outputs": [
    {
     "data": {
      "text/html": [
       "<div>\n",
       "<style scoped>\n",
       "    .dataframe tbody tr th:only-of-type {\n",
       "        vertical-align: middle;\n",
       "    }\n",
       "\n",
       "    .dataframe tbody tr th {\n",
       "        vertical-align: top;\n",
       "    }\n",
       "\n",
       "    .dataframe thead th {\n",
       "        text-align: right;\n",
       "    }\n",
       "</style>\n",
       "<table border=\"1\" class=\"dataframe\">\n",
       "  <thead>\n",
       "    <tr style=\"text-align: right;\">\n",
       "      <th></th>\n",
       "      <th>survived</th>\n",
       "      <th>pclass</th>\n",
       "      <th>sex</th>\n",
       "      <th>age</th>\n",
       "      <th>sibsp</th>\n",
       "      <th>parch</th>\n",
       "      <th>fare</th>\n",
       "      <th>embarked</th>\n",
       "      <th>class</th>\n",
       "      <th>who</th>\n",
       "      <th>adult_male</th>\n",
       "      <th>deck</th>\n",
       "      <th>embark_town</th>\n",
       "      <th>alive</th>\n",
       "      <th>alone</th>\n",
       "    </tr>\n",
       "  </thead>\n",
       "  <tbody>\n",
       "    <tr>\n",
       "      <th>0</th>\n",
       "      <td>0</td>\n",
       "      <td>3</td>\n",
       "      <td>male</td>\n",
       "      <td>22.0</td>\n",
       "      <td>1</td>\n",
       "      <td>0</td>\n",
       "      <td>7.2500</td>\n",
       "      <td>S</td>\n",
       "      <td>Third</td>\n",
       "      <td>man</td>\n",
       "      <td>True</td>\n",
       "      <td>NaN</td>\n",
       "      <td>Southampton</td>\n",
       "      <td>no</td>\n",
       "      <td>False</td>\n",
       "    </tr>\n",
       "    <tr>\n",
       "      <th>1</th>\n",
       "      <td>1</td>\n",
       "      <td>1</td>\n",
       "      <td>female</td>\n",
       "      <td>38.0</td>\n",
       "      <td>1</td>\n",
       "      <td>0</td>\n",
       "      <td>71.2833</td>\n",
       "      <td>C</td>\n",
       "      <td>First</td>\n",
       "      <td>woman</td>\n",
       "      <td>False</td>\n",
       "      <td>C</td>\n",
       "      <td>Cherbourg</td>\n",
       "      <td>yes</td>\n",
       "      <td>False</td>\n",
       "    </tr>\n",
       "    <tr>\n",
       "      <th>2</th>\n",
       "      <td>1</td>\n",
       "      <td>3</td>\n",
       "      <td>female</td>\n",
       "      <td>26.0</td>\n",
       "      <td>0</td>\n",
       "      <td>0</td>\n",
       "      <td>7.9250</td>\n",
       "      <td>S</td>\n",
       "      <td>Third</td>\n",
       "      <td>woman</td>\n",
       "      <td>False</td>\n",
       "      <td>NaN</td>\n",
       "      <td>Southampton</td>\n",
       "      <td>yes</td>\n",
       "      <td>True</td>\n",
       "    </tr>\n",
       "    <tr>\n",
       "      <th>3</th>\n",
       "      <td>1</td>\n",
       "      <td>1</td>\n",
       "      <td>female</td>\n",
       "      <td>35.0</td>\n",
       "      <td>1</td>\n",
       "      <td>0</td>\n",
       "      <td>53.1000</td>\n",
       "      <td>S</td>\n",
       "      <td>First</td>\n",
       "      <td>woman</td>\n",
       "      <td>False</td>\n",
       "      <td>C</td>\n",
       "      <td>Southampton</td>\n",
       "      <td>yes</td>\n",
       "      <td>False</td>\n",
       "    </tr>\n",
       "    <tr>\n",
       "      <th>4</th>\n",
       "      <td>0</td>\n",
       "      <td>3</td>\n",
       "      <td>male</td>\n",
       "      <td>35.0</td>\n",
       "      <td>0</td>\n",
       "      <td>0</td>\n",
       "      <td>8.0500</td>\n",
       "      <td>S</td>\n",
       "      <td>Third</td>\n",
       "      <td>man</td>\n",
       "      <td>True</td>\n",
       "      <td>NaN</td>\n",
       "      <td>Southampton</td>\n",
       "      <td>no</td>\n",
       "      <td>True</td>\n",
       "    </tr>\n",
       "  </tbody>\n",
       "</table>\n",
       "</div>"
      ],
      "text/plain": [
       "   survived  pclass     sex   age  sibsp  parch     fare embarked  class  \\\n",
       "0         0       3    male  22.0      1      0   7.2500        S  Third   \n",
       "1         1       1  female  38.0      1      0  71.2833        C  First   \n",
       "2         1       3  female  26.0      0      0   7.9250        S  Third   \n",
       "3         1       1  female  35.0      1      0  53.1000        S  First   \n",
       "4         0       3    male  35.0      0      0   8.0500        S  Third   \n",
       "\n",
       "     who  adult_male deck  embark_town alive  alone  \n",
       "0    man        True  NaN  Southampton    no  False  \n",
       "1  woman       False    C    Cherbourg   yes  False  \n",
       "2  woman       False  NaN  Southampton   yes   True  \n",
       "3  woman       False    C  Southampton   yes  False  \n",
       "4    man        True  NaN  Southampton    no   True  "
      ]
     },
     "execution_count": 24,
     "metadata": {},
     "output_type": "execute_result"
    }
   ],
   "source": [
    "df = sns.load_dataset('titanic')\n",
    "\n",
    "df.head()"
   ]
  },
  {
   "cell_type": "code",
   "execution_count": 25,
   "metadata": {
    "colab": {
     "base_uri": "https://localhost:8080/",
     "height": 221
    },
    "executionInfo": {
     "elapsed": 1379,
     "status": "ok",
     "timestamp": 1728919236391,
     "user": {
      "displayName": "YUKTI SETHI",
      "userId": "02282718160304582968"
     },
     "user_tz": -330
    },
    "id": "5irYiZLRnbNk",
    "outputId": "c87880f9-5aac-45c6-e367-4de3ea0fddb5"
   },
   "outputs": [
    {
     "data": {
      "text/plain": [
       "pandas.core.series.Series"
      ]
     },
     "execution_count": 25,
     "metadata": {},
     "output_type": "execute_result"
    }
   ],
   "source": [
    "type(df['age'])"
   ]
  },
  {
   "cell_type": "code",
   "execution_count": 26,
   "metadata": {
    "executionInfo": {
     "elapsed": 430,
     "status": "ok",
     "timestamp": 1728919084424,
     "user": {
      "displayName": "YUKTI SETHI",
      "userId": "02282718160304582968"
     },
     "user_tz": -330
    },
    "id": "azfKoO9Vbgeb"
   },
   "outputs": [],
   "source": [
    "age= df[['age']]"
   ]
  },
  {
   "cell_type": "code",
   "execution_count": 27,
   "metadata": {
    "colab": {
     "base_uri": "https://localhost:8080/",
     "height": 204
    },
    "executionInfo": {
     "elapsed": 445,
     "status": "ok",
     "timestamp": 1728919243884,
     "user": {
      "displayName": "YUKTI SETHI",
      "userId": "02282718160304582968"
     },
     "user_tz": -330
    },
    "id": "mwY0qTennWDn",
    "outputId": "08d0def7-b5af-4f0c-d0ea-e163fd9feb6b"
   },
   "outputs": [
    {
     "data": {
      "text/plain": [
       "pandas.core.frame.DataFrame"
      ]
     },
     "execution_count": 27,
     "metadata": {},
     "output_type": "execute_result"
    }
   ],
   "source": [
    "type(age)"
   ]
  },
  {
   "cell_type": "code",
   "execution_count": 28,
   "metadata": {
    "executionInfo": {
     "elapsed": 430,
     "status": "ok",
     "timestamp": 1728919107325,
     "user": {
      "displayName": "YUKTI SETHI",
      "userId": "02282718160304582968"
     },
     "user_tz": -330
    },
    "id": "i_P2zBhum1a_"
   },
   "outputs": [],
   "source": [
    "imputer=SimpleImputer(strategy ='mean')"
   ]
  },
  {
   "cell_type": "code",
   "execution_count": 29,
   "metadata": {
    "executionInfo": {
     "elapsed": 437,
     "status": "ok",
     "timestamp": 1728919261971,
     "user": {
      "displayName": "YUKTI SETHI",
      "userId": "02282718160304582968"
     },
     "user_tz": -330
    },
    "id": "t8YvVuY4m_R7"
   },
   "outputs": [],
   "source": [
    "transformed_age=imputer.fit_transform(df[['age']])"
   ]
  },
  {
   "cell_type": "code",
   "execution_count": 30,
   "metadata": {
    "executionInfo": {
     "elapsed": 554,
     "status": "ok",
     "timestamp": 1728919139483,
     "user": {
      "displayName": "YUKTI SETHI",
      "userId": "02282718160304582968"
     },
     "user_tz": -330
    },
    "id": "bXh27fRGnBvf"
   },
   "outputs": [],
   "source": [
    "df['age']=transformed_age"
   ]
  },
  {
   "cell_type": "code",
   "execution_count": 31,
   "metadata": {
    "colab": {
     "base_uri": "https://localhost:8080/"
    },
    "executionInfo": {
     "elapsed": 5,
     "status": "ok",
     "timestamp": 1728919378455,
     "user": {
      "displayName": "YUKTI SETHI",
      "userId": "02282718160304582968"
     },
     "user_tz": -330
    },
    "id": "4LtPo5BBnHal",
    "outputId": "9c2274e2-a2c4-4c3b-f5ea-8cb2835d0b6e"
   },
   "outputs": [
    {
     "data": {
      "text/plain": [
       "0"
      ]
     },
     "execution_count": 31,
     "metadata": {},
     "output_type": "execute_result"
    }
   ],
   "source": [
    "df['age'].isna().sum()"
   ]
  },
  {
   "cell_type": "markdown",
   "metadata": {
    "id": "fjTYJvlRbhKN"
   },
   "source": [
    "# Q4"
   ]
  },
  {
   "cell_type": "markdown",
   "metadata": {
    "id": "z--g_BmHbdch"
   },
   "source": [
    "Use KNNImputer to fill missing values in both Age and Fare columns based on their nearest neighbors."
   ]
  },
  {
   "cell_type": "code",
   "execution_count": 32,
   "metadata": {
    "executionInfo": {
     "elapsed": 425,
     "status": "ok",
     "timestamp": 1728919453049,
     "user": {
      "displayName": "YUKTI SETHI",
      "userId": "02282718160304582968"
     },
     "user_tz": -330
    },
    "id": "VtXjKLtWb1uD"
   },
   "outputs": [],
   "source": [
    "data=df[['age', 'fare']]"
   ]
  },
  {
   "cell_type": "code",
   "execution_count": 33,
   "metadata": {
    "colab": {
     "base_uri": "https://localhost:8080/",
     "height": 206
    },
    "executionInfo": {
     "elapsed": 2,
     "status": "ok",
     "timestamp": 1728919456444,
     "user": {
      "displayName": "YUKTI SETHI",
      "userId": "02282718160304582968"
     },
     "user_tz": -330
    },
    "id": "-dx9QdOGoTwC",
    "outputId": "60581220-c54c-4d15-c065-ac180c933aab"
   },
   "outputs": [
    {
     "data": {
      "text/html": [
       "<div>\n",
       "<style scoped>\n",
       "    .dataframe tbody tr th:only-of-type {\n",
       "        vertical-align: middle;\n",
       "    }\n",
       "\n",
       "    .dataframe tbody tr th {\n",
       "        vertical-align: top;\n",
       "    }\n",
       "\n",
       "    .dataframe thead th {\n",
       "        text-align: right;\n",
       "    }\n",
       "</style>\n",
       "<table border=\"1\" class=\"dataframe\">\n",
       "  <thead>\n",
       "    <tr style=\"text-align: right;\">\n",
       "      <th></th>\n",
       "      <th>age</th>\n",
       "      <th>fare</th>\n",
       "    </tr>\n",
       "  </thead>\n",
       "  <tbody>\n",
       "    <tr>\n",
       "      <th>0</th>\n",
       "      <td>22.0</td>\n",
       "      <td>7.2500</td>\n",
       "    </tr>\n",
       "    <tr>\n",
       "      <th>1</th>\n",
       "      <td>38.0</td>\n",
       "      <td>71.2833</td>\n",
       "    </tr>\n",
       "    <tr>\n",
       "      <th>2</th>\n",
       "      <td>26.0</td>\n",
       "      <td>7.9250</td>\n",
       "    </tr>\n",
       "    <tr>\n",
       "      <th>3</th>\n",
       "      <td>35.0</td>\n",
       "      <td>53.1000</td>\n",
       "    </tr>\n",
       "    <tr>\n",
       "      <th>4</th>\n",
       "      <td>35.0</td>\n",
       "      <td>8.0500</td>\n",
       "    </tr>\n",
       "  </tbody>\n",
       "</table>\n",
       "</div>"
      ],
      "text/plain": [
       "    age     fare\n",
       "0  22.0   7.2500\n",
       "1  38.0  71.2833\n",
       "2  26.0   7.9250\n",
       "3  35.0  53.1000\n",
       "4  35.0   8.0500"
      ]
     },
     "execution_count": 33,
     "metadata": {},
     "output_type": "execute_result"
    }
   ],
   "source": [
    "data.head()"
   ]
  },
  {
   "cell_type": "code",
   "execution_count": 34,
   "metadata": {
    "executionInfo": {
     "elapsed": 453,
     "status": "ok",
     "timestamp": 1728919492079,
     "user": {
      "displayName": "YUKTI SETHI",
      "userId": "02282718160304582968"
     },
     "user_tz": -330
    },
    "id": "WR8Ra3LkoXbE"
   },
   "outputs": [],
   "source": [
    "knn_imputer=KNNImputer(n_neighbors=5)"
   ]
  },
  {
   "cell_type": "code",
   "execution_count": 35,
   "metadata": {
    "executionInfo": {
     "elapsed": 407,
     "status": "ok",
     "timestamp": 1728919522077,
     "user": {
      "displayName": "YUKTI SETHI",
      "userId": "02282718160304582968"
     },
     "user_tz": -330
    },
    "id": "NTsqD1qKodR0"
   },
   "outputs": [],
   "source": [
    "imputed_data=knn_imputer.fit_transform(data)"
   ]
  },
  {
   "cell_type": "code",
   "execution_count": 36,
   "metadata": {
    "colab": {
     "base_uri": "https://localhost:8080/"
    },
    "executionInfo": {
     "elapsed": 408,
     "status": "ok",
     "timestamp": 1728919526392,
     "user": {
      "displayName": "YUKTI SETHI",
      "userId": "02282718160304582968"
     },
     "user_tz": -330
    },
    "id": "aeY_NOjookra",
    "outputId": "7f95541a-bb7f-4116-adcb-142431ea56fa"
   },
   "outputs": [
    {
     "data": {
      "text/plain": [
       "array([[22.        ,  7.25      ],\n",
       "       [38.        , 71.2833    ],\n",
       "       [26.        ,  7.925     ],\n",
       "       ...,\n",
       "       [29.69911765, 23.45      ],\n",
       "       [26.        , 30.        ],\n",
       "       [32.        ,  7.75      ]])"
      ]
     },
     "execution_count": 36,
     "metadata": {},
     "output_type": "execute_result"
    }
   ],
   "source": [
    "imputed_data"
   ]
  },
  {
   "cell_type": "code",
   "execution_count": 37,
   "metadata": {
    "executionInfo": {
     "elapsed": 652,
     "status": "ok",
     "timestamp": 1728919754046,
     "user": {
      "displayName": "YUKTI SETHI",
      "userId": "02282718160304582968"
     },
     "user_tz": -330
    },
    "id": "xAEYNt3xouRD"
   },
   "outputs": [],
   "source": [
    "imputed_datadf = pd.DataFrame(imputed_data, columns= ['age', 'fare'])"
   ]
  },
  {
   "cell_type": "code",
   "execution_count": 38,
   "metadata": {
    "executionInfo": {
     "elapsed": 419,
     "status": "ok",
     "timestamp": 1728919929335,
     "user": {
      "displayName": "YUKTI SETHI",
      "userId": "02282718160304582968"
     },
     "user_tz": -330
    },
    "id": "q5ukOaCDppLl"
   },
   "outputs": [],
   "source": [
    "df[['age', 'fare']] = imputed_datadf"
   ]
  },
  {
   "cell_type": "code",
   "execution_count": 39,
   "metadata": {
    "colab": {
     "base_uri": "https://localhost:8080/",
     "height": 226
    },
    "executionInfo": {
     "elapsed": 3,
     "status": "ok",
     "timestamp": 1728919936320,
     "user": {
      "displayName": "YUKTI SETHI",
      "userId": "02282718160304582968"
     },
     "user_tz": -330
    },
    "id": "7sN8wPFwqIp4",
    "outputId": "569dab6d-cf08-4ad2-b81d-86ec19d66b02"
   },
   "outputs": [
    {
     "data": {
      "text/html": [
       "<div>\n",
       "<style scoped>\n",
       "    .dataframe tbody tr th:only-of-type {\n",
       "        vertical-align: middle;\n",
       "    }\n",
       "\n",
       "    .dataframe tbody tr th {\n",
       "        vertical-align: top;\n",
       "    }\n",
       "\n",
       "    .dataframe thead th {\n",
       "        text-align: right;\n",
       "    }\n",
       "</style>\n",
       "<table border=\"1\" class=\"dataframe\">\n",
       "  <thead>\n",
       "    <tr style=\"text-align: right;\">\n",
       "      <th></th>\n",
       "      <th>survived</th>\n",
       "      <th>pclass</th>\n",
       "      <th>sex</th>\n",
       "      <th>age</th>\n",
       "      <th>sibsp</th>\n",
       "      <th>parch</th>\n",
       "      <th>fare</th>\n",
       "      <th>embarked</th>\n",
       "      <th>class</th>\n",
       "      <th>who</th>\n",
       "      <th>adult_male</th>\n",
       "      <th>deck</th>\n",
       "      <th>embark_town</th>\n",
       "      <th>alive</th>\n",
       "      <th>alone</th>\n",
       "    </tr>\n",
       "  </thead>\n",
       "  <tbody>\n",
       "    <tr>\n",
       "      <th>0</th>\n",
       "      <td>0</td>\n",
       "      <td>3</td>\n",
       "      <td>male</td>\n",
       "      <td>22.0</td>\n",
       "      <td>1</td>\n",
       "      <td>0</td>\n",
       "      <td>7.2500</td>\n",
       "      <td>S</td>\n",
       "      <td>Third</td>\n",
       "      <td>man</td>\n",
       "      <td>True</td>\n",
       "      <td>NaN</td>\n",
       "      <td>Southampton</td>\n",
       "      <td>no</td>\n",
       "      <td>False</td>\n",
       "    </tr>\n",
       "    <tr>\n",
       "      <th>1</th>\n",
       "      <td>1</td>\n",
       "      <td>1</td>\n",
       "      <td>female</td>\n",
       "      <td>38.0</td>\n",
       "      <td>1</td>\n",
       "      <td>0</td>\n",
       "      <td>71.2833</td>\n",
       "      <td>C</td>\n",
       "      <td>First</td>\n",
       "      <td>woman</td>\n",
       "      <td>False</td>\n",
       "      <td>C</td>\n",
       "      <td>Cherbourg</td>\n",
       "      <td>yes</td>\n",
       "      <td>False</td>\n",
       "    </tr>\n",
       "    <tr>\n",
       "      <th>2</th>\n",
       "      <td>1</td>\n",
       "      <td>3</td>\n",
       "      <td>female</td>\n",
       "      <td>26.0</td>\n",
       "      <td>0</td>\n",
       "      <td>0</td>\n",
       "      <td>7.9250</td>\n",
       "      <td>S</td>\n",
       "      <td>Third</td>\n",
       "      <td>woman</td>\n",
       "      <td>False</td>\n",
       "      <td>NaN</td>\n",
       "      <td>Southampton</td>\n",
       "      <td>yes</td>\n",
       "      <td>True</td>\n",
       "    </tr>\n",
       "    <tr>\n",
       "      <th>3</th>\n",
       "      <td>1</td>\n",
       "      <td>1</td>\n",
       "      <td>female</td>\n",
       "      <td>35.0</td>\n",
       "      <td>1</td>\n",
       "      <td>0</td>\n",
       "      <td>53.1000</td>\n",
       "      <td>S</td>\n",
       "      <td>First</td>\n",
       "      <td>woman</td>\n",
       "      <td>False</td>\n",
       "      <td>C</td>\n",
       "      <td>Southampton</td>\n",
       "      <td>yes</td>\n",
       "      <td>False</td>\n",
       "    </tr>\n",
       "    <tr>\n",
       "      <th>4</th>\n",
       "      <td>0</td>\n",
       "      <td>3</td>\n",
       "      <td>male</td>\n",
       "      <td>35.0</td>\n",
       "      <td>0</td>\n",
       "      <td>0</td>\n",
       "      <td>8.0500</td>\n",
       "      <td>S</td>\n",
       "      <td>Third</td>\n",
       "      <td>man</td>\n",
       "      <td>True</td>\n",
       "      <td>NaN</td>\n",
       "      <td>Southampton</td>\n",
       "      <td>no</td>\n",
       "      <td>True</td>\n",
       "    </tr>\n",
       "  </tbody>\n",
       "</table>\n",
       "</div>"
      ],
      "text/plain": [
       "   survived  pclass     sex   age  sibsp  parch     fare embarked  class  \\\n",
       "0         0       3    male  22.0      1      0   7.2500        S  Third   \n",
       "1         1       1  female  38.0      1      0  71.2833        C  First   \n",
       "2         1       3  female  26.0      0      0   7.9250        S  Third   \n",
       "3         1       1  female  35.0      1      0  53.1000        S  First   \n",
       "4         0       3    male  35.0      0      0   8.0500        S  Third   \n",
       "\n",
       "     who  adult_male deck  embark_town alive  alone  \n",
       "0    man        True  NaN  Southampton    no  False  \n",
       "1  woman       False    C    Cherbourg   yes  False  \n",
       "2  woman       False  NaN  Southampton   yes   True  \n",
       "3  woman       False    C  Southampton   yes  False  \n",
       "4    man        True  NaN  Southampton    no   True  "
      ]
     },
     "execution_count": 39,
     "metadata": {},
     "output_type": "execute_result"
    }
   ],
   "source": [
    "df.head()"
   ]
  },
  {
   "cell_type": "code",
   "execution_count": 40,
   "metadata": {
    "colab": {
     "base_uri": "https://localhost:8080/",
     "height": 554
    },
    "executionInfo": {
     "elapsed": 3,
     "status": "ok",
     "timestamp": 1728919951372,
     "user": {
      "displayName": "YUKTI SETHI",
      "userId": "02282718160304582968"
     },
     "user_tz": -330
    },
    "id": "lPa3LZk2qLit",
    "outputId": "03aba881-bdb2-49dc-a6e3-26421bd1d257"
   },
   "outputs": [
    {
     "data": {
      "text/plain": [
       "survived         0\n",
       "pclass           0\n",
       "sex              0\n",
       "age              0\n",
       "sibsp            0\n",
       "parch            0\n",
       "fare             0\n",
       "embarked         2\n",
       "class            0\n",
       "who              0\n",
       "adult_male       0\n",
       "deck           688\n",
       "embark_town      2\n",
       "alive            0\n",
       "alone            0\n",
       "dtype: int64"
      ]
     },
     "execution_count": 40,
     "metadata": {},
     "output_type": "execute_result"
    }
   ],
   "source": [
    "df.isna().sum()"
   ]
  },
  {
   "cell_type": "markdown",
   "metadata": {
    "id": "SRALAJGLb2B8"
   },
   "source": [
    "# Q5\n",
    "\n",
    "Use OneHotEncoder to encode the categorical Sex and Embarked columns."
   ]
  },
  {
   "cell_type": "markdown",
   "metadata": {
    "id": "J8yEo4hEqZpg"
   },
   "source": []
  },
  {
   "cell_type": "code",
   "execution_count": 41,
   "metadata": {
    "executionInfo": {
     "elapsed": 1,
     "status": "ok",
     "timestamp": 1728920612012,
     "user": {
      "displayName": "YUKTI SETHI",
      "userId": "02282718160304582968"
     },
     "user_tz": -330
    },
    "id": "KcfPY2fwd1oz"
   },
   "outputs": [],
   "source": [
    "from sklearn.preprocessing import OneHotEncoder\n",
    "onehot=OneHotEncoder(sparse_output=False)"
   ]
  },
  {
   "cell_type": "code",
   "execution_count": 42,
   "metadata": {
    "executionInfo": {
     "elapsed": 1,
     "status": "ok",
     "timestamp": 1728920612878,
     "user": {
      "displayName": "YUKTI SETHI",
      "userId": "02282718160304582968"
     },
     "user_tz": -330
    },
    "id": "mB4nFZ2CrO3z"
   },
   "outputs": [
    {
     "name": "stdout",
     "output_type": "stream",
     "text": [
      "\u001b[1;31mInit signature:\u001b[0m\n",
      "\u001b[0mOneHotEncoder\u001b[0m\u001b[1;33m(\u001b[0m\u001b[1;33m\n",
      "\u001b[0m    \u001b[1;33m*\u001b[0m\u001b[1;33m,\u001b[0m\u001b[1;33m\n",
      "\u001b[0m    \u001b[0mcategories\u001b[0m\u001b[1;33m=\u001b[0m\u001b[1;34m'auto'\u001b[0m\u001b[1;33m,\u001b[0m\u001b[1;33m\n",
      "\u001b[0m    \u001b[0mdrop\u001b[0m\u001b[1;33m=\u001b[0m\u001b[1;32mNone\u001b[0m\u001b[1;33m,\u001b[0m\u001b[1;33m\n",
      "\u001b[0m    \u001b[0msparse_output\u001b[0m\u001b[1;33m=\u001b[0m\u001b[1;32mTrue\u001b[0m\u001b[1;33m,\u001b[0m\u001b[1;33m\n",
      "\u001b[0m    \u001b[0mdtype\u001b[0m\u001b[1;33m=\u001b[0m\u001b[1;33m<\u001b[0m\u001b[1;32mclass\u001b[0m \u001b[1;34m'numpy.float64'\u001b[0m\u001b[1;33m>\u001b[0m\u001b[1;33m,\u001b[0m\u001b[1;33m\n",
      "\u001b[0m    \u001b[0mhandle_unknown\u001b[0m\u001b[1;33m=\u001b[0m\u001b[1;34m'error'\u001b[0m\u001b[1;33m,\u001b[0m\u001b[1;33m\n",
      "\u001b[0m    \u001b[0mmin_frequency\u001b[0m\u001b[1;33m=\u001b[0m\u001b[1;32mNone\u001b[0m\u001b[1;33m,\u001b[0m\u001b[1;33m\n",
      "\u001b[0m    \u001b[0mmax_categories\u001b[0m\u001b[1;33m=\u001b[0m\u001b[1;32mNone\u001b[0m\u001b[1;33m,\u001b[0m\u001b[1;33m\n",
      "\u001b[0m    \u001b[0mfeature_name_combiner\u001b[0m\u001b[1;33m=\u001b[0m\u001b[1;34m'concat'\u001b[0m\u001b[1;33m,\u001b[0m\u001b[1;33m\n",
      "\u001b[0m\u001b[1;33m)\u001b[0m\u001b[1;33m\u001b[0m\u001b[1;33m\u001b[0m\u001b[0m\n",
      "\u001b[1;31mDocstring:\u001b[0m     \n",
      "Encode categorical features as a one-hot numeric array.\n",
      "\n",
      "The input to this transformer should be an array-like of integers or\n",
      "strings, denoting the values taken on by categorical (discrete) features.\n",
      "The features are encoded using a one-hot (aka 'one-of-K' or 'dummy')\n",
      "encoding scheme. This creates a binary column for each category and\n",
      "returns a sparse matrix or dense array (depending on the ``sparse_output``\n",
      "parameter).\n",
      "\n",
      "By default, the encoder derives the categories based on the unique values\n",
      "in each feature. Alternatively, you can also specify the `categories`\n",
      "manually.\n",
      "\n",
      "This encoding is needed for feeding categorical data to many scikit-learn\n",
      "estimators, notably linear models and SVMs with the standard kernels.\n",
      "\n",
      "Note: a one-hot encoding of y labels should use a LabelBinarizer\n",
      "instead.\n",
      "\n",
      "Read more in the :ref:`User Guide <preprocessing_categorical_features>`.\n",
      "For a comparison of different encoders, refer to:\n",
      ":ref:`sphx_glr_auto_examples_preprocessing_plot_target_encoder.py`.\n",
      "\n",
      "Parameters\n",
      "----------\n",
      "categories : 'auto' or a list of array-like, default='auto'\n",
      "    Categories (unique values) per feature:\n",
      "\n",
      "    - 'auto' : Determine categories automatically from the training data.\n",
      "    - list : ``categories[i]`` holds the categories expected in the ith\n",
      "      column. The passed categories should not mix strings and numeric\n",
      "      values within a single feature, and should be sorted in case of\n",
      "      numeric values.\n",
      "\n",
      "    The used categories can be found in the ``categories_`` attribute.\n",
      "\n",
      "    .. versionadded:: 0.20\n",
      "\n",
      "drop : {'first', 'if_binary'} or an array-like of shape (n_features,),             default=None\n",
      "    Specifies a methodology to use to drop one of the categories per\n",
      "    feature. This is useful in situations where perfectly collinear\n",
      "    features cause problems, such as when feeding the resulting data\n",
      "    into an unregularized linear regression model.\n",
      "\n",
      "    However, dropping one category breaks the symmetry of the original\n",
      "    representation and can therefore induce a bias in downstream models,\n",
      "    for instance for penalized linear classification or regression models.\n",
      "\n",
      "    - None : retain all features (the default).\n",
      "    - 'first' : drop the first category in each feature. If only one\n",
      "      category is present, the feature will be dropped entirely.\n",
      "    - 'if_binary' : drop the first category in each feature with two\n",
      "      categories. Features with 1 or more than 2 categories are\n",
      "      left intact.\n",
      "    - array : ``drop[i]`` is the category in feature ``X[:, i]`` that\n",
      "      should be dropped.\n",
      "\n",
      "    When `max_categories` or `min_frequency` is configured to group\n",
      "    infrequent categories, the dropping behavior is handled after the\n",
      "    grouping.\n",
      "\n",
      "    .. versionadded:: 0.21\n",
      "       The parameter `drop` was added in 0.21.\n",
      "\n",
      "    .. versionchanged:: 0.23\n",
      "       The option `drop='if_binary'` was added in 0.23.\n",
      "\n",
      "    .. versionchanged:: 1.1\n",
      "        Support for dropping infrequent categories.\n",
      "\n",
      "sparse_output : bool, default=True\n",
      "    When ``True``, it returns a :class:`scipy.sparse.csr_matrix`,\n",
      "    i.e. a sparse matrix in \"Compressed Sparse Row\" (CSR) format.\n",
      "\n",
      "    .. versionadded:: 1.2\n",
      "       `sparse` was renamed to `sparse_output`\n",
      "\n",
      "dtype : number type, default=np.float64\n",
      "    Desired dtype of output.\n",
      "\n",
      "handle_unknown : {'error', 'ignore', 'infrequent_if_exist', 'warn'},                      default='error'\n",
      "    Specifies the way unknown categories are handled during :meth:`transform`.\n",
      "\n",
      "    - 'error' : Raise an error if an unknown category is present during transform.\n",
      "    - 'ignore' : When an unknown category is encountered during\n",
      "      transform, the resulting one-hot encoded columns for this feature\n",
      "      will be all zeros. In the inverse transform, an unknown category\n",
      "      will be denoted as None.\n",
      "    - 'infrequent_if_exist' : When an unknown category is encountered\n",
      "      during transform, the resulting one-hot encoded columns for this\n",
      "      feature will map to the infrequent category if it exists. The\n",
      "      infrequent category will be mapped to the last position in the\n",
      "      encoding. During inverse transform, an unknown category will be\n",
      "      mapped to the category denoted `'infrequent'` if it exists. If the\n",
      "      `'infrequent'` category does not exist, then :meth:`transform` and\n",
      "      :meth:`inverse_transform` will handle an unknown category as with\n",
      "      `handle_unknown='ignore'`. Infrequent categories exist based on\n",
      "      `min_frequency` and `max_categories`. Read more in the\n",
      "      :ref:`User Guide <encoder_infrequent_categories>`.\n",
      "    - 'warn' : When an unknown category is encountered during transform\n",
      "      a warning is issued, and the encoding then proceeds as described for\n",
      "      `handle_unknown=\"infrequent_if_exist\"`.\n",
      "\n",
      "    .. versionchanged:: 1.1\n",
      "        `'infrequent_if_exist'` was added to automatically handle unknown\n",
      "        categories and infrequent categories.\n",
      "\n",
      "    .. versionadded:: 1.6\n",
      "       The option `\"warn\"` was added in 1.6.\n",
      "\n",
      "min_frequency : int or float, default=None\n",
      "    Specifies the minimum frequency below which a category will be\n",
      "    considered infrequent.\n",
      "\n",
      "    - If `int`, categories with a smaller cardinality will be considered\n",
      "      infrequent.\n",
      "\n",
      "    - If `float`, categories with a smaller cardinality than\n",
      "      `min_frequency * n_samples`  will be considered infrequent.\n",
      "\n",
      "    .. versionadded:: 1.1\n",
      "        Read more in the :ref:`User Guide <encoder_infrequent_categories>`.\n",
      "\n",
      "max_categories : int, default=None\n",
      "    Specifies an upper limit to the number of output features for each input\n",
      "    feature when considering infrequent categories. If there are infrequent\n",
      "    categories, `max_categories` includes the category representing the\n",
      "    infrequent categories along with the frequent categories. If `None`,\n",
      "    there is no limit to the number of output features.\n",
      "\n",
      "    .. versionadded:: 1.1\n",
      "        Read more in the :ref:`User Guide <encoder_infrequent_categories>`.\n",
      "\n",
      "feature_name_combiner : \"concat\" or callable, default=\"concat\"\n",
      "    Callable with signature `def callable(input_feature, category)` that returns a\n",
      "    string. This is used to create feature names to be returned by\n",
      "    :meth:`get_feature_names_out`.\n",
      "\n",
      "    `\"concat\"` concatenates encoded feature name and category with\n",
      "    `feature + \"_\" + str(category)`.E.g. feature X with values 1, 6, 7 create\n",
      "    feature names `X_1, X_6, X_7`.\n",
      "\n",
      "    .. versionadded:: 1.3\n",
      "\n",
      "Attributes\n",
      "----------\n",
      "categories_ : list of arrays\n",
      "    The categories of each feature determined during fitting\n",
      "    (in order of the features in X and corresponding with the output\n",
      "    of ``transform``). This includes the category specified in ``drop``\n",
      "    (if any).\n",
      "\n",
      "drop_idx_ : array of shape (n_features,)\n",
      "    - ``drop_idx_[i]`` is the index in ``categories_[i]`` of the category\n",
      "      to be dropped for each feature.\n",
      "    - ``drop_idx_[i] = None`` if no category is to be dropped from the\n",
      "      feature with index ``i``, e.g. when `drop='if_binary'` and the\n",
      "      feature isn't binary.\n",
      "    - ``drop_idx_ = None`` if all the transformed features will be\n",
      "      retained.\n",
      "\n",
      "    If infrequent categories are enabled by setting `min_frequency` or\n",
      "    `max_categories` to a non-default value and `drop_idx[i]` corresponds\n",
      "    to a infrequent category, then the entire infrequent category is\n",
      "    dropped.\n",
      "\n",
      "    .. versionchanged:: 0.23\n",
      "       Added the possibility to contain `None` values.\n",
      "\n",
      "infrequent_categories_ : list of ndarray\n",
      "    Defined only if infrequent categories are enabled by setting\n",
      "    `min_frequency` or `max_categories` to a non-default value.\n",
      "    `infrequent_categories_[i]` are the infrequent categories for feature\n",
      "    `i`. If the feature `i` has no infrequent categories\n",
      "    `infrequent_categories_[i]` is None.\n",
      "\n",
      "    .. versionadded:: 1.1\n",
      "\n",
      "n_features_in_ : int\n",
      "    Number of features seen during :term:`fit`.\n",
      "\n",
      "    .. versionadded:: 1.0\n",
      "\n",
      "feature_names_in_ : ndarray of shape (`n_features_in_`,)\n",
      "    Names of features seen during :term:`fit`. Defined only when `X`\n",
      "    has feature names that are all strings.\n",
      "\n",
      "    .. versionadded:: 1.0\n",
      "\n",
      "feature_name_combiner : callable or None\n",
      "    Callable with signature `def callable(input_feature, category)` that returns a\n",
      "    string. This is used to create feature names to be returned by\n",
      "    :meth:`get_feature_names_out`.\n",
      "\n",
      "    .. versionadded:: 1.3\n",
      "\n",
      "See Also\n",
      "--------\n",
      "OrdinalEncoder : Performs an ordinal (integer)\n",
      "  encoding of the categorical features.\n",
      "TargetEncoder : Encodes categorical features using the target.\n",
      "sklearn.feature_extraction.DictVectorizer : Performs a one-hot encoding of\n",
      "  dictionary items (also handles string-valued features).\n",
      "sklearn.feature_extraction.FeatureHasher : Performs an approximate one-hot\n",
      "  encoding of dictionary items or strings.\n",
      "LabelBinarizer : Binarizes labels in a one-vs-all\n",
      "  fashion.\n",
      "MultiLabelBinarizer : Transforms between iterable of\n",
      "  iterables and a multilabel format, e.g. a (samples x classes) binary\n",
      "  matrix indicating the presence of a class label.\n",
      "\n",
      "Examples\n",
      "--------\n",
      "Given a dataset with two features, we let the encoder find the unique\n",
      "values per feature and transform the data to a binary one-hot encoding.\n",
      "\n",
      ">>> from sklearn.preprocessing import OneHotEncoder\n",
      "\n",
      "One can discard categories not seen during `fit`:\n",
      "\n",
      ">>> enc = OneHotEncoder(handle_unknown='ignore')\n",
      ">>> X = [['Male', 1], ['Female', 3], ['Female', 2]]\n",
      ">>> enc.fit(X)\n",
      "OneHotEncoder(handle_unknown='ignore')\n",
      ">>> enc.categories_\n",
      "[array(['Female', 'Male'], dtype=object), array([1, 2, 3], dtype=object)]\n",
      ">>> enc.transform([['Female', 1], ['Male', 4]]).toarray()\n",
      "array([[1., 0., 1., 0., 0.],\n",
      "       [0., 1., 0., 0., 0.]])\n",
      ">>> enc.inverse_transform([[0, 1, 1, 0, 0], [0, 0, 0, 1, 0]])\n",
      "array([['Male', 1],\n",
      "       [None, 2]], dtype=object)\n",
      ">>> enc.get_feature_names_out(['gender', 'group'])\n",
      "array(['gender_Female', 'gender_Male', 'group_1', 'group_2', 'group_3'], ...)\n",
      "\n",
      "One can always drop the first column for each feature:\n",
      "\n",
      ">>> drop_enc = OneHotEncoder(drop='first').fit(X)\n",
      ">>> drop_enc.categories_\n",
      "[array(['Female', 'Male'], dtype=object), array([1, 2, 3], dtype=object)]\n",
      ">>> drop_enc.transform([['Female', 1], ['Male', 2]]).toarray()\n",
      "array([[0., 0., 0.],\n",
      "       [1., 1., 0.]])\n",
      "\n",
      "Or drop a column for feature only having 2 categories:\n",
      "\n",
      ">>> drop_binary_enc = OneHotEncoder(drop='if_binary').fit(X)\n",
      ">>> drop_binary_enc.transform([['Female', 1], ['Male', 2]]).toarray()\n",
      "array([[0., 1., 0., 0.],\n",
      "       [1., 0., 1., 0.]])\n",
      "\n",
      "One can change the way feature names are created.\n",
      "\n",
      ">>> def custom_combiner(feature, category):\n",
      "...     return str(feature) + \"_\" + type(category).__name__ + \"_\" + str(category)\n",
      ">>> custom_fnames_enc = OneHotEncoder(feature_name_combiner=custom_combiner).fit(X)\n",
      ">>> custom_fnames_enc.get_feature_names_out()\n",
      "array(['x0_str_Female', 'x0_str_Male', 'x1_int_1', 'x1_int_2', 'x1_int_3'],\n",
      "      dtype=object)\n",
      "\n",
      "Infrequent categories are enabled by setting `max_categories` or `min_frequency`.\n",
      "\n",
      ">>> import numpy as np\n",
      ">>> X = np.array([[\"a\"] * 5 + [\"b\"] * 20 + [\"c\"] * 10 + [\"d\"] * 3], dtype=object).T\n",
      ">>> ohe = OneHotEncoder(max_categories=3, sparse_output=False).fit(X)\n",
      ">>> ohe.infrequent_categories_\n",
      "[array(['a', 'd'], dtype=object)]\n",
      ">>> ohe.transform([[\"a\"], [\"b\"]])\n",
      "array([[0., 0., 1.],\n",
      "       [1., 0., 0.]])\n",
      "\u001b[1;31mFile:\u001b[0m           c:\\users\\pallavi\\appdata\\roaming\\python\\python311\\site-packages\\sklearn\\preprocessing\\_encoders.py\n",
      "\u001b[1;31mType:\u001b[0m           type\n",
      "\u001b[1;31mSubclasses:\u001b[0m     "
     ]
    }
   ],
   "source": [
    "?OneHotEncoder"
   ]
  },
  {
   "cell_type": "code",
   "execution_count": 43,
   "metadata": {
    "executionInfo": {
     "elapsed": 1,
     "status": "ok",
     "timestamp": 1728920614674,
     "user": {
      "displayName": "YUKTI SETHI",
      "userId": "02282718160304582968"
     },
     "user_tz": -330
    },
    "id": "XhkHszz4qbr7"
   },
   "outputs": [],
   "source": [
    "data = df[['sex', 'embarked']]"
   ]
  },
  {
   "cell_type": "code",
   "execution_count": 44,
   "metadata": {
    "colab": {
     "base_uri": "https://localhost:8080/",
     "height": 206
    },
    "executionInfo": {
     "elapsed": 3,
     "status": "ok",
     "timestamp": 1728920615108,
     "user": {
      "displayName": "YUKTI SETHI",
      "userId": "02282718160304582968"
     },
     "user_tz": -330
    },
    "id": "lvEzR5dEqoP2",
    "outputId": "f53c0996-d5ab-4ea3-c9ec-2e2a3bf55354"
   },
   "outputs": [
    {
     "data": {
      "text/html": [
       "<div>\n",
       "<style scoped>\n",
       "    .dataframe tbody tr th:only-of-type {\n",
       "        vertical-align: middle;\n",
       "    }\n",
       "\n",
       "    .dataframe tbody tr th {\n",
       "        vertical-align: top;\n",
       "    }\n",
       "\n",
       "    .dataframe thead th {\n",
       "        text-align: right;\n",
       "    }\n",
       "</style>\n",
       "<table border=\"1\" class=\"dataframe\">\n",
       "  <thead>\n",
       "    <tr style=\"text-align: right;\">\n",
       "      <th></th>\n",
       "      <th>sex</th>\n",
       "      <th>embarked</th>\n",
       "    </tr>\n",
       "  </thead>\n",
       "  <tbody>\n",
       "    <tr>\n",
       "      <th>0</th>\n",
       "      <td>male</td>\n",
       "      <td>S</td>\n",
       "    </tr>\n",
       "    <tr>\n",
       "      <th>1</th>\n",
       "      <td>female</td>\n",
       "      <td>C</td>\n",
       "    </tr>\n",
       "    <tr>\n",
       "      <th>2</th>\n",
       "      <td>female</td>\n",
       "      <td>S</td>\n",
       "    </tr>\n",
       "    <tr>\n",
       "      <th>3</th>\n",
       "      <td>female</td>\n",
       "      <td>S</td>\n",
       "    </tr>\n",
       "    <tr>\n",
       "      <th>4</th>\n",
       "      <td>male</td>\n",
       "      <td>S</td>\n",
       "    </tr>\n",
       "  </tbody>\n",
       "</table>\n",
       "</div>"
      ],
      "text/plain": [
       "      sex embarked\n",
       "0    male        S\n",
       "1  female        C\n",
       "2  female        S\n",
       "3  female        S\n",
       "4    male        S"
      ]
     },
     "execution_count": 44,
     "metadata": {},
     "output_type": "execute_result"
    }
   ],
   "source": [
    "data.head()"
   ]
  },
  {
   "cell_type": "code",
   "execution_count": 45,
   "metadata": {
    "colab": {
     "base_uri": "https://localhost:8080/",
     "height": 210
    },
    "executionInfo": {
     "elapsed": 421,
     "status": "ok",
     "timestamp": 1728920617588,
     "user": {
      "displayName": "YUKTI SETHI",
      "userId": "02282718160304582968"
     },
     "user_tz": -330
    },
    "id": "fEpqaVBSrcGM",
    "outputId": "fd7af83c-7403-4eb5-f416-657a56323171"
   },
   "outputs": [
    {
     "data": {
      "text/plain": [
       "embarked\n",
       "S    644\n",
       "C    168\n",
       "Q     77\n",
       "Name: count, dtype: int64"
      ]
     },
     "execution_count": 45,
     "metadata": {},
     "output_type": "execute_result"
    }
   ],
   "source": [
    "data['embarked'].value_counts()"
   ]
  },
  {
   "cell_type": "code",
   "execution_count": 46,
   "metadata": {
    "executionInfo": {
     "elapsed": 402,
     "status": "ok",
     "timestamp": 1728920761656,
     "user": {
      "displayName": "YUKTI SETHI",
      "userId": "02282718160304582968"
     },
     "user_tz": -330
    },
    "id": "lVP85ruvsNdz"
   },
   "outputs": [],
   "source": [
    "imp=SimpleImputer(strategy='most_frequent')"
   ]
  },
  {
   "cell_type": "code",
   "execution_count": 47,
   "metadata": {
    "executionInfo": {
     "elapsed": 416,
     "status": "ok",
     "timestamp": 1728920795779,
     "user": {
      "displayName": "YUKTI SETHI",
      "userId": "02282718160304582968"
     },
     "user_tz": -330
    },
    "id": "FZo8axrNsX0k"
   },
   "outputs": [],
   "source": [
    "imputed_embarked =imp.fit_transform(data[['embarked']])"
   ]
  },
  {
   "cell_type": "code",
   "execution_count": 48,
   "metadata": {
    "colab": {
     "base_uri": "https://localhost:8080/"
    },
    "executionInfo": {
     "elapsed": 2,
     "status": "ok",
     "timestamp": 1728920797251,
     "user": {
      "displayName": "YUKTI SETHI",
      "userId": "02282718160304582968"
     },
     "user_tz": -330
    },
    "id": "J01YRLBUs4qf",
    "outputId": "0fcefdda-c71b-4bde-b91f-e296e12e152b"
   },
   "outputs": [
    {
     "data": {
      "text/plain": [
       "(891, 1)"
      ]
     },
     "execution_count": 48,
     "metadata": {},
     "output_type": "execute_result"
    }
   ],
   "source": [
    "imputed_embarked.shape"
   ]
  },
  {
   "cell_type": "code",
   "execution_count": 49,
   "metadata": {
    "executionInfo": {
     "elapsed": 2,
     "status": "ok",
     "timestamp": 1728920797252,
     "user": {
      "displayName": "YUKTI SETHI",
      "userId": "02282718160304582968"
     },
     "user_tz": -330
    },
    "id": "0DX4Rc52tHkY"
   },
   "outputs": [],
   "source": [
    "imputed_embarked = imputed_embarked.flatten()"
   ]
  },
  {
   "cell_type": "code",
   "execution_count": 50,
   "metadata": {
    "colab": {
     "base_uri": "https://localhost:8080/"
    },
    "executionInfo": {
     "elapsed": 1,
     "status": "ok",
     "timestamp": 1728920800410,
     "user": {
      "displayName": "YUKTI SETHI",
      "userId": "02282718160304582968"
     },
     "user_tz": -330
    },
    "id": "7OfXlreyseSP",
    "outputId": "6b16a167-bd18-4fff-bdd7-3634383dc6fc"
   },
   "outputs": [
    {
     "name": "stderr",
     "output_type": "stream",
     "text": [
      "C:\\Users\\pallavi\\AppData\\Local\\Temp\\ipykernel_5956\\3362323026.py:1: SettingWithCopyWarning: \n",
      "A value is trying to be set on a copy of a slice from a DataFrame.\n",
      "Try using .loc[row_indexer,col_indexer] = value instead\n",
      "\n",
      "See the caveats in the documentation: https://pandas.pydata.org/pandas-docs/stable/user_guide/indexing.html#returning-a-view-versus-a-copy\n",
      "  data['embarked'] = imputed_embarked\n"
     ]
    }
   ],
   "source": [
    "data['embarked'] = imputed_embarked"
   ]
  },
  {
   "cell_type": "code",
   "execution_count": 51,
   "metadata": {
    "colab": {
     "base_uri": "https://localhost:8080/",
     "height": 147
    },
    "executionInfo": {
     "elapsed": 649,
     "status": "ok",
     "timestamp": 1728920825051,
     "user": {
      "displayName": "YUKTI SETHI",
      "userId": "02282718160304582968"
     },
     "user_tz": -330
    },
    "id": "R8lWvqpvthSn",
    "outputId": "c9dbcfe8-49c3-4612-811b-a8c795954470"
   },
   "outputs": [
    {
     "data": {
      "text/plain": [
       "sex         0\n",
       "embarked    0\n",
       "dtype: int64"
      ]
     },
     "execution_count": 51,
     "metadata": {},
     "output_type": "execute_result"
    }
   ],
   "source": [
    "data.isna().sum()"
   ]
  },
  {
   "cell_type": "code",
   "execution_count": 52,
   "metadata": {
    "colab": {
     "base_uri": "https://localhost:8080/",
     "height": 178
    },
    "executionInfo": {
     "elapsed": 402,
     "status": "ok",
     "timestamp": 1728920859701,
     "user": {
      "displayName": "YUKTI SETHI",
      "userId": "02282718160304582968"
     },
     "user_tz": -330
    },
    "id": "ElapBFUwrlA7",
    "outputId": "1da9c950-0451-42ed-805b-83894ccbaf6a"
   },
   "outputs": [
    {
     "data": {
      "text/plain": [
       "sex\n",
       "male      577\n",
       "female    314\n",
       "Name: count, dtype: int64"
      ]
     },
     "execution_count": 52,
     "metadata": {},
     "output_type": "execute_result"
    }
   ],
   "source": [
    "data['sex'].value_counts()"
   ]
  },
  {
   "cell_type": "code",
   "execution_count": 53,
   "metadata": {
    "executionInfo": {
     "elapsed": 1,
     "status": "ok",
     "timestamp": 1728920861735,
     "user": {
      "displayName": "YUKTI SETHI",
      "userId": "02282718160304582968"
     },
     "user_tz": -330
    },
    "id": "COzQ-1daqqKk"
   },
   "outputs": [],
   "source": [
    "encoded_data=onehot.fit_transform(data)"
   ]
  },
  {
   "cell_type": "code",
   "execution_count": 54,
   "metadata": {
    "colab": {
     "base_uri": "https://localhost:8080/"
    },
    "executionInfo": {
     "elapsed": 2,
     "status": "ok",
     "timestamp": 1728920862873,
     "user": {
      "displayName": "YUKTI SETHI",
      "userId": "02282718160304582968"
     },
     "user_tz": -330
    },
    "id": "eVFEXn_Fq0IC",
    "outputId": "34b5b7e9-0883-483f-e8f2-d7bff67d7c31"
   },
   "outputs": [
    {
     "data": {
      "text/plain": [
       "array([[0., 1., 0., 0., 1.],\n",
       "       [1., 0., 1., 0., 0.],\n",
       "       [1., 0., 0., 0., 1.],\n",
       "       ...,\n",
       "       [1., 0., 0., 0., 1.],\n",
       "       [0., 1., 1., 0., 0.],\n",
       "       [0., 1., 0., 1., 0.]])"
      ]
     },
     "execution_count": 54,
     "metadata": {},
     "output_type": "execute_result"
    }
   ],
   "source": [
    "encoded_data"
   ]
  },
  {
   "cell_type": "code",
   "execution_count": 55,
   "metadata": {
    "colab": {
     "base_uri": "https://localhost:8080/"
    },
    "executionInfo": {
     "elapsed": 411,
     "status": "ok",
     "timestamp": 1728920865678,
     "user": {
      "displayName": "YUKTI SETHI",
      "userId": "02282718160304582968"
     },
     "user_tz": -330
    },
    "id": "oIFIR-X1rZhT",
    "outputId": "d6be2069-4f85-4640-8932-c3b0e2408abc"
   },
   "outputs": [
    {
     "data": {
      "text/plain": [
       "array(['sex_female', 'sex_male', 'embarked_C', 'embarked_Q', 'embarked_S'],\n",
       "      dtype=object)"
      ]
     },
     "execution_count": 55,
     "metadata": {},
     "output_type": "execute_result"
    }
   ],
   "source": [
    "onehot.get_feature_names_out()"
   ]
  },
  {
   "cell_type": "code",
   "execution_count": 56,
   "metadata": {
    "executionInfo": {
     "elapsed": 3,
     "status": "ok",
     "timestamp": 1728920949854,
     "user": {
      "displayName": "YUKTI SETHI",
      "userId": "02282718160304582968"
     },
     "user_tz": -330
    },
    "id": "5K_i_grDtvnN"
   },
   "outputs": [],
   "source": [
    "encoded_df = pd.DataFrame(encoded_data, columns=onehot.get_feature_names_out())"
   ]
  },
  {
   "cell_type": "code",
   "execution_count": 57,
   "metadata": {
    "colab": {
     "base_uri": "https://localhost:8080/",
     "height": 206
    },
    "executionInfo": {
     "elapsed": 3,
     "status": "ok",
     "timestamp": 1728920954230,
     "user": {
      "displayName": "YUKTI SETHI",
      "userId": "02282718160304582968"
     },
     "user_tz": -330
    },
    "id": "pYKyXfHvuBMO",
    "outputId": "745a0b8a-be1a-4ceb-f1c4-65d1e5b56613"
   },
   "outputs": [
    {
     "data": {
      "text/html": [
       "<div>\n",
       "<style scoped>\n",
       "    .dataframe tbody tr th:only-of-type {\n",
       "        vertical-align: middle;\n",
       "    }\n",
       "\n",
       "    .dataframe tbody tr th {\n",
       "        vertical-align: top;\n",
       "    }\n",
       "\n",
       "    .dataframe thead th {\n",
       "        text-align: right;\n",
       "    }\n",
       "</style>\n",
       "<table border=\"1\" class=\"dataframe\">\n",
       "  <thead>\n",
       "    <tr style=\"text-align: right;\">\n",
       "      <th></th>\n",
       "      <th>sex_female</th>\n",
       "      <th>sex_male</th>\n",
       "      <th>embarked_C</th>\n",
       "      <th>embarked_Q</th>\n",
       "      <th>embarked_S</th>\n",
       "    </tr>\n",
       "  </thead>\n",
       "  <tbody>\n",
       "    <tr>\n",
       "      <th>0</th>\n",
       "      <td>0.0</td>\n",
       "      <td>1.0</td>\n",
       "      <td>0.0</td>\n",
       "      <td>0.0</td>\n",
       "      <td>1.0</td>\n",
       "    </tr>\n",
       "    <tr>\n",
       "      <th>1</th>\n",
       "      <td>1.0</td>\n",
       "      <td>0.0</td>\n",
       "      <td>1.0</td>\n",
       "      <td>0.0</td>\n",
       "      <td>0.0</td>\n",
       "    </tr>\n",
       "    <tr>\n",
       "      <th>2</th>\n",
       "      <td>1.0</td>\n",
       "      <td>0.0</td>\n",
       "      <td>0.0</td>\n",
       "      <td>0.0</td>\n",
       "      <td>1.0</td>\n",
       "    </tr>\n",
       "    <tr>\n",
       "      <th>3</th>\n",
       "      <td>1.0</td>\n",
       "      <td>0.0</td>\n",
       "      <td>0.0</td>\n",
       "      <td>0.0</td>\n",
       "      <td>1.0</td>\n",
       "    </tr>\n",
       "    <tr>\n",
       "      <th>4</th>\n",
       "      <td>0.0</td>\n",
       "      <td>1.0</td>\n",
       "      <td>0.0</td>\n",
       "      <td>0.0</td>\n",
       "      <td>1.0</td>\n",
       "    </tr>\n",
       "  </tbody>\n",
       "</table>\n",
       "</div>"
      ],
      "text/plain": [
       "   sex_female  sex_male  embarked_C  embarked_Q  embarked_S\n",
       "0         0.0       1.0         0.0         0.0         1.0\n",
       "1         1.0       0.0         1.0         0.0         0.0\n",
       "2         1.0       0.0         0.0         0.0         1.0\n",
       "3         1.0       0.0         0.0         0.0         1.0\n",
       "4         0.0       1.0         0.0         0.0         1.0"
      ]
     },
     "execution_count": 57,
     "metadata": {},
     "output_type": "execute_result"
    }
   ],
   "source": [
    "encoded_df.head()"
   ]
  },
  {
   "cell_type": "markdown",
   "metadata": {
    "id": "1QlTZvPKd3RX"
   },
   "source": [
    "# Q6\n",
    "Use LabelEncoder to encode the Sex column.\n"
   ]
  },
  {
   "cell_type": "code",
   "execution_count": 58,
   "metadata": {
    "executionInfo": {
     "elapsed": 2,
     "status": "ok",
     "timestamp": 1728921239446,
     "user": {
      "displayName": "YUKTI SETHI",
      "userId": "02282718160304582968"
     },
     "user_tz": -330
    },
    "id": "zbBDyvHkeShM"
   },
   "outputs": [],
   "source": [
    "from sklearn.preprocessing import LabelEncoder\n",
    "enc= LabelEncoder()\n",
    "encoded_sex= enc.fit_transform(df['sex'])"
   ]
  },
  {
   "cell_type": "code",
   "execution_count": 59,
   "metadata": {
    "executionInfo": {
     "elapsed": 429,
     "status": "ok",
     "timestamp": 1728921249516,
     "user": {
      "displayName": "YUKTI SETHI",
      "userId": "02282718160304582968"
     },
     "user_tz": -330
    },
    "id": "I3S5B5XTu2Hs"
   },
   "outputs": [],
   "source": [
    "df['sex'] = encoded_sex"
   ]
  },
  {
   "cell_type": "markdown",
   "metadata": {
    "id": "BoRiEm0xeTEj"
   },
   "source": [
    "# Q7\n",
    " Use OrdinalEncoder to encode the Embarked column, assuming some ordinal ranking of the ports."
   ]
  },
  {
   "cell_type": "code",
   "execution_count": null,
   "metadata": {
    "id": "ML-p4T7XvNdJ"
   },
   "outputs": [],
   "source": []
  },
  {
   "cell_type": "markdown",
   "metadata": {
    "id": "UadxZJSLeeyS"
   },
   "source": [
    "# Q8\n",
    "Create a pipeline that imputes missing values for the Age column and encodes the Sex and Embarked columns using OneHotEncoder."
   ]
  },
  {
   "cell_type": "code",
   "execution_count": 60,
   "metadata": {
    "colab": {
     "base_uri": "https://localhost:8080/",
     "height": 226
    },
    "executionInfo": {
     "elapsed": 425,
     "status": "ok",
     "timestamp": 1728921343665,
     "user": {
      "displayName": "YUKTI SETHI",
      "userId": "02282718160304582968"
     },
     "user_tz": -330
    },
    "id": "Os6eGsE3eXg1",
    "outputId": "d65f63b5-e9fd-4e07-e41e-98bc18abaab4"
   },
   "outputs": [
    {
     "data": {
      "text/html": [
       "<div>\n",
       "<style scoped>\n",
       "    .dataframe tbody tr th:only-of-type {\n",
       "        vertical-align: middle;\n",
       "    }\n",
       "\n",
       "    .dataframe tbody tr th {\n",
       "        vertical-align: top;\n",
       "    }\n",
       "\n",
       "    .dataframe thead th {\n",
       "        text-align: right;\n",
       "    }\n",
       "</style>\n",
       "<table border=\"1\" class=\"dataframe\">\n",
       "  <thead>\n",
       "    <tr style=\"text-align: right;\">\n",
       "      <th></th>\n",
       "      <th>survived</th>\n",
       "      <th>pclass</th>\n",
       "      <th>sex</th>\n",
       "      <th>age</th>\n",
       "      <th>sibsp</th>\n",
       "      <th>parch</th>\n",
       "      <th>fare</th>\n",
       "      <th>embarked</th>\n",
       "      <th>class</th>\n",
       "      <th>who</th>\n",
       "      <th>adult_male</th>\n",
       "      <th>deck</th>\n",
       "      <th>embark_town</th>\n",
       "      <th>alive</th>\n",
       "      <th>alone</th>\n",
       "    </tr>\n",
       "  </thead>\n",
       "  <tbody>\n",
       "    <tr>\n",
       "      <th>0</th>\n",
       "      <td>0</td>\n",
       "      <td>3</td>\n",
       "      <td>male</td>\n",
       "      <td>22.0</td>\n",
       "      <td>1</td>\n",
       "      <td>0</td>\n",
       "      <td>7.2500</td>\n",
       "      <td>S</td>\n",
       "      <td>Third</td>\n",
       "      <td>man</td>\n",
       "      <td>True</td>\n",
       "      <td>NaN</td>\n",
       "      <td>Southampton</td>\n",
       "      <td>no</td>\n",
       "      <td>False</td>\n",
       "    </tr>\n",
       "    <tr>\n",
       "      <th>1</th>\n",
       "      <td>1</td>\n",
       "      <td>1</td>\n",
       "      <td>female</td>\n",
       "      <td>38.0</td>\n",
       "      <td>1</td>\n",
       "      <td>0</td>\n",
       "      <td>71.2833</td>\n",
       "      <td>C</td>\n",
       "      <td>First</td>\n",
       "      <td>woman</td>\n",
       "      <td>False</td>\n",
       "      <td>C</td>\n",
       "      <td>Cherbourg</td>\n",
       "      <td>yes</td>\n",
       "      <td>False</td>\n",
       "    </tr>\n",
       "    <tr>\n",
       "      <th>2</th>\n",
       "      <td>1</td>\n",
       "      <td>3</td>\n",
       "      <td>female</td>\n",
       "      <td>26.0</td>\n",
       "      <td>0</td>\n",
       "      <td>0</td>\n",
       "      <td>7.9250</td>\n",
       "      <td>S</td>\n",
       "      <td>Third</td>\n",
       "      <td>woman</td>\n",
       "      <td>False</td>\n",
       "      <td>NaN</td>\n",
       "      <td>Southampton</td>\n",
       "      <td>yes</td>\n",
       "      <td>True</td>\n",
       "    </tr>\n",
       "    <tr>\n",
       "      <th>3</th>\n",
       "      <td>1</td>\n",
       "      <td>1</td>\n",
       "      <td>female</td>\n",
       "      <td>35.0</td>\n",
       "      <td>1</td>\n",
       "      <td>0</td>\n",
       "      <td>53.1000</td>\n",
       "      <td>S</td>\n",
       "      <td>First</td>\n",
       "      <td>woman</td>\n",
       "      <td>False</td>\n",
       "      <td>C</td>\n",
       "      <td>Southampton</td>\n",
       "      <td>yes</td>\n",
       "      <td>False</td>\n",
       "    </tr>\n",
       "    <tr>\n",
       "      <th>4</th>\n",
       "      <td>0</td>\n",
       "      <td>3</td>\n",
       "      <td>male</td>\n",
       "      <td>35.0</td>\n",
       "      <td>0</td>\n",
       "      <td>0</td>\n",
       "      <td>8.0500</td>\n",
       "      <td>S</td>\n",
       "      <td>Third</td>\n",
       "      <td>man</td>\n",
       "      <td>True</td>\n",
       "      <td>NaN</td>\n",
       "      <td>Southampton</td>\n",
       "      <td>no</td>\n",
       "      <td>True</td>\n",
       "    </tr>\n",
       "  </tbody>\n",
       "</table>\n",
       "</div>"
      ],
      "text/plain": [
       "   survived  pclass     sex   age  sibsp  parch     fare embarked  class  \\\n",
       "0         0       3    male  22.0      1      0   7.2500        S  Third   \n",
       "1         1       1  female  38.0      1      0  71.2833        C  First   \n",
       "2         1       3  female  26.0      0      0   7.9250        S  Third   \n",
       "3         1       1  female  35.0      1      0  53.1000        S  First   \n",
       "4         0       3    male  35.0      0      0   8.0500        S  Third   \n",
       "\n",
       "     who  adult_male deck  embark_town alive  alone  \n",
       "0    man        True  NaN  Southampton    no  False  \n",
       "1  woman       False    C    Cherbourg   yes  False  \n",
       "2  woman       False  NaN  Southampton   yes   True  \n",
       "3  woman       False    C  Southampton   yes  False  \n",
       "4    man        True  NaN  Southampton    no   True  "
      ]
     },
     "execution_count": 60,
     "metadata": {},
     "output_type": "execute_result"
    }
   ],
   "source": [
    "df = sns.load_dataset('titanic')\n",
    "\n",
    "df.head()"
   ]
  },
  {
   "cell_type": "code",
   "execution_count": 61,
   "metadata": {
    "colab": {
     "base_uri": "https://localhost:8080/",
     "height": 335
    },
    "executionInfo": {
     "elapsed": 678,
     "status": "ok",
     "timestamp": 1728924258122,
     "user": {
      "displayName": "YUKTI SETHI",
      "userId": "02282718160304582968"
     },
     "user_tz": -330
    },
    "id": "eOst9fJ56l-o",
    "outputId": "f846a054-6d20-4bb7-99ff-46bfd9e60f4c"
   },
   "outputs": [
    {
     "data": {
      "text/plain": [
       "deck\n",
       "C    59\n",
       "B    47\n",
       "D    33\n",
       "E    32\n",
       "A    15\n",
       "F    13\n",
       "G     4\n",
       "Name: count, dtype: int64"
      ]
     },
     "execution_count": 61,
     "metadata": {},
     "output_type": "execute_result"
    }
   ],
   "source": [
    "df['deck'].value_counts()"
   ]
  },
  {
   "cell_type": "code",
   "execution_count": 62,
   "metadata": {
    "colab": {
     "base_uri": "https://localhost:8080/",
     "height": 210
    },
    "executionInfo": {
     "elapsed": 2,
     "status": "ok",
     "timestamp": 1728924282723,
     "user": {
      "displayName": "YUKTI SETHI",
      "userId": "02282718160304582968"
     },
     "user_tz": -330
    },
    "id": "ftuJaaah6qty",
    "outputId": "94fe77ac-d0bb-4ece-9c29-b03e37cfa56c"
   },
   "outputs": [
    {
     "data": {
      "text/plain": [
       "class\n",
       "Third     491\n",
       "First     216\n",
       "Second    184\n",
       "Name: count, dtype: int64"
      ]
     },
     "execution_count": 62,
     "metadata": {},
     "output_type": "execute_result"
    }
   ],
   "source": [
    "df['class'].value_counts()"
   ]
  },
  {
   "cell_type": "code",
   "execution_count": 63,
   "metadata": {
    "executionInfo": {
     "elapsed": 644,
     "status": "ok",
     "timestamp": 1728921624659,
     "user": {
      "displayName": "YUKTI SETHI",
      "userId": "02282718160304582968"
     },
     "user_tz": -330
    },
    "id": "33vHPYrNvhW0"
   },
   "outputs": [],
   "source": [
    "from sklearn.pipeline import Pipeline"
   ]
  },
  {
   "cell_type": "code",
   "execution_count": 64,
   "metadata": {
    "executionInfo": {
     "elapsed": 1,
     "status": "ok",
     "timestamp": 1728921651476,
     "user": {
      "displayName": "YUKTI SETHI",
      "userId": "02282718160304582968"
     },
     "user_tz": -330
    },
    "id": "jV3zqkeGwl01"
   },
   "outputs": [],
   "source": [
    "from sklearn.compose import ColumnTransformer"
   ]
  },
  {
   "cell_type": "code",
   "execution_count": 65,
   "metadata": {
    "executionInfo": {
     "elapsed": 1,
     "status": "ok",
     "timestamp": 1728922872583,
     "user": {
      "displayName": "YUKTI SETHI",
      "userId": "02282718160304582968"
     },
     "user_tz": -330
    },
    "id": "pUldbGyNvws1"
   },
   "outputs": [],
   "source": [
    "pipe = Pipeline([('preprocessor' ,ColumnTransformer([('imputer' ,  SimpleImputer(strategy = 'mean'), ['age']), ('encoder', OneHotEncoder(sparse_output=False), ['sex', 'embarked'])], remainder = 'passthrough') )])"
   ]
  },
  {
   "cell_type": "code",
   "execution_count": 66,
   "metadata": {
    "executionInfo": {
     "elapsed": 2,
     "status": "ok",
     "timestamp": 1728922874327,
     "user": {
      "displayName": "YUKTI SETHI",
      "userId": "02282718160304582968"
     },
     "user_tz": -330
    },
    "id": "0IYstwwJxajG"
   },
   "outputs": [],
   "source": [
    "dftransformed = pipe.fit_transform(df)"
   ]
  },
  {
   "cell_type": "code",
   "execution_count": 67,
   "metadata": {
    "colab": {
     "base_uri": "https://localhost:8080/"
    },
    "executionInfo": {
     "elapsed": 2,
     "status": "ok",
     "timestamp": 1728922874768,
     "user": {
      "displayName": "YUKTI SETHI",
      "userId": "02282718160304582968"
     },
     "user_tz": -330
    },
    "id": "SJaquPUGxur_",
    "outputId": "ab635bae-0668-4f1a-f4fc-5151730eafd1"
   },
   "outputs": [
    {
     "data": {
      "text/plain": [
       "array([[22.0, 0.0, 1.0, ..., 'Southampton', 'no', False],\n",
       "       [38.0, 1.0, 0.0, ..., 'Cherbourg', 'yes', False],\n",
       "       [26.0, 1.0, 0.0, ..., 'Southampton', 'yes', True],\n",
       "       ...,\n",
       "       [29.69911764705882, 1.0, 0.0, ..., 'Southampton', 'no', False],\n",
       "       [26.0, 0.0, 1.0, ..., 'Cherbourg', 'yes', True],\n",
       "       [32.0, 0.0, 1.0, ..., 'Queenstown', 'no', True]], dtype=object)"
      ]
     },
     "execution_count": 67,
     "metadata": {},
     "output_type": "execute_result"
    }
   ],
   "source": [
    "dftransformed"
   ]
  },
  {
   "cell_type": "code",
   "execution_count": null,
   "metadata": {
    "colab": {
     "base_uri": "https://localhost:8080/",
     "height": 144
    },
    "executionInfo": {
     "elapsed": 399,
     "status": "error",
     "timestamp": 1728923962561,
     "user": {
      "displayName": "YUKTI SETHI",
      "userId": "02282718160304582968"
     },
     "user_tz": -330
    },
    "id": "pQGtC7GE5e9m",
    "outputId": "45801db4-c02b-471e-ebb9-3ee7c519081e"
   },
   "outputs": [],
   "source": []
  },
  {
   "cell_type": "code",
   "execution_count": 68,
   "metadata": {
    "executionInfo": {
     "elapsed": 1,
     "status": "ok",
     "timestamp": 1728922462464,
     "user": {
      "displayName": "YUKTI SETHI",
      "userId": "02282718160304582968"
     },
     "user_tz": -330
    },
    "id": "PS5oihB-xxMk"
   },
   "outputs": [
    {
     "name": "stdout",
     "output_type": "stream",
     "text": [
      "\u001b[1;31mInit signature:\u001b[0m \u001b[0mPipeline\u001b[0m\u001b[1;33m(\u001b[0m\u001b[0msteps\u001b[0m\u001b[1;33m,\u001b[0m \u001b[1;33m*\u001b[0m\u001b[1;33m,\u001b[0m \u001b[0mtransform_input\u001b[0m\u001b[1;33m=\u001b[0m\u001b[1;32mNone\u001b[0m\u001b[1;33m,\u001b[0m \u001b[0mmemory\u001b[0m\u001b[1;33m=\u001b[0m\u001b[1;32mNone\u001b[0m\u001b[1;33m,\u001b[0m \u001b[0mverbose\u001b[0m\u001b[1;33m=\u001b[0m\u001b[1;32mFalse\u001b[0m\u001b[1;33m)\u001b[0m\u001b[1;33m\u001b[0m\u001b[1;33m\u001b[0m\u001b[0m\n",
      "\u001b[1;31mDocstring:\u001b[0m     \n",
      "A sequence of data transformers with an optional final predictor.\n",
      "\n",
      "`Pipeline` allows you to sequentially apply a list of transformers to\n",
      "preprocess the data and, if desired, conclude the sequence with a final\n",
      ":term:`predictor` for predictive modeling.\n",
      "\n",
      "Intermediate steps of the pipeline must be transformers, that is, they\n",
      "must implement `fit` and `transform` methods.\n",
      "The final :term:`estimator` only needs to implement `fit`.\n",
      "The transformers in the pipeline can be cached using ``memory`` argument.\n",
      "\n",
      "The purpose of the pipeline is to assemble several steps that can be\n",
      "cross-validated together while setting different parameters. For this, it\n",
      "enables setting parameters of the various steps using their names and the\n",
      "parameter name separated by a `'__'`, as in the example below. A step's\n",
      "estimator may be replaced entirely by setting the parameter with its name\n",
      "to another estimator, or a transformer removed by setting it to\n",
      "`'passthrough'` or `None`.\n",
      "\n",
      "For an example use case of `Pipeline` combined with\n",
      ":class:`~sklearn.model_selection.GridSearchCV`, refer to\n",
      ":ref:`sphx_glr_auto_examples_compose_plot_compare_reduction.py`. The\n",
      "example :ref:`sphx_glr_auto_examples_compose_plot_digits_pipe.py` shows how\n",
      "to grid search on a pipeline using `'__'` as a separator in the parameter names.\n",
      "\n",
      "Read more in the :ref:`User Guide <pipeline>`.\n",
      "\n",
      ".. versionadded:: 0.5\n",
      "\n",
      "Parameters\n",
      "----------\n",
      "steps : list of tuples\n",
      "    List of (name of step, estimator) tuples that are to be chained in\n",
      "    sequential order. To be compatible with the scikit-learn API, all steps\n",
      "    must define `fit`. All non-last steps must also define `transform`. See\n",
      "    :ref:`Combining Estimators <combining_estimators>` for more details.\n",
      "\n",
      "transform_input : list of str, default=None\n",
      "    The names of the :term:`metadata` parameters that should be transformed by the\n",
      "    pipeline before passing it to the step consuming it.\n",
      "\n",
      "    This enables transforming some input arguments to ``fit`` (other than ``X``)\n",
      "    to be transformed by the steps of the pipeline up to the step which requires\n",
      "    them. Requirement is defined via :ref:`metadata routing <metadata_routing>`.\n",
      "    For instance, this can be used to pass a validation set through the pipeline.\n",
      "\n",
      "    You can only set this if metadata routing is enabled, which you\n",
      "    can enable using ``sklearn.set_config(enable_metadata_routing=True)``.\n",
      "\n",
      "    .. versionadded:: 1.6\n",
      "\n",
      "memory : str or object with the joblib.Memory interface, default=None\n",
      "    Used to cache the fitted transformers of the pipeline. The last step\n",
      "    will never be cached, even if it is a transformer. By default, no\n",
      "    caching is performed. If a string is given, it is the path to the\n",
      "    caching directory. Enabling caching triggers a clone of the transformers\n",
      "    before fitting. Therefore, the transformer instance given to the\n",
      "    pipeline cannot be inspected directly. Use the attribute ``named_steps``\n",
      "    or ``steps`` to inspect estimators within the pipeline. Caching the\n",
      "    transformers is advantageous when fitting is time consuming. See\n",
      "    :ref:`sphx_glr_auto_examples_neighbors_plot_caching_nearest_neighbors.py`\n",
      "    for an example on how to enable caching.\n",
      "\n",
      "verbose : bool, default=False\n",
      "    If True, the time elapsed while fitting each step will be printed as it\n",
      "    is completed.\n",
      "\n",
      "Attributes\n",
      "----------\n",
      "named_steps : :class:`~sklearn.utils.Bunch`\n",
      "    Dictionary-like object, with the following attributes.\n",
      "    Read-only attribute to access any step parameter by user given name.\n",
      "    Keys are step names and values are steps parameters.\n",
      "\n",
      "classes_ : ndarray of shape (n_classes,)\n",
      "    The classes labels. Only exist if the last step of the pipeline is a\n",
      "    classifier.\n",
      "\n",
      "n_features_in_ : int\n",
      "    Number of features seen during :term:`fit`. Only defined if the\n",
      "    underlying first estimator in `steps` exposes such an attribute\n",
      "    when fit.\n",
      "\n",
      "    .. versionadded:: 0.24\n",
      "\n",
      "feature_names_in_ : ndarray of shape (`n_features_in_`,)\n",
      "    Names of features seen during :term:`fit`. Only defined if the\n",
      "    underlying estimator exposes such an attribute when fit.\n",
      "\n",
      "    .. versionadded:: 1.0\n",
      "\n",
      "See Also\n",
      "--------\n",
      "make_pipeline : Convenience function for simplified pipeline construction.\n",
      "\n",
      "Examples\n",
      "--------\n",
      ">>> from sklearn.svm import SVC\n",
      ">>> from sklearn.preprocessing import StandardScaler\n",
      ">>> from sklearn.datasets import make_classification\n",
      ">>> from sklearn.model_selection import train_test_split\n",
      ">>> from sklearn.pipeline import Pipeline\n",
      ">>> X, y = make_classification(random_state=0)\n",
      ">>> X_train, X_test, y_train, y_test = train_test_split(X, y,\n",
      "...                                                     random_state=0)\n",
      ">>> pipe = Pipeline([('scaler', StandardScaler()), ('svc', SVC())])\n",
      ">>> # The pipeline can be used as any other estimator\n",
      ">>> # and avoids leaking the test set into the train set\n",
      ">>> pipe.fit(X_train, y_train).score(X_test, y_test)\n",
      "0.88\n",
      ">>> # An estimator's parameter can be set using '__' syntax\n",
      ">>> pipe.set_params(svc__C=10).fit(X_train, y_train).score(X_test, y_test)\n",
      "0.76\n",
      "\u001b[1;31mFile:\u001b[0m           c:\\users\\pallavi\\appdata\\roaming\\python\\python311\\site-packages\\sklearn\\pipeline.py\n",
      "\u001b[1;31mType:\u001b[0m           ABCMeta\n",
      "\u001b[1;31mSubclasses:\u001b[0m     "
     ]
    }
   ],
   "source": [
    "?Pipeline"
   ]
  },
  {
   "cell_type": "code",
   "execution_count": 69,
   "metadata": {
    "colab": {
     "base_uri": "https://localhost:8080/",
     "height": 308
    },
    "executionInfo": {
     "elapsed": 1253,
     "status": "ok",
     "timestamp": 1728922467114,
     "user": {
      "displayName": "YUKTI SETHI",
      "userId": "02282718160304582968"
     },
     "user_tz": -330
    },
    "id": "dnG6lPQkzG8W",
    "outputId": "af512290-336d-4bc9-bc11-9e0e7481f11a"
   },
   "outputs": [
    {
     "data": {
      "text/html": [
       "<style>#sk-container-id-1 {\n",
       "  /* Definition of color scheme common for light and dark mode */\n",
       "  --sklearn-color-text: #000;\n",
       "  --sklearn-color-text-muted: #666;\n",
       "  --sklearn-color-line: gray;\n",
       "  /* Definition of color scheme for unfitted estimators */\n",
       "  --sklearn-color-unfitted-level-0: #fff5e6;\n",
       "  --sklearn-color-unfitted-level-1: #f6e4d2;\n",
       "  --sklearn-color-unfitted-level-2: #ffe0b3;\n",
       "  --sklearn-color-unfitted-level-3: chocolate;\n",
       "  /* Definition of color scheme for fitted estimators */\n",
       "  --sklearn-color-fitted-level-0: #f0f8ff;\n",
       "  --sklearn-color-fitted-level-1: #d4ebff;\n",
       "  --sklearn-color-fitted-level-2: #b3dbfd;\n",
       "  --sklearn-color-fitted-level-3: cornflowerblue;\n",
       "\n",
       "  /* Specific color for light theme */\n",
       "  --sklearn-color-text-on-default-background: var(--sg-text-color, var(--theme-code-foreground, var(--jp-content-font-color1, black)));\n",
       "  --sklearn-color-background: var(--sg-background-color, var(--theme-background, var(--jp-layout-color0, white)));\n",
       "  --sklearn-color-border-box: var(--sg-text-color, var(--theme-code-foreground, var(--jp-content-font-color1, black)));\n",
       "  --sklearn-color-icon: #696969;\n",
       "\n",
       "  @media (prefers-color-scheme: dark) {\n",
       "    /* Redefinition of color scheme for dark theme */\n",
       "    --sklearn-color-text-on-default-background: var(--sg-text-color, var(--theme-code-foreground, var(--jp-content-font-color1, white)));\n",
       "    --sklearn-color-background: var(--sg-background-color, var(--theme-background, var(--jp-layout-color0, #111)));\n",
       "    --sklearn-color-border-box: var(--sg-text-color, var(--theme-code-foreground, var(--jp-content-font-color1, white)));\n",
       "    --sklearn-color-icon: #878787;\n",
       "  }\n",
       "}\n",
       "\n",
       "#sk-container-id-1 {\n",
       "  color: var(--sklearn-color-text);\n",
       "}\n",
       "\n",
       "#sk-container-id-1 pre {\n",
       "  padding: 0;\n",
       "}\n",
       "\n",
       "#sk-container-id-1 input.sk-hidden--visually {\n",
       "  border: 0;\n",
       "  clip: rect(1px 1px 1px 1px);\n",
       "  clip: rect(1px, 1px, 1px, 1px);\n",
       "  height: 1px;\n",
       "  margin: -1px;\n",
       "  overflow: hidden;\n",
       "  padding: 0;\n",
       "  position: absolute;\n",
       "  width: 1px;\n",
       "}\n",
       "\n",
       "#sk-container-id-1 div.sk-dashed-wrapped {\n",
       "  border: 1px dashed var(--sklearn-color-line);\n",
       "  margin: 0 0.4em 0.5em 0.4em;\n",
       "  box-sizing: border-box;\n",
       "  padding-bottom: 0.4em;\n",
       "  background-color: var(--sklearn-color-background);\n",
       "}\n",
       "\n",
       "#sk-container-id-1 div.sk-container {\n",
       "  /* jupyter's `normalize.less` sets `[hidden] { display: none; }`\n",
       "     but bootstrap.min.css set `[hidden] { display: none !important; }`\n",
       "     so we also need the `!important` here to be able to override the\n",
       "     default hidden behavior on the sphinx rendered scikit-learn.org.\n",
       "     See: https://github.com/scikit-learn/scikit-learn/issues/21755 */\n",
       "  display: inline-block !important;\n",
       "  position: relative;\n",
       "}\n",
       "\n",
       "#sk-container-id-1 div.sk-text-repr-fallback {\n",
       "  display: none;\n",
       "}\n",
       "\n",
       "div.sk-parallel-item,\n",
       "div.sk-serial,\n",
       "div.sk-item {\n",
       "  /* draw centered vertical line to link estimators */\n",
       "  background-image: linear-gradient(var(--sklearn-color-text-on-default-background), var(--sklearn-color-text-on-default-background));\n",
       "  background-size: 2px 100%;\n",
       "  background-repeat: no-repeat;\n",
       "  background-position: center center;\n",
       "}\n",
       "\n",
       "/* Parallel-specific style estimator block */\n",
       "\n",
       "#sk-container-id-1 div.sk-parallel-item::after {\n",
       "  content: \"\";\n",
       "  width: 100%;\n",
       "  border-bottom: 2px solid var(--sklearn-color-text-on-default-background);\n",
       "  flex-grow: 1;\n",
       "}\n",
       "\n",
       "#sk-container-id-1 div.sk-parallel {\n",
       "  display: flex;\n",
       "  align-items: stretch;\n",
       "  justify-content: center;\n",
       "  background-color: var(--sklearn-color-background);\n",
       "  position: relative;\n",
       "}\n",
       "\n",
       "#sk-container-id-1 div.sk-parallel-item {\n",
       "  display: flex;\n",
       "  flex-direction: column;\n",
       "}\n",
       "\n",
       "#sk-container-id-1 div.sk-parallel-item:first-child::after {\n",
       "  align-self: flex-end;\n",
       "  width: 50%;\n",
       "}\n",
       "\n",
       "#sk-container-id-1 div.sk-parallel-item:last-child::after {\n",
       "  align-self: flex-start;\n",
       "  width: 50%;\n",
       "}\n",
       "\n",
       "#sk-container-id-1 div.sk-parallel-item:only-child::after {\n",
       "  width: 0;\n",
       "}\n",
       "\n",
       "/* Serial-specific style estimator block */\n",
       "\n",
       "#sk-container-id-1 div.sk-serial {\n",
       "  display: flex;\n",
       "  flex-direction: column;\n",
       "  align-items: center;\n",
       "  background-color: var(--sklearn-color-background);\n",
       "  padding-right: 1em;\n",
       "  padding-left: 1em;\n",
       "}\n",
       "\n",
       "\n",
       "/* Toggleable style: style used for estimator/Pipeline/ColumnTransformer box that is\n",
       "clickable and can be expanded/collapsed.\n",
       "- Pipeline and ColumnTransformer use this feature and define the default style\n",
       "- Estimators will overwrite some part of the style using the `sk-estimator` class\n",
       "*/\n",
       "\n",
       "/* Pipeline and ColumnTransformer style (default) */\n",
       "\n",
       "#sk-container-id-1 div.sk-toggleable {\n",
       "  /* Default theme specific background. It is overwritten whether we have a\n",
       "  specific estimator or a Pipeline/ColumnTransformer */\n",
       "  background-color: var(--sklearn-color-background);\n",
       "}\n",
       "\n",
       "/* Toggleable label */\n",
       "#sk-container-id-1 label.sk-toggleable__label {\n",
       "  cursor: pointer;\n",
       "  display: flex;\n",
       "  width: 100%;\n",
       "  margin-bottom: 0;\n",
       "  padding: 0.5em;\n",
       "  box-sizing: border-box;\n",
       "  text-align: center;\n",
       "  align-items: start;\n",
       "  justify-content: space-between;\n",
       "  gap: 0.5em;\n",
       "}\n",
       "\n",
       "#sk-container-id-1 label.sk-toggleable__label .caption {\n",
       "  font-size: 0.6rem;\n",
       "  font-weight: lighter;\n",
       "  color: var(--sklearn-color-text-muted);\n",
       "}\n",
       "\n",
       "#sk-container-id-1 label.sk-toggleable__label-arrow:before {\n",
       "  /* Arrow on the left of the label */\n",
       "  content: \"▸\";\n",
       "  float: left;\n",
       "  margin-right: 0.25em;\n",
       "  color: var(--sklearn-color-icon);\n",
       "}\n",
       "\n",
       "#sk-container-id-1 label.sk-toggleable__label-arrow:hover:before {\n",
       "  color: var(--sklearn-color-text);\n",
       "}\n",
       "\n",
       "/* Toggleable content - dropdown */\n",
       "\n",
       "#sk-container-id-1 div.sk-toggleable__content {\n",
       "  display: none;\n",
       "  text-align: left;\n",
       "  /* unfitted */\n",
       "  background-color: var(--sklearn-color-unfitted-level-0);\n",
       "}\n",
       "\n",
       "#sk-container-id-1 div.sk-toggleable__content.fitted {\n",
       "  /* fitted */\n",
       "  background-color: var(--sklearn-color-fitted-level-0);\n",
       "}\n",
       "\n",
       "#sk-container-id-1 div.sk-toggleable__content pre {\n",
       "  margin: 0.2em;\n",
       "  border-radius: 0.25em;\n",
       "  color: var(--sklearn-color-text);\n",
       "  /* unfitted */\n",
       "  background-color: var(--sklearn-color-unfitted-level-0);\n",
       "}\n",
       "\n",
       "#sk-container-id-1 div.sk-toggleable__content.fitted pre {\n",
       "  /* unfitted */\n",
       "  background-color: var(--sklearn-color-fitted-level-0);\n",
       "}\n",
       "\n",
       "#sk-container-id-1 input.sk-toggleable__control:checked~div.sk-toggleable__content {\n",
       "  /* Expand drop-down */\n",
       "  display: block;\n",
       "  width: 100%;\n",
       "  overflow: visible;\n",
       "}\n",
       "\n",
       "#sk-container-id-1 input.sk-toggleable__control:checked~label.sk-toggleable__label-arrow:before {\n",
       "  content: \"▾\";\n",
       "}\n",
       "\n",
       "/* Pipeline/ColumnTransformer-specific style */\n",
       "\n",
       "#sk-container-id-1 div.sk-label input.sk-toggleable__control:checked~label.sk-toggleable__label {\n",
       "  color: var(--sklearn-color-text);\n",
       "  background-color: var(--sklearn-color-unfitted-level-2);\n",
       "}\n",
       "\n",
       "#sk-container-id-1 div.sk-label.fitted input.sk-toggleable__control:checked~label.sk-toggleable__label {\n",
       "  background-color: var(--sklearn-color-fitted-level-2);\n",
       "}\n",
       "\n",
       "/* Estimator-specific style */\n",
       "\n",
       "/* Colorize estimator box */\n",
       "#sk-container-id-1 div.sk-estimator input.sk-toggleable__control:checked~label.sk-toggleable__label {\n",
       "  /* unfitted */\n",
       "  background-color: var(--sklearn-color-unfitted-level-2);\n",
       "}\n",
       "\n",
       "#sk-container-id-1 div.sk-estimator.fitted input.sk-toggleable__control:checked~label.sk-toggleable__label {\n",
       "  /* fitted */\n",
       "  background-color: var(--sklearn-color-fitted-level-2);\n",
       "}\n",
       "\n",
       "#sk-container-id-1 div.sk-label label.sk-toggleable__label,\n",
       "#sk-container-id-1 div.sk-label label {\n",
       "  /* The background is the default theme color */\n",
       "  color: var(--sklearn-color-text-on-default-background);\n",
       "}\n",
       "\n",
       "/* On hover, darken the color of the background */\n",
       "#sk-container-id-1 div.sk-label:hover label.sk-toggleable__label {\n",
       "  color: var(--sklearn-color-text);\n",
       "  background-color: var(--sklearn-color-unfitted-level-2);\n",
       "}\n",
       "\n",
       "/* Label box, darken color on hover, fitted */\n",
       "#sk-container-id-1 div.sk-label.fitted:hover label.sk-toggleable__label.fitted {\n",
       "  color: var(--sklearn-color-text);\n",
       "  background-color: var(--sklearn-color-fitted-level-2);\n",
       "}\n",
       "\n",
       "/* Estimator label */\n",
       "\n",
       "#sk-container-id-1 div.sk-label label {\n",
       "  font-family: monospace;\n",
       "  font-weight: bold;\n",
       "  display: inline-block;\n",
       "  line-height: 1.2em;\n",
       "}\n",
       "\n",
       "#sk-container-id-1 div.sk-label-container {\n",
       "  text-align: center;\n",
       "}\n",
       "\n",
       "/* Estimator-specific */\n",
       "#sk-container-id-1 div.sk-estimator {\n",
       "  font-family: monospace;\n",
       "  border: 1px dotted var(--sklearn-color-border-box);\n",
       "  border-radius: 0.25em;\n",
       "  box-sizing: border-box;\n",
       "  margin-bottom: 0.5em;\n",
       "  /* unfitted */\n",
       "  background-color: var(--sklearn-color-unfitted-level-0);\n",
       "}\n",
       "\n",
       "#sk-container-id-1 div.sk-estimator.fitted {\n",
       "  /* fitted */\n",
       "  background-color: var(--sklearn-color-fitted-level-0);\n",
       "}\n",
       "\n",
       "/* on hover */\n",
       "#sk-container-id-1 div.sk-estimator:hover {\n",
       "  /* unfitted */\n",
       "  background-color: var(--sklearn-color-unfitted-level-2);\n",
       "}\n",
       "\n",
       "#sk-container-id-1 div.sk-estimator.fitted:hover {\n",
       "  /* fitted */\n",
       "  background-color: var(--sklearn-color-fitted-level-2);\n",
       "}\n",
       "\n",
       "/* Specification for estimator info (e.g. \"i\" and \"?\") */\n",
       "\n",
       "/* Common style for \"i\" and \"?\" */\n",
       "\n",
       ".sk-estimator-doc-link,\n",
       "a:link.sk-estimator-doc-link,\n",
       "a:visited.sk-estimator-doc-link {\n",
       "  float: right;\n",
       "  font-size: smaller;\n",
       "  line-height: 1em;\n",
       "  font-family: monospace;\n",
       "  background-color: var(--sklearn-color-background);\n",
       "  border-radius: 1em;\n",
       "  height: 1em;\n",
       "  width: 1em;\n",
       "  text-decoration: none !important;\n",
       "  margin-left: 0.5em;\n",
       "  text-align: center;\n",
       "  /* unfitted */\n",
       "  border: var(--sklearn-color-unfitted-level-1) 1pt solid;\n",
       "  color: var(--sklearn-color-unfitted-level-1);\n",
       "}\n",
       "\n",
       ".sk-estimator-doc-link.fitted,\n",
       "a:link.sk-estimator-doc-link.fitted,\n",
       "a:visited.sk-estimator-doc-link.fitted {\n",
       "  /* fitted */\n",
       "  border: var(--sklearn-color-fitted-level-1) 1pt solid;\n",
       "  color: var(--sklearn-color-fitted-level-1);\n",
       "}\n",
       "\n",
       "/* On hover */\n",
       "div.sk-estimator:hover .sk-estimator-doc-link:hover,\n",
       ".sk-estimator-doc-link:hover,\n",
       "div.sk-label-container:hover .sk-estimator-doc-link:hover,\n",
       ".sk-estimator-doc-link:hover {\n",
       "  /* unfitted */\n",
       "  background-color: var(--sklearn-color-unfitted-level-3);\n",
       "  color: var(--sklearn-color-background);\n",
       "  text-decoration: none;\n",
       "}\n",
       "\n",
       "div.sk-estimator.fitted:hover .sk-estimator-doc-link.fitted:hover,\n",
       ".sk-estimator-doc-link.fitted:hover,\n",
       "div.sk-label-container:hover .sk-estimator-doc-link.fitted:hover,\n",
       ".sk-estimator-doc-link.fitted:hover {\n",
       "  /* fitted */\n",
       "  background-color: var(--sklearn-color-fitted-level-3);\n",
       "  color: var(--sklearn-color-background);\n",
       "  text-decoration: none;\n",
       "}\n",
       "\n",
       "/* Span, style for the box shown on hovering the info icon */\n",
       ".sk-estimator-doc-link span {\n",
       "  display: none;\n",
       "  z-index: 9999;\n",
       "  position: relative;\n",
       "  font-weight: normal;\n",
       "  right: .2ex;\n",
       "  padding: .5ex;\n",
       "  margin: .5ex;\n",
       "  width: min-content;\n",
       "  min-width: 20ex;\n",
       "  max-width: 50ex;\n",
       "  color: var(--sklearn-color-text);\n",
       "  box-shadow: 2pt 2pt 4pt #999;\n",
       "  /* unfitted */\n",
       "  background: var(--sklearn-color-unfitted-level-0);\n",
       "  border: .5pt solid var(--sklearn-color-unfitted-level-3);\n",
       "}\n",
       "\n",
       ".sk-estimator-doc-link.fitted span {\n",
       "  /* fitted */\n",
       "  background: var(--sklearn-color-fitted-level-0);\n",
       "  border: var(--sklearn-color-fitted-level-3);\n",
       "}\n",
       "\n",
       ".sk-estimator-doc-link:hover span {\n",
       "  display: block;\n",
       "}\n",
       "\n",
       "/* \"?\"-specific style due to the `<a>` HTML tag */\n",
       "\n",
       "#sk-container-id-1 a.estimator_doc_link {\n",
       "  float: right;\n",
       "  font-size: 1rem;\n",
       "  line-height: 1em;\n",
       "  font-family: monospace;\n",
       "  background-color: var(--sklearn-color-background);\n",
       "  border-radius: 1rem;\n",
       "  height: 1rem;\n",
       "  width: 1rem;\n",
       "  text-decoration: none;\n",
       "  /* unfitted */\n",
       "  color: var(--sklearn-color-unfitted-level-1);\n",
       "  border: var(--sklearn-color-unfitted-level-1) 1pt solid;\n",
       "}\n",
       "\n",
       "#sk-container-id-1 a.estimator_doc_link.fitted {\n",
       "  /* fitted */\n",
       "  border: var(--sklearn-color-fitted-level-1) 1pt solid;\n",
       "  color: var(--sklearn-color-fitted-level-1);\n",
       "}\n",
       "\n",
       "/* On hover */\n",
       "#sk-container-id-1 a.estimator_doc_link:hover {\n",
       "  /* unfitted */\n",
       "  background-color: var(--sklearn-color-unfitted-level-3);\n",
       "  color: var(--sklearn-color-background);\n",
       "  text-decoration: none;\n",
       "}\n",
       "\n",
       "#sk-container-id-1 a.estimator_doc_link.fitted:hover {\n",
       "  /* fitted */\n",
       "  background-color: var(--sklearn-color-fitted-level-3);\n",
       "}\n",
       "\n",
       ".estimator-table summary {\n",
       "    padding: .5rem;\n",
       "    font-family: monospace;\n",
       "    cursor: pointer;\n",
       "}\n",
       "\n",
       ".estimator-table details[open] {\n",
       "    padding-left: 0.1rem;\n",
       "    padding-right: 0.1rem;\n",
       "    padding-bottom: 0.3rem;\n",
       "}\n",
       "\n",
       ".estimator-table .parameters-table {\n",
       "    margin-left: auto !important;\n",
       "    margin-right: auto !important;\n",
       "}\n",
       "\n",
       ".estimator-table .parameters-table tr:nth-child(odd) {\n",
       "    background-color: #fff;\n",
       "}\n",
       "\n",
       ".estimator-table .parameters-table tr:nth-child(even) {\n",
       "    background-color: #f6f6f6;\n",
       "}\n",
       "\n",
       ".estimator-table .parameters-table tr:hover {\n",
       "    background-color: #e0e0e0;\n",
       "}\n",
       "\n",
       ".estimator-table table td {\n",
       "    border: 1px solid rgba(106, 105, 104, 0.232);\n",
       "}\n",
       "\n",
       ".user-set td {\n",
       "    color:rgb(255, 94, 0);\n",
       "    text-align: left;\n",
       "}\n",
       "\n",
       ".user-set td.value pre {\n",
       "    color:rgb(255, 94, 0) !important;\n",
       "    background-color: transparent !important;\n",
       "}\n",
       "\n",
       ".default td {\n",
       "    color: black;\n",
       "    text-align: left;\n",
       "}\n",
       "\n",
       ".user-set td i,\n",
       ".default td i {\n",
       "    color: black;\n",
       "}\n",
       "\n",
       ".copy-paste-icon {\n",
       "    background-image: url(data:image/svg+xml;base64,PHN2ZyB4bWxucz0iaHR0cDovL3d3dy53My5vcmcvMjAwMC9zdmciIHZpZXdCb3g9IjAgMCA0NDggNTEyIj48IS0tIUZvbnQgQXdlc29tZSBGcmVlIDYuNy4yIGJ5IEBmb250YXdlc29tZSAtIGh0dHBzOi8vZm9udGF3ZXNvbWUuY29tIExpY2Vuc2UgLSBodHRwczovL2ZvbnRhd2Vzb21lLmNvbS9saWNlbnNlL2ZyZWUgQ29weXJpZ2h0IDIwMjUgRm9udGljb25zLCBJbmMuLS0+PHBhdGggZD0iTTIwOCAwTDMzMi4xIDBjMTIuNyAwIDI0LjkgNS4xIDMzLjkgMTQuMWw2Ny45IDY3LjljOSA5IDE0LjEgMjEuMiAxNC4xIDMzLjlMNDQ4IDMzNmMwIDI2LjUtMjEuNSA0OC00OCA0OGwtMTkyIDBjLTI2LjUgMC00OC0yMS41LTQ4LTQ4bDAtMjg4YzAtMjYuNSAyMS41LTQ4IDQ4LTQ4ek00OCAxMjhsODAgMCAwIDY0LTY0IDAgMCAyNTYgMTkyIDAgMC0zMiA2NCAwIDAgNDhjMCAyNi41LTIxLjUgNDgtNDggNDhMNDggNTEyYy0yNi41IDAtNDgtMjEuNS00OC00OEwwIDE3NmMwLTI2LjUgMjEuNS00OCA0OC00OHoiLz48L3N2Zz4=);\n",
       "    background-repeat: no-repeat;\n",
       "    background-size: 14px 14px;\n",
       "    background-position: 0;\n",
       "    display: inline-block;\n",
       "    width: 14px;\n",
       "    height: 14px;\n",
       "    cursor: pointer;\n",
       "}\n",
       "</style><body><div id=\"sk-container-id-1\" class=\"sk-top-container\"><div class=\"sk-text-repr-fallback\"><pre>Pipeline(steps=[(&#x27;preprocessor&#x27;,\n",
       "                 ColumnTransformer(remainder=&#x27;passthrough&#x27;,\n",
       "                                   transformers=[(&#x27;imputer&#x27;, SimpleImputer(),\n",
       "                                                  [&#x27;age&#x27;]),\n",
       "                                                 (&#x27;encoder&#x27;,\n",
       "                                                  OneHotEncoder(sparse_output=False),\n",
       "                                                  [&#x27;sex&#x27;, &#x27;embarked&#x27;])]))])</pre><b>In a Jupyter environment, please rerun this cell to show the HTML representation or trust the notebook. <br />On GitHub, the HTML representation is unable to render, please try loading this page with nbviewer.org.</b></div><div class=\"sk-container\" hidden><div class=\"sk-item sk-dashed-wrapped\"><div class=\"sk-label-container\"><div class=\"sk-label fitted sk-toggleable\"><input class=\"sk-toggleable__control sk-hidden--visually\" id=\"sk-estimator-id-1\" type=\"checkbox\" ><label for=\"sk-estimator-id-1\" class=\"sk-toggleable__label fitted sk-toggleable__label-arrow\"><div><div>Pipeline</div></div><div><a class=\"sk-estimator-doc-link fitted\" rel=\"noreferrer\" target=\"_blank\" href=\"https://scikit-learn.org/1.7/modules/generated/sklearn.pipeline.Pipeline.html\">?<span>Documentation for Pipeline</span></a><span class=\"sk-estimator-doc-link fitted\">i<span>Fitted</span></span></div></label><div class=\"sk-toggleable__content fitted\" data-param-prefix=\"\">\n",
       "        <div class=\"estimator-table\">\n",
       "            <details>\n",
       "                <summary>Parameters</summary>\n",
       "                <table class=\"parameters-table\">\n",
       "                  <tbody>\n",
       "                    \n",
       "        <tr class=\"user-set\">\n",
       "            <td><i class=\"copy-paste-icon\"\n",
       "                 onclick=\"copyToClipboard('steps',\n",
       "                          this.parentElement.nextElementSibling)\"\n",
       "            ></i></td>\n",
       "            <td class=\"param\">steps&nbsp;</td>\n",
       "            <td class=\"value\">[(&#x27;preprocessor&#x27;, ...)]</td>\n",
       "        </tr>\n",
       "    \n",
       "\n",
       "        <tr class=\"default\">\n",
       "            <td><i class=\"copy-paste-icon\"\n",
       "                 onclick=\"copyToClipboard('transform_input',\n",
       "                          this.parentElement.nextElementSibling)\"\n",
       "            ></i></td>\n",
       "            <td class=\"param\">transform_input&nbsp;</td>\n",
       "            <td class=\"value\">None</td>\n",
       "        </tr>\n",
       "    \n",
       "\n",
       "        <tr class=\"default\">\n",
       "            <td><i class=\"copy-paste-icon\"\n",
       "                 onclick=\"copyToClipboard('memory',\n",
       "                          this.parentElement.nextElementSibling)\"\n",
       "            ></i></td>\n",
       "            <td class=\"param\">memory&nbsp;</td>\n",
       "            <td class=\"value\">None</td>\n",
       "        </tr>\n",
       "    \n",
       "\n",
       "        <tr class=\"default\">\n",
       "            <td><i class=\"copy-paste-icon\"\n",
       "                 onclick=\"copyToClipboard('verbose',\n",
       "                          this.parentElement.nextElementSibling)\"\n",
       "            ></i></td>\n",
       "            <td class=\"param\">verbose&nbsp;</td>\n",
       "            <td class=\"value\">False</td>\n",
       "        </tr>\n",
       "    \n",
       "                  </tbody>\n",
       "                </table>\n",
       "            </details>\n",
       "        </div>\n",
       "    </div></div></div><div class=\"sk-serial\"><div class=\"sk-item sk-dashed-wrapped\"><div class=\"sk-label-container\"><div class=\"sk-label fitted sk-toggleable\"><input class=\"sk-toggleable__control sk-hidden--visually\" id=\"sk-estimator-id-2\" type=\"checkbox\" ><label for=\"sk-estimator-id-2\" class=\"sk-toggleable__label fitted sk-toggleable__label-arrow\"><div><div>preprocessor: ColumnTransformer</div></div><div><a class=\"sk-estimator-doc-link fitted\" rel=\"noreferrer\" target=\"_blank\" href=\"https://scikit-learn.org/1.7/modules/generated/sklearn.compose.ColumnTransformer.html\">?<span>Documentation for preprocessor: ColumnTransformer</span></a></div></label><div class=\"sk-toggleable__content fitted\" data-param-prefix=\"preprocessor__\">\n",
       "        <div class=\"estimator-table\">\n",
       "            <details>\n",
       "                <summary>Parameters</summary>\n",
       "                <table class=\"parameters-table\">\n",
       "                  <tbody>\n",
       "                    \n",
       "        <tr class=\"user-set\">\n",
       "            <td><i class=\"copy-paste-icon\"\n",
       "                 onclick=\"copyToClipboard('transformers',\n",
       "                          this.parentElement.nextElementSibling)\"\n",
       "            ></i></td>\n",
       "            <td class=\"param\">transformers&nbsp;</td>\n",
       "            <td class=\"value\">[(&#x27;imputer&#x27;, ...), (&#x27;encoder&#x27;, ...)]</td>\n",
       "        </tr>\n",
       "    \n",
       "\n",
       "        <tr class=\"user-set\">\n",
       "            <td><i class=\"copy-paste-icon\"\n",
       "                 onclick=\"copyToClipboard('remainder',\n",
       "                          this.parentElement.nextElementSibling)\"\n",
       "            ></i></td>\n",
       "            <td class=\"param\">remainder&nbsp;</td>\n",
       "            <td class=\"value\">&#x27;passthrough&#x27;</td>\n",
       "        </tr>\n",
       "    \n",
       "\n",
       "        <tr class=\"default\">\n",
       "            <td><i class=\"copy-paste-icon\"\n",
       "                 onclick=\"copyToClipboard('sparse_threshold',\n",
       "                          this.parentElement.nextElementSibling)\"\n",
       "            ></i></td>\n",
       "            <td class=\"param\">sparse_threshold&nbsp;</td>\n",
       "            <td class=\"value\">0.3</td>\n",
       "        </tr>\n",
       "    \n",
       "\n",
       "        <tr class=\"default\">\n",
       "            <td><i class=\"copy-paste-icon\"\n",
       "                 onclick=\"copyToClipboard('n_jobs',\n",
       "                          this.parentElement.nextElementSibling)\"\n",
       "            ></i></td>\n",
       "            <td class=\"param\">n_jobs&nbsp;</td>\n",
       "            <td class=\"value\">None</td>\n",
       "        </tr>\n",
       "    \n",
       "\n",
       "        <tr class=\"default\">\n",
       "            <td><i class=\"copy-paste-icon\"\n",
       "                 onclick=\"copyToClipboard('transformer_weights',\n",
       "                          this.parentElement.nextElementSibling)\"\n",
       "            ></i></td>\n",
       "            <td class=\"param\">transformer_weights&nbsp;</td>\n",
       "            <td class=\"value\">None</td>\n",
       "        </tr>\n",
       "    \n",
       "\n",
       "        <tr class=\"default\">\n",
       "            <td><i class=\"copy-paste-icon\"\n",
       "                 onclick=\"copyToClipboard('verbose',\n",
       "                          this.parentElement.nextElementSibling)\"\n",
       "            ></i></td>\n",
       "            <td class=\"param\">verbose&nbsp;</td>\n",
       "            <td class=\"value\">False</td>\n",
       "        </tr>\n",
       "    \n",
       "\n",
       "        <tr class=\"default\">\n",
       "            <td><i class=\"copy-paste-icon\"\n",
       "                 onclick=\"copyToClipboard('verbose_feature_names_out',\n",
       "                          this.parentElement.nextElementSibling)\"\n",
       "            ></i></td>\n",
       "            <td class=\"param\">verbose_feature_names_out&nbsp;</td>\n",
       "            <td class=\"value\">True</td>\n",
       "        </tr>\n",
       "    \n",
       "\n",
       "        <tr class=\"default\">\n",
       "            <td><i class=\"copy-paste-icon\"\n",
       "                 onclick=\"copyToClipboard('force_int_remainder_cols',\n",
       "                          this.parentElement.nextElementSibling)\"\n",
       "            ></i></td>\n",
       "            <td class=\"param\">force_int_remainder_cols&nbsp;</td>\n",
       "            <td class=\"value\">&#x27;deprecated&#x27;</td>\n",
       "        </tr>\n",
       "    \n",
       "                  </tbody>\n",
       "                </table>\n",
       "            </details>\n",
       "        </div>\n",
       "    </div></div></div><div class=\"sk-parallel\"><div class=\"sk-parallel-item\"><div class=\"sk-item\"><div class=\"sk-label-container\"><div class=\"sk-label fitted sk-toggleable\"><input class=\"sk-toggleable__control sk-hidden--visually\" id=\"sk-estimator-id-3\" type=\"checkbox\" ><label for=\"sk-estimator-id-3\" class=\"sk-toggleable__label fitted sk-toggleable__label-arrow\"><div><div>imputer</div></div></label><div class=\"sk-toggleable__content fitted\" data-param-prefix=\"preprocessor__imputer__\"><pre>[&#x27;age&#x27;]</pre></div></div></div><div class=\"sk-serial\"><div class=\"sk-item\"><div class=\"sk-estimator fitted sk-toggleable\"><input class=\"sk-toggleable__control sk-hidden--visually\" id=\"sk-estimator-id-4\" type=\"checkbox\" ><label for=\"sk-estimator-id-4\" class=\"sk-toggleable__label fitted sk-toggleable__label-arrow\"><div><div>SimpleImputer</div></div><div><a class=\"sk-estimator-doc-link fitted\" rel=\"noreferrer\" target=\"_blank\" href=\"https://scikit-learn.org/1.7/modules/generated/sklearn.impute.SimpleImputer.html\">?<span>Documentation for SimpleImputer</span></a></div></label><div class=\"sk-toggleable__content fitted\" data-param-prefix=\"preprocessor__imputer__\">\n",
       "        <div class=\"estimator-table\">\n",
       "            <details>\n",
       "                <summary>Parameters</summary>\n",
       "                <table class=\"parameters-table\">\n",
       "                  <tbody>\n",
       "                    \n",
       "        <tr class=\"default\">\n",
       "            <td><i class=\"copy-paste-icon\"\n",
       "                 onclick=\"copyToClipboard('missing_values',\n",
       "                          this.parentElement.nextElementSibling)\"\n",
       "            ></i></td>\n",
       "            <td class=\"param\">missing_values&nbsp;</td>\n",
       "            <td class=\"value\">nan</td>\n",
       "        </tr>\n",
       "    \n",
       "\n",
       "        <tr class=\"default\">\n",
       "            <td><i class=\"copy-paste-icon\"\n",
       "                 onclick=\"copyToClipboard('strategy',\n",
       "                          this.parentElement.nextElementSibling)\"\n",
       "            ></i></td>\n",
       "            <td class=\"param\">strategy&nbsp;</td>\n",
       "            <td class=\"value\">&#x27;mean&#x27;</td>\n",
       "        </tr>\n",
       "    \n",
       "\n",
       "        <tr class=\"default\">\n",
       "            <td><i class=\"copy-paste-icon\"\n",
       "                 onclick=\"copyToClipboard('fill_value',\n",
       "                          this.parentElement.nextElementSibling)\"\n",
       "            ></i></td>\n",
       "            <td class=\"param\">fill_value&nbsp;</td>\n",
       "            <td class=\"value\">None</td>\n",
       "        </tr>\n",
       "    \n",
       "\n",
       "        <tr class=\"default\">\n",
       "            <td><i class=\"copy-paste-icon\"\n",
       "                 onclick=\"copyToClipboard('copy',\n",
       "                          this.parentElement.nextElementSibling)\"\n",
       "            ></i></td>\n",
       "            <td class=\"param\">copy&nbsp;</td>\n",
       "            <td class=\"value\">True</td>\n",
       "        </tr>\n",
       "    \n",
       "\n",
       "        <tr class=\"default\">\n",
       "            <td><i class=\"copy-paste-icon\"\n",
       "                 onclick=\"copyToClipboard('add_indicator',\n",
       "                          this.parentElement.nextElementSibling)\"\n",
       "            ></i></td>\n",
       "            <td class=\"param\">add_indicator&nbsp;</td>\n",
       "            <td class=\"value\">False</td>\n",
       "        </tr>\n",
       "    \n",
       "\n",
       "        <tr class=\"default\">\n",
       "            <td><i class=\"copy-paste-icon\"\n",
       "                 onclick=\"copyToClipboard('keep_empty_features',\n",
       "                          this.parentElement.nextElementSibling)\"\n",
       "            ></i></td>\n",
       "            <td class=\"param\">keep_empty_features&nbsp;</td>\n",
       "            <td class=\"value\">False</td>\n",
       "        </tr>\n",
       "    \n",
       "                  </tbody>\n",
       "                </table>\n",
       "            </details>\n",
       "        </div>\n",
       "    </div></div></div></div></div></div><div class=\"sk-parallel-item\"><div class=\"sk-item\"><div class=\"sk-label-container\"><div class=\"sk-label fitted sk-toggleable\"><input class=\"sk-toggleable__control sk-hidden--visually\" id=\"sk-estimator-id-5\" type=\"checkbox\" ><label for=\"sk-estimator-id-5\" class=\"sk-toggleable__label fitted sk-toggleable__label-arrow\"><div><div>encoder</div></div></label><div class=\"sk-toggleable__content fitted\" data-param-prefix=\"preprocessor__encoder__\"><pre>[&#x27;sex&#x27;, &#x27;embarked&#x27;]</pre></div></div></div><div class=\"sk-serial\"><div class=\"sk-item\"><div class=\"sk-estimator fitted sk-toggleable\"><input class=\"sk-toggleable__control sk-hidden--visually\" id=\"sk-estimator-id-6\" type=\"checkbox\" ><label for=\"sk-estimator-id-6\" class=\"sk-toggleable__label fitted sk-toggleable__label-arrow\"><div><div>OneHotEncoder</div></div><div><a class=\"sk-estimator-doc-link fitted\" rel=\"noreferrer\" target=\"_blank\" href=\"https://scikit-learn.org/1.7/modules/generated/sklearn.preprocessing.OneHotEncoder.html\">?<span>Documentation for OneHotEncoder</span></a></div></label><div class=\"sk-toggleable__content fitted\" data-param-prefix=\"preprocessor__encoder__\">\n",
       "        <div class=\"estimator-table\">\n",
       "            <details>\n",
       "                <summary>Parameters</summary>\n",
       "                <table class=\"parameters-table\">\n",
       "                  <tbody>\n",
       "                    \n",
       "        <tr class=\"default\">\n",
       "            <td><i class=\"copy-paste-icon\"\n",
       "                 onclick=\"copyToClipboard('categories',\n",
       "                          this.parentElement.nextElementSibling)\"\n",
       "            ></i></td>\n",
       "            <td class=\"param\">categories&nbsp;</td>\n",
       "            <td class=\"value\">&#x27;auto&#x27;</td>\n",
       "        </tr>\n",
       "    \n",
       "\n",
       "        <tr class=\"default\">\n",
       "            <td><i class=\"copy-paste-icon\"\n",
       "                 onclick=\"copyToClipboard('drop',\n",
       "                          this.parentElement.nextElementSibling)\"\n",
       "            ></i></td>\n",
       "            <td class=\"param\">drop&nbsp;</td>\n",
       "            <td class=\"value\">None</td>\n",
       "        </tr>\n",
       "    \n",
       "\n",
       "        <tr class=\"user-set\">\n",
       "            <td><i class=\"copy-paste-icon\"\n",
       "                 onclick=\"copyToClipboard('sparse_output',\n",
       "                          this.parentElement.nextElementSibling)\"\n",
       "            ></i></td>\n",
       "            <td class=\"param\">sparse_output&nbsp;</td>\n",
       "            <td class=\"value\">False</td>\n",
       "        </tr>\n",
       "    \n",
       "\n",
       "        <tr class=\"default\">\n",
       "            <td><i class=\"copy-paste-icon\"\n",
       "                 onclick=\"copyToClipboard('dtype',\n",
       "                          this.parentElement.nextElementSibling)\"\n",
       "            ></i></td>\n",
       "            <td class=\"param\">dtype&nbsp;</td>\n",
       "            <td class=\"value\">&lt;class &#x27;numpy.float64&#x27;&gt;</td>\n",
       "        </tr>\n",
       "    \n",
       "\n",
       "        <tr class=\"default\">\n",
       "            <td><i class=\"copy-paste-icon\"\n",
       "                 onclick=\"copyToClipboard('handle_unknown',\n",
       "                          this.parentElement.nextElementSibling)\"\n",
       "            ></i></td>\n",
       "            <td class=\"param\">handle_unknown&nbsp;</td>\n",
       "            <td class=\"value\">&#x27;error&#x27;</td>\n",
       "        </tr>\n",
       "    \n",
       "\n",
       "        <tr class=\"default\">\n",
       "            <td><i class=\"copy-paste-icon\"\n",
       "                 onclick=\"copyToClipboard('min_frequency',\n",
       "                          this.parentElement.nextElementSibling)\"\n",
       "            ></i></td>\n",
       "            <td class=\"param\">min_frequency&nbsp;</td>\n",
       "            <td class=\"value\">None</td>\n",
       "        </tr>\n",
       "    \n",
       "\n",
       "        <tr class=\"default\">\n",
       "            <td><i class=\"copy-paste-icon\"\n",
       "                 onclick=\"copyToClipboard('max_categories',\n",
       "                          this.parentElement.nextElementSibling)\"\n",
       "            ></i></td>\n",
       "            <td class=\"param\">max_categories&nbsp;</td>\n",
       "            <td class=\"value\">None</td>\n",
       "        </tr>\n",
       "    \n",
       "\n",
       "        <tr class=\"default\">\n",
       "            <td><i class=\"copy-paste-icon\"\n",
       "                 onclick=\"copyToClipboard('feature_name_combiner',\n",
       "                          this.parentElement.nextElementSibling)\"\n",
       "            ></i></td>\n",
       "            <td class=\"param\">feature_name_combiner&nbsp;</td>\n",
       "            <td class=\"value\">&#x27;concat&#x27;</td>\n",
       "        </tr>\n",
       "    \n",
       "                  </tbody>\n",
       "                </table>\n",
       "            </details>\n",
       "        </div>\n",
       "    </div></div></div></div></div></div><div class=\"sk-parallel-item\"><div class=\"sk-item\"><div class=\"sk-label-container\"><div class=\"sk-label fitted sk-toggleable\"><input class=\"sk-toggleable__control sk-hidden--visually\" id=\"sk-estimator-id-7\" type=\"checkbox\" ><label for=\"sk-estimator-id-7\" class=\"sk-toggleable__label fitted sk-toggleable__label-arrow\"><div><div>remainder</div></div></label><div class=\"sk-toggleable__content fitted\" data-param-prefix=\"preprocessor__remainder__\"><pre>[&#x27;survived&#x27;, &#x27;pclass&#x27;, &#x27;sibsp&#x27;, &#x27;parch&#x27;, &#x27;fare&#x27;, &#x27;class&#x27;, &#x27;who&#x27;, &#x27;adult_male&#x27;, &#x27;deck&#x27;, &#x27;embark_town&#x27;, &#x27;alive&#x27;, &#x27;alone&#x27;]</pre></div></div></div><div class=\"sk-serial\"><div class=\"sk-item\"><div class=\"sk-estimator fitted sk-toggleable\"><input class=\"sk-toggleable__control sk-hidden--visually\" id=\"sk-estimator-id-8\" type=\"checkbox\" ><label for=\"sk-estimator-id-8\" class=\"sk-toggleable__label fitted sk-toggleable__label-arrow\"><div><div>passthrough</div></div></label><div class=\"sk-toggleable__content fitted\" data-param-prefix=\"preprocessor__remainder__\"><pre>passthrough</pre></div></div></div></div></div></div></div></div></div></div></div></div><script>function copyToClipboard(text, element) {\n",
       "    // Get the parameter prefix from the closest toggleable content\n",
       "    const toggleableContent = element.closest('.sk-toggleable__content');\n",
       "    const paramPrefix = toggleableContent ? toggleableContent.dataset.paramPrefix : '';\n",
       "    const fullParamName = paramPrefix ? `${paramPrefix}${text}` : text;\n",
       "\n",
       "    const originalStyle = element.style;\n",
       "    const computedStyle = window.getComputedStyle(element);\n",
       "    const originalWidth = computedStyle.width;\n",
       "    const originalHTML = element.innerHTML.replace('Copied!', '');\n",
       "\n",
       "    navigator.clipboard.writeText(fullParamName)\n",
       "        .then(() => {\n",
       "            element.style.width = originalWidth;\n",
       "            element.style.color = 'green';\n",
       "            element.innerHTML = \"Copied!\";\n",
       "\n",
       "            setTimeout(() => {\n",
       "                element.innerHTML = originalHTML;\n",
       "                element.style = originalStyle;\n",
       "            }, 2000);\n",
       "        })\n",
       "        .catch(err => {\n",
       "            console.error('Failed to copy:', err);\n",
       "            element.style.color = 'red';\n",
       "            element.innerHTML = \"Failed!\";\n",
       "            setTimeout(() => {\n",
       "                element.innerHTML = originalHTML;\n",
       "                element.style = originalStyle;\n",
       "            }, 2000);\n",
       "        });\n",
       "    return false;\n",
       "}\n",
       "\n",
       "document.querySelectorAll('.fa-regular.fa-copy').forEach(function(element) {\n",
       "    const toggleableContent = element.closest('.sk-toggleable__content');\n",
       "    const paramPrefix = toggleableContent ? toggleableContent.dataset.paramPrefix : '';\n",
       "    const paramName = element.parentElement.nextElementSibling.textContent.trim();\n",
       "    const fullParamName = paramPrefix ? `${paramPrefix}${paramName}` : paramName;\n",
       "\n",
       "    element.setAttribute('title', fullParamName);\n",
       "});\n",
       "</script></body>"
      ],
      "text/plain": [
       "Pipeline(steps=[('preprocessor',\n",
       "                 ColumnTransformer(remainder='passthrough',\n",
       "                                   transformers=[('imputer', SimpleImputer(),\n",
       "                                                  ['age']),\n",
       "                                                 ('encoder',\n",
       "                                                  OneHotEncoder(sparse_output=False),\n",
       "                                                  ['sex', 'embarked'])]))])"
      ]
     },
     "execution_count": 69,
     "metadata": {},
     "output_type": "execute_result"
    }
   ],
   "source": [
    "pipe"
   ]
  },
  {
   "cell_type": "code",
   "execution_count": 70,
   "metadata": {
    "colab": {
     "base_uri": "https://localhost:8080/",
     "height": 136
    },
    "executionInfo": {
     "elapsed": 788,
     "status": "ok",
     "timestamp": 1728922471234,
     "user": {
      "displayName": "YUKTI SETHI",
      "userId": "02282718160304582968"
     },
     "user_tz": -330
    },
    "id": "Srl4JE0hyrHS",
    "outputId": "7c020da4-db09-4692-a2b9-88f7bf27bf60"
   },
   "outputs": [
    {
     "data": {
      "text/html": [
       "<style>#sk-container-id-2 {\n",
       "  /* Definition of color scheme common for light and dark mode */\n",
       "  --sklearn-color-text: #000;\n",
       "  --sklearn-color-text-muted: #666;\n",
       "  --sklearn-color-line: gray;\n",
       "  /* Definition of color scheme for unfitted estimators */\n",
       "  --sklearn-color-unfitted-level-0: #fff5e6;\n",
       "  --sklearn-color-unfitted-level-1: #f6e4d2;\n",
       "  --sklearn-color-unfitted-level-2: #ffe0b3;\n",
       "  --sklearn-color-unfitted-level-3: chocolate;\n",
       "  /* Definition of color scheme for fitted estimators */\n",
       "  --sklearn-color-fitted-level-0: #f0f8ff;\n",
       "  --sklearn-color-fitted-level-1: #d4ebff;\n",
       "  --sklearn-color-fitted-level-2: #b3dbfd;\n",
       "  --sklearn-color-fitted-level-3: cornflowerblue;\n",
       "\n",
       "  /* Specific color for light theme */\n",
       "  --sklearn-color-text-on-default-background: var(--sg-text-color, var(--theme-code-foreground, var(--jp-content-font-color1, black)));\n",
       "  --sklearn-color-background: var(--sg-background-color, var(--theme-background, var(--jp-layout-color0, white)));\n",
       "  --sklearn-color-border-box: var(--sg-text-color, var(--theme-code-foreground, var(--jp-content-font-color1, black)));\n",
       "  --sklearn-color-icon: #696969;\n",
       "\n",
       "  @media (prefers-color-scheme: dark) {\n",
       "    /* Redefinition of color scheme for dark theme */\n",
       "    --sklearn-color-text-on-default-background: var(--sg-text-color, var(--theme-code-foreground, var(--jp-content-font-color1, white)));\n",
       "    --sklearn-color-background: var(--sg-background-color, var(--theme-background, var(--jp-layout-color0, #111)));\n",
       "    --sklearn-color-border-box: var(--sg-text-color, var(--theme-code-foreground, var(--jp-content-font-color1, white)));\n",
       "    --sklearn-color-icon: #878787;\n",
       "  }\n",
       "}\n",
       "\n",
       "#sk-container-id-2 {\n",
       "  color: var(--sklearn-color-text);\n",
       "}\n",
       "\n",
       "#sk-container-id-2 pre {\n",
       "  padding: 0;\n",
       "}\n",
       "\n",
       "#sk-container-id-2 input.sk-hidden--visually {\n",
       "  border: 0;\n",
       "  clip: rect(1px 1px 1px 1px);\n",
       "  clip: rect(1px, 1px, 1px, 1px);\n",
       "  height: 1px;\n",
       "  margin: -1px;\n",
       "  overflow: hidden;\n",
       "  padding: 0;\n",
       "  position: absolute;\n",
       "  width: 1px;\n",
       "}\n",
       "\n",
       "#sk-container-id-2 div.sk-dashed-wrapped {\n",
       "  border: 1px dashed var(--sklearn-color-line);\n",
       "  margin: 0 0.4em 0.5em 0.4em;\n",
       "  box-sizing: border-box;\n",
       "  padding-bottom: 0.4em;\n",
       "  background-color: var(--sklearn-color-background);\n",
       "}\n",
       "\n",
       "#sk-container-id-2 div.sk-container {\n",
       "  /* jupyter's `normalize.less` sets `[hidden] { display: none; }`\n",
       "     but bootstrap.min.css set `[hidden] { display: none !important; }`\n",
       "     so we also need the `!important` here to be able to override the\n",
       "     default hidden behavior on the sphinx rendered scikit-learn.org.\n",
       "     See: https://github.com/scikit-learn/scikit-learn/issues/21755 */\n",
       "  display: inline-block !important;\n",
       "  position: relative;\n",
       "}\n",
       "\n",
       "#sk-container-id-2 div.sk-text-repr-fallback {\n",
       "  display: none;\n",
       "}\n",
       "\n",
       "div.sk-parallel-item,\n",
       "div.sk-serial,\n",
       "div.sk-item {\n",
       "  /* draw centered vertical line to link estimators */\n",
       "  background-image: linear-gradient(var(--sklearn-color-text-on-default-background), var(--sklearn-color-text-on-default-background));\n",
       "  background-size: 2px 100%;\n",
       "  background-repeat: no-repeat;\n",
       "  background-position: center center;\n",
       "}\n",
       "\n",
       "/* Parallel-specific style estimator block */\n",
       "\n",
       "#sk-container-id-2 div.sk-parallel-item::after {\n",
       "  content: \"\";\n",
       "  width: 100%;\n",
       "  border-bottom: 2px solid var(--sklearn-color-text-on-default-background);\n",
       "  flex-grow: 1;\n",
       "}\n",
       "\n",
       "#sk-container-id-2 div.sk-parallel {\n",
       "  display: flex;\n",
       "  align-items: stretch;\n",
       "  justify-content: center;\n",
       "  background-color: var(--sklearn-color-background);\n",
       "  position: relative;\n",
       "}\n",
       "\n",
       "#sk-container-id-2 div.sk-parallel-item {\n",
       "  display: flex;\n",
       "  flex-direction: column;\n",
       "}\n",
       "\n",
       "#sk-container-id-2 div.sk-parallel-item:first-child::after {\n",
       "  align-self: flex-end;\n",
       "  width: 50%;\n",
       "}\n",
       "\n",
       "#sk-container-id-2 div.sk-parallel-item:last-child::after {\n",
       "  align-self: flex-start;\n",
       "  width: 50%;\n",
       "}\n",
       "\n",
       "#sk-container-id-2 div.sk-parallel-item:only-child::after {\n",
       "  width: 0;\n",
       "}\n",
       "\n",
       "/* Serial-specific style estimator block */\n",
       "\n",
       "#sk-container-id-2 div.sk-serial {\n",
       "  display: flex;\n",
       "  flex-direction: column;\n",
       "  align-items: center;\n",
       "  background-color: var(--sklearn-color-background);\n",
       "  padding-right: 1em;\n",
       "  padding-left: 1em;\n",
       "}\n",
       "\n",
       "\n",
       "/* Toggleable style: style used for estimator/Pipeline/ColumnTransformer box that is\n",
       "clickable and can be expanded/collapsed.\n",
       "- Pipeline and ColumnTransformer use this feature and define the default style\n",
       "- Estimators will overwrite some part of the style using the `sk-estimator` class\n",
       "*/\n",
       "\n",
       "/* Pipeline and ColumnTransformer style (default) */\n",
       "\n",
       "#sk-container-id-2 div.sk-toggleable {\n",
       "  /* Default theme specific background. It is overwritten whether we have a\n",
       "  specific estimator or a Pipeline/ColumnTransformer */\n",
       "  background-color: var(--sklearn-color-background);\n",
       "}\n",
       "\n",
       "/* Toggleable label */\n",
       "#sk-container-id-2 label.sk-toggleable__label {\n",
       "  cursor: pointer;\n",
       "  display: flex;\n",
       "  width: 100%;\n",
       "  margin-bottom: 0;\n",
       "  padding: 0.5em;\n",
       "  box-sizing: border-box;\n",
       "  text-align: center;\n",
       "  align-items: start;\n",
       "  justify-content: space-between;\n",
       "  gap: 0.5em;\n",
       "}\n",
       "\n",
       "#sk-container-id-2 label.sk-toggleable__label .caption {\n",
       "  font-size: 0.6rem;\n",
       "  font-weight: lighter;\n",
       "  color: var(--sklearn-color-text-muted);\n",
       "}\n",
       "\n",
       "#sk-container-id-2 label.sk-toggleable__label-arrow:before {\n",
       "  /* Arrow on the left of the label */\n",
       "  content: \"▸\";\n",
       "  float: left;\n",
       "  margin-right: 0.25em;\n",
       "  color: var(--sklearn-color-icon);\n",
       "}\n",
       "\n",
       "#sk-container-id-2 label.sk-toggleable__label-arrow:hover:before {\n",
       "  color: var(--sklearn-color-text);\n",
       "}\n",
       "\n",
       "/* Toggleable content - dropdown */\n",
       "\n",
       "#sk-container-id-2 div.sk-toggleable__content {\n",
       "  display: none;\n",
       "  text-align: left;\n",
       "  /* unfitted */\n",
       "  background-color: var(--sklearn-color-unfitted-level-0);\n",
       "}\n",
       "\n",
       "#sk-container-id-2 div.sk-toggleable__content.fitted {\n",
       "  /* fitted */\n",
       "  background-color: var(--sklearn-color-fitted-level-0);\n",
       "}\n",
       "\n",
       "#sk-container-id-2 div.sk-toggleable__content pre {\n",
       "  margin: 0.2em;\n",
       "  border-radius: 0.25em;\n",
       "  color: var(--sklearn-color-text);\n",
       "  /* unfitted */\n",
       "  background-color: var(--sklearn-color-unfitted-level-0);\n",
       "}\n",
       "\n",
       "#sk-container-id-2 div.sk-toggleable__content.fitted pre {\n",
       "  /* unfitted */\n",
       "  background-color: var(--sklearn-color-fitted-level-0);\n",
       "}\n",
       "\n",
       "#sk-container-id-2 input.sk-toggleable__control:checked~div.sk-toggleable__content {\n",
       "  /* Expand drop-down */\n",
       "  display: block;\n",
       "  width: 100%;\n",
       "  overflow: visible;\n",
       "}\n",
       "\n",
       "#sk-container-id-2 input.sk-toggleable__control:checked~label.sk-toggleable__label-arrow:before {\n",
       "  content: \"▾\";\n",
       "}\n",
       "\n",
       "/* Pipeline/ColumnTransformer-specific style */\n",
       "\n",
       "#sk-container-id-2 div.sk-label input.sk-toggleable__control:checked~label.sk-toggleable__label {\n",
       "  color: var(--sklearn-color-text);\n",
       "  background-color: var(--sklearn-color-unfitted-level-2);\n",
       "}\n",
       "\n",
       "#sk-container-id-2 div.sk-label.fitted input.sk-toggleable__control:checked~label.sk-toggleable__label {\n",
       "  background-color: var(--sklearn-color-fitted-level-2);\n",
       "}\n",
       "\n",
       "/* Estimator-specific style */\n",
       "\n",
       "/* Colorize estimator box */\n",
       "#sk-container-id-2 div.sk-estimator input.sk-toggleable__control:checked~label.sk-toggleable__label {\n",
       "  /* unfitted */\n",
       "  background-color: var(--sklearn-color-unfitted-level-2);\n",
       "}\n",
       "\n",
       "#sk-container-id-2 div.sk-estimator.fitted input.sk-toggleable__control:checked~label.sk-toggleable__label {\n",
       "  /* fitted */\n",
       "  background-color: var(--sklearn-color-fitted-level-2);\n",
       "}\n",
       "\n",
       "#sk-container-id-2 div.sk-label label.sk-toggleable__label,\n",
       "#sk-container-id-2 div.sk-label label {\n",
       "  /* The background is the default theme color */\n",
       "  color: var(--sklearn-color-text-on-default-background);\n",
       "}\n",
       "\n",
       "/* On hover, darken the color of the background */\n",
       "#sk-container-id-2 div.sk-label:hover label.sk-toggleable__label {\n",
       "  color: var(--sklearn-color-text);\n",
       "  background-color: var(--sklearn-color-unfitted-level-2);\n",
       "}\n",
       "\n",
       "/* Label box, darken color on hover, fitted */\n",
       "#sk-container-id-2 div.sk-label.fitted:hover label.sk-toggleable__label.fitted {\n",
       "  color: var(--sklearn-color-text);\n",
       "  background-color: var(--sklearn-color-fitted-level-2);\n",
       "}\n",
       "\n",
       "/* Estimator label */\n",
       "\n",
       "#sk-container-id-2 div.sk-label label {\n",
       "  font-family: monospace;\n",
       "  font-weight: bold;\n",
       "  display: inline-block;\n",
       "  line-height: 1.2em;\n",
       "}\n",
       "\n",
       "#sk-container-id-2 div.sk-label-container {\n",
       "  text-align: center;\n",
       "}\n",
       "\n",
       "/* Estimator-specific */\n",
       "#sk-container-id-2 div.sk-estimator {\n",
       "  font-family: monospace;\n",
       "  border: 1px dotted var(--sklearn-color-border-box);\n",
       "  border-radius: 0.25em;\n",
       "  box-sizing: border-box;\n",
       "  margin-bottom: 0.5em;\n",
       "  /* unfitted */\n",
       "  background-color: var(--sklearn-color-unfitted-level-0);\n",
       "}\n",
       "\n",
       "#sk-container-id-2 div.sk-estimator.fitted {\n",
       "  /* fitted */\n",
       "  background-color: var(--sklearn-color-fitted-level-0);\n",
       "}\n",
       "\n",
       "/* on hover */\n",
       "#sk-container-id-2 div.sk-estimator:hover {\n",
       "  /* unfitted */\n",
       "  background-color: var(--sklearn-color-unfitted-level-2);\n",
       "}\n",
       "\n",
       "#sk-container-id-2 div.sk-estimator.fitted:hover {\n",
       "  /* fitted */\n",
       "  background-color: var(--sklearn-color-fitted-level-2);\n",
       "}\n",
       "\n",
       "/* Specification for estimator info (e.g. \"i\" and \"?\") */\n",
       "\n",
       "/* Common style for \"i\" and \"?\" */\n",
       "\n",
       ".sk-estimator-doc-link,\n",
       "a:link.sk-estimator-doc-link,\n",
       "a:visited.sk-estimator-doc-link {\n",
       "  float: right;\n",
       "  font-size: smaller;\n",
       "  line-height: 1em;\n",
       "  font-family: monospace;\n",
       "  background-color: var(--sklearn-color-background);\n",
       "  border-radius: 1em;\n",
       "  height: 1em;\n",
       "  width: 1em;\n",
       "  text-decoration: none !important;\n",
       "  margin-left: 0.5em;\n",
       "  text-align: center;\n",
       "  /* unfitted */\n",
       "  border: var(--sklearn-color-unfitted-level-1) 1pt solid;\n",
       "  color: var(--sklearn-color-unfitted-level-1);\n",
       "}\n",
       "\n",
       ".sk-estimator-doc-link.fitted,\n",
       "a:link.sk-estimator-doc-link.fitted,\n",
       "a:visited.sk-estimator-doc-link.fitted {\n",
       "  /* fitted */\n",
       "  border: var(--sklearn-color-fitted-level-1) 1pt solid;\n",
       "  color: var(--sklearn-color-fitted-level-1);\n",
       "}\n",
       "\n",
       "/* On hover */\n",
       "div.sk-estimator:hover .sk-estimator-doc-link:hover,\n",
       ".sk-estimator-doc-link:hover,\n",
       "div.sk-label-container:hover .sk-estimator-doc-link:hover,\n",
       ".sk-estimator-doc-link:hover {\n",
       "  /* unfitted */\n",
       "  background-color: var(--sklearn-color-unfitted-level-3);\n",
       "  color: var(--sklearn-color-background);\n",
       "  text-decoration: none;\n",
       "}\n",
       "\n",
       "div.sk-estimator.fitted:hover .sk-estimator-doc-link.fitted:hover,\n",
       ".sk-estimator-doc-link.fitted:hover,\n",
       "div.sk-label-container:hover .sk-estimator-doc-link.fitted:hover,\n",
       ".sk-estimator-doc-link.fitted:hover {\n",
       "  /* fitted */\n",
       "  background-color: var(--sklearn-color-fitted-level-3);\n",
       "  color: var(--sklearn-color-background);\n",
       "  text-decoration: none;\n",
       "}\n",
       "\n",
       "/* Span, style for the box shown on hovering the info icon */\n",
       ".sk-estimator-doc-link span {\n",
       "  display: none;\n",
       "  z-index: 9999;\n",
       "  position: relative;\n",
       "  font-weight: normal;\n",
       "  right: .2ex;\n",
       "  padding: .5ex;\n",
       "  margin: .5ex;\n",
       "  width: min-content;\n",
       "  min-width: 20ex;\n",
       "  max-width: 50ex;\n",
       "  color: var(--sklearn-color-text);\n",
       "  box-shadow: 2pt 2pt 4pt #999;\n",
       "  /* unfitted */\n",
       "  background: var(--sklearn-color-unfitted-level-0);\n",
       "  border: .5pt solid var(--sklearn-color-unfitted-level-3);\n",
       "}\n",
       "\n",
       ".sk-estimator-doc-link.fitted span {\n",
       "  /* fitted */\n",
       "  background: var(--sklearn-color-fitted-level-0);\n",
       "  border: var(--sklearn-color-fitted-level-3);\n",
       "}\n",
       "\n",
       ".sk-estimator-doc-link:hover span {\n",
       "  display: block;\n",
       "}\n",
       "\n",
       "/* \"?\"-specific style due to the `<a>` HTML tag */\n",
       "\n",
       "#sk-container-id-2 a.estimator_doc_link {\n",
       "  float: right;\n",
       "  font-size: 1rem;\n",
       "  line-height: 1em;\n",
       "  font-family: monospace;\n",
       "  background-color: var(--sklearn-color-background);\n",
       "  border-radius: 1rem;\n",
       "  height: 1rem;\n",
       "  width: 1rem;\n",
       "  text-decoration: none;\n",
       "  /* unfitted */\n",
       "  color: var(--sklearn-color-unfitted-level-1);\n",
       "  border: var(--sklearn-color-unfitted-level-1) 1pt solid;\n",
       "}\n",
       "\n",
       "#sk-container-id-2 a.estimator_doc_link.fitted {\n",
       "  /* fitted */\n",
       "  border: var(--sklearn-color-fitted-level-1) 1pt solid;\n",
       "  color: var(--sklearn-color-fitted-level-1);\n",
       "}\n",
       "\n",
       "/* On hover */\n",
       "#sk-container-id-2 a.estimator_doc_link:hover {\n",
       "  /* unfitted */\n",
       "  background-color: var(--sklearn-color-unfitted-level-3);\n",
       "  color: var(--sklearn-color-background);\n",
       "  text-decoration: none;\n",
       "}\n",
       "\n",
       "#sk-container-id-2 a.estimator_doc_link.fitted:hover {\n",
       "  /* fitted */\n",
       "  background-color: var(--sklearn-color-fitted-level-3);\n",
       "}\n",
       "\n",
       ".estimator-table summary {\n",
       "    padding: .5rem;\n",
       "    font-family: monospace;\n",
       "    cursor: pointer;\n",
       "}\n",
       "\n",
       ".estimator-table details[open] {\n",
       "    padding-left: 0.1rem;\n",
       "    padding-right: 0.1rem;\n",
       "    padding-bottom: 0.3rem;\n",
       "}\n",
       "\n",
       ".estimator-table .parameters-table {\n",
       "    margin-left: auto !important;\n",
       "    margin-right: auto !important;\n",
       "}\n",
       "\n",
       ".estimator-table .parameters-table tr:nth-child(odd) {\n",
       "    background-color: #fff;\n",
       "}\n",
       "\n",
       ".estimator-table .parameters-table tr:nth-child(even) {\n",
       "    background-color: #f6f6f6;\n",
       "}\n",
       "\n",
       ".estimator-table .parameters-table tr:hover {\n",
       "    background-color: #e0e0e0;\n",
       "}\n",
       "\n",
       ".estimator-table table td {\n",
       "    border: 1px solid rgba(106, 105, 104, 0.232);\n",
       "}\n",
       "\n",
       ".user-set td {\n",
       "    color:rgb(255, 94, 0);\n",
       "    text-align: left;\n",
       "}\n",
       "\n",
       ".user-set td.value pre {\n",
       "    color:rgb(255, 94, 0) !important;\n",
       "    background-color: transparent !important;\n",
       "}\n",
       "\n",
       ".default td {\n",
       "    color: black;\n",
       "    text-align: left;\n",
       "}\n",
       "\n",
       ".user-set td i,\n",
       ".default td i {\n",
       "    color: black;\n",
       "}\n",
       "\n",
       ".copy-paste-icon {\n",
       "    background-image: url(data:image/svg+xml;base64,PHN2ZyB4bWxucz0iaHR0cDovL3d3dy53My5vcmcvMjAwMC9zdmciIHZpZXdCb3g9IjAgMCA0NDggNTEyIj48IS0tIUZvbnQgQXdlc29tZSBGcmVlIDYuNy4yIGJ5IEBmb250YXdlc29tZSAtIGh0dHBzOi8vZm9udGF3ZXNvbWUuY29tIExpY2Vuc2UgLSBodHRwczovL2ZvbnRhd2Vzb21lLmNvbS9saWNlbnNlL2ZyZWUgQ29weXJpZ2h0IDIwMjUgRm9udGljb25zLCBJbmMuLS0+PHBhdGggZD0iTTIwOCAwTDMzMi4xIDBjMTIuNyAwIDI0LjkgNS4xIDMzLjkgMTQuMWw2Ny45IDY3LjljOSA5IDE0LjEgMjEuMiAxNC4xIDMzLjlMNDQ4IDMzNmMwIDI2LjUtMjEuNSA0OC00OCA0OGwtMTkyIDBjLTI2LjUgMC00OC0yMS41LTQ4LTQ4bDAtMjg4YzAtMjYuNSAyMS41LTQ4IDQ4LTQ4ek00OCAxMjhsODAgMCAwIDY0LTY0IDAgMCAyNTYgMTkyIDAgMC0zMiA2NCAwIDAgNDhjMCAyNi41LTIxLjUgNDgtNDggNDhMNDggNTEyYy0yNi41IDAtNDgtMjEuNS00OC00OEwwIDE3NmMwLTI2LjUgMjEuNS00OCA0OC00OHoiLz48L3N2Zz4=);\n",
       "    background-repeat: no-repeat;\n",
       "    background-size: 14px 14px;\n",
       "    background-position: 0;\n",
       "    display: inline-block;\n",
       "    width: 14px;\n",
       "    height: 14px;\n",
       "    cursor: pointer;\n",
       "}\n",
       "</style><body><div id=\"sk-container-id-2\" class=\"sk-top-container\"><div class=\"sk-text-repr-fallback\"><pre>ColumnTransformer(remainder=&#x27;passthrough&#x27;,\n",
       "                  transformers=[(&#x27;imputer&#x27;, SimpleImputer(), [&#x27;age&#x27;]),\n",
       "                                (&#x27;encoder&#x27;, OneHotEncoder(sparse_output=False),\n",
       "                                 [&#x27;sex&#x27;, &#x27;embarked&#x27;])])</pre><b>In a Jupyter environment, please rerun this cell to show the HTML representation or trust the notebook. <br />On GitHub, the HTML representation is unable to render, please try loading this page with nbviewer.org.</b></div><div class=\"sk-container\" hidden><div class=\"sk-item sk-dashed-wrapped\"><div class=\"sk-label-container\"><div class=\"sk-label fitted sk-toggleable\"><input class=\"sk-toggleable__control sk-hidden--visually\" id=\"sk-estimator-id-9\" type=\"checkbox\" ><label for=\"sk-estimator-id-9\" class=\"sk-toggleable__label fitted sk-toggleable__label-arrow\"><div><div>ColumnTransformer</div></div><div><a class=\"sk-estimator-doc-link fitted\" rel=\"noreferrer\" target=\"_blank\" href=\"https://scikit-learn.org/1.7/modules/generated/sklearn.compose.ColumnTransformer.html\">?<span>Documentation for ColumnTransformer</span></a><span class=\"sk-estimator-doc-link fitted\">i<span>Fitted</span></span></div></label><div class=\"sk-toggleable__content fitted\" data-param-prefix=\"\">\n",
       "        <div class=\"estimator-table\">\n",
       "            <details>\n",
       "                <summary>Parameters</summary>\n",
       "                <table class=\"parameters-table\">\n",
       "                  <tbody>\n",
       "                    \n",
       "        <tr class=\"user-set\">\n",
       "            <td><i class=\"copy-paste-icon\"\n",
       "                 onclick=\"copyToClipboard('transformers',\n",
       "                          this.parentElement.nextElementSibling)\"\n",
       "            ></i></td>\n",
       "            <td class=\"param\">transformers&nbsp;</td>\n",
       "            <td class=\"value\">[(&#x27;imputer&#x27;, ...), (&#x27;encoder&#x27;, ...)]</td>\n",
       "        </tr>\n",
       "    \n",
       "\n",
       "        <tr class=\"user-set\">\n",
       "            <td><i class=\"copy-paste-icon\"\n",
       "                 onclick=\"copyToClipboard('remainder',\n",
       "                          this.parentElement.nextElementSibling)\"\n",
       "            ></i></td>\n",
       "            <td class=\"param\">remainder&nbsp;</td>\n",
       "            <td class=\"value\">&#x27;passthrough&#x27;</td>\n",
       "        </tr>\n",
       "    \n",
       "\n",
       "        <tr class=\"default\">\n",
       "            <td><i class=\"copy-paste-icon\"\n",
       "                 onclick=\"copyToClipboard('sparse_threshold',\n",
       "                          this.parentElement.nextElementSibling)\"\n",
       "            ></i></td>\n",
       "            <td class=\"param\">sparse_threshold&nbsp;</td>\n",
       "            <td class=\"value\">0.3</td>\n",
       "        </tr>\n",
       "    \n",
       "\n",
       "        <tr class=\"default\">\n",
       "            <td><i class=\"copy-paste-icon\"\n",
       "                 onclick=\"copyToClipboard('n_jobs',\n",
       "                          this.parentElement.nextElementSibling)\"\n",
       "            ></i></td>\n",
       "            <td class=\"param\">n_jobs&nbsp;</td>\n",
       "            <td class=\"value\">None</td>\n",
       "        </tr>\n",
       "    \n",
       "\n",
       "        <tr class=\"default\">\n",
       "            <td><i class=\"copy-paste-icon\"\n",
       "                 onclick=\"copyToClipboard('transformer_weights',\n",
       "                          this.parentElement.nextElementSibling)\"\n",
       "            ></i></td>\n",
       "            <td class=\"param\">transformer_weights&nbsp;</td>\n",
       "            <td class=\"value\">None</td>\n",
       "        </tr>\n",
       "    \n",
       "\n",
       "        <tr class=\"default\">\n",
       "            <td><i class=\"copy-paste-icon\"\n",
       "                 onclick=\"copyToClipboard('verbose',\n",
       "                          this.parentElement.nextElementSibling)\"\n",
       "            ></i></td>\n",
       "            <td class=\"param\">verbose&nbsp;</td>\n",
       "            <td class=\"value\">False</td>\n",
       "        </tr>\n",
       "    \n",
       "\n",
       "        <tr class=\"default\">\n",
       "            <td><i class=\"copy-paste-icon\"\n",
       "                 onclick=\"copyToClipboard('verbose_feature_names_out',\n",
       "                          this.parentElement.nextElementSibling)\"\n",
       "            ></i></td>\n",
       "            <td class=\"param\">verbose_feature_names_out&nbsp;</td>\n",
       "            <td class=\"value\">True</td>\n",
       "        </tr>\n",
       "    \n",
       "\n",
       "        <tr class=\"default\">\n",
       "            <td><i class=\"copy-paste-icon\"\n",
       "                 onclick=\"copyToClipboard('force_int_remainder_cols',\n",
       "                          this.parentElement.nextElementSibling)\"\n",
       "            ></i></td>\n",
       "            <td class=\"param\">force_int_remainder_cols&nbsp;</td>\n",
       "            <td class=\"value\">&#x27;deprecated&#x27;</td>\n",
       "        </tr>\n",
       "    \n",
       "                  </tbody>\n",
       "                </table>\n",
       "            </details>\n",
       "        </div>\n",
       "    </div></div></div><div class=\"sk-parallel\"><div class=\"sk-parallel-item\"><div class=\"sk-item\"><div class=\"sk-label-container\"><div class=\"sk-label fitted sk-toggleable\"><input class=\"sk-toggleable__control sk-hidden--visually\" id=\"sk-estimator-id-10\" type=\"checkbox\" ><label for=\"sk-estimator-id-10\" class=\"sk-toggleable__label fitted sk-toggleable__label-arrow\"><div><div>imputer</div></div></label><div class=\"sk-toggleable__content fitted\" data-param-prefix=\"imputer__\"><pre>[&#x27;age&#x27;]</pre></div></div></div><div class=\"sk-serial\"><div class=\"sk-item\"><div class=\"sk-estimator fitted sk-toggleable\"><input class=\"sk-toggleable__control sk-hidden--visually\" id=\"sk-estimator-id-11\" type=\"checkbox\" ><label for=\"sk-estimator-id-11\" class=\"sk-toggleable__label fitted sk-toggleable__label-arrow\"><div><div>SimpleImputer</div></div><div><a class=\"sk-estimator-doc-link fitted\" rel=\"noreferrer\" target=\"_blank\" href=\"https://scikit-learn.org/1.7/modules/generated/sklearn.impute.SimpleImputer.html\">?<span>Documentation for SimpleImputer</span></a></div></label><div class=\"sk-toggleable__content fitted\" data-param-prefix=\"imputer__\">\n",
       "        <div class=\"estimator-table\">\n",
       "            <details>\n",
       "                <summary>Parameters</summary>\n",
       "                <table class=\"parameters-table\">\n",
       "                  <tbody>\n",
       "                    \n",
       "        <tr class=\"default\">\n",
       "            <td><i class=\"copy-paste-icon\"\n",
       "                 onclick=\"copyToClipboard('missing_values',\n",
       "                          this.parentElement.nextElementSibling)\"\n",
       "            ></i></td>\n",
       "            <td class=\"param\">missing_values&nbsp;</td>\n",
       "            <td class=\"value\">nan</td>\n",
       "        </tr>\n",
       "    \n",
       "\n",
       "        <tr class=\"default\">\n",
       "            <td><i class=\"copy-paste-icon\"\n",
       "                 onclick=\"copyToClipboard('strategy',\n",
       "                          this.parentElement.nextElementSibling)\"\n",
       "            ></i></td>\n",
       "            <td class=\"param\">strategy&nbsp;</td>\n",
       "            <td class=\"value\">&#x27;mean&#x27;</td>\n",
       "        </tr>\n",
       "    \n",
       "\n",
       "        <tr class=\"default\">\n",
       "            <td><i class=\"copy-paste-icon\"\n",
       "                 onclick=\"copyToClipboard('fill_value',\n",
       "                          this.parentElement.nextElementSibling)\"\n",
       "            ></i></td>\n",
       "            <td class=\"param\">fill_value&nbsp;</td>\n",
       "            <td class=\"value\">None</td>\n",
       "        </tr>\n",
       "    \n",
       "\n",
       "        <tr class=\"default\">\n",
       "            <td><i class=\"copy-paste-icon\"\n",
       "                 onclick=\"copyToClipboard('copy',\n",
       "                          this.parentElement.nextElementSibling)\"\n",
       "            ></i></td>\n",
       "            <td class=\"param\">copy&nbsp;</td>\n",
       "            <td class=\"value\">True</td>\n",
       "        </tr>\n",
       "    \n",
       "\n",
       "        <tr class=\"default\">\n",
       "            <td><i class=\"copy-paste-icon\"\n",
       "                 onclick=\"copyToClipboard('add_indicator',\n",
       "                          this.parentElement.nextElementSibling)\"\n",
       "            ></i></td>\n",
       "            <td class=\"param\">add_indicator&nbsp;</td>\n",
       "            <td class=\"value\">False</td>\n",
       "        </tr>\n",
       "    \n",
       "\n",
       "        <tr class=\"default\">\n",
       "            <td><i class=\"copy-paste-icon\"\n",
       "                 onclick=\"copyToClipboard('keep_empty_features',\n",
       "                          this.parentElement.nextElementSibling)\"\n",
       "            ></i></td>\n",
       "            <td class=\"param\">keep_empty_features&nbsp;</td>\n",
       "            <td class=\"value\">False</td>\n",
       "        </tr>\n",
       "    \n",
       "                  </tbody>\n",
       "                </table>\n",
       "            </details>\n",
       "        </div>\n",
       "    </div></div></div></div></div></div><div class=\"sk-parallel-item\"><div class=\"sk-item\"><div class=\"sk-label-container\"><div class=\"sk-label fitted sk-toggleable\"><input class=\"sk-toggleable__control sk-hidden--visually\" id=\"sk-estimator-id-12\" type=\"checkbox\" ><label for=\"sk-estimator-id-12\" class=\"sk-toggleable__label fitted sk-toggleable__label-arrow\"><div><div>encoder</div></div></label><div class=\"sk-toggleable__content fitted\" data-param-prefix=\"encoder__\"><pre>[&#x27;sex&#x27;, &#x27;embarked&#x27;]</pre></div></div></div><div class=\"sk-serial\"><div class=\"sk-item\"><div class=\"sk-estimator fitted sk-toggleable\"><input class=\"sk-toggleable__control sk-hidden--visually\" id=\"sk-estimator-id-13\" type=\"checkbox\" ><label for=\"sk-estimator-id-13\" class=\"sk-toggleable__label fitted sk-toggleable__label-arrow\"><div><div>OneHotEncoder</div></div><div><a class=\"sk-estimator-doc-link fitted\" rel=\"noreferrer\" target=\"_blank\" href=\"https://scikit-learn.org/1.7/modules/generated/sklearn.preprocessing.OneHotEncoder.html\">?<span>Documentation for OneHotEncoder</span></a></div></label><div class=\"sk-toggleable__content fitted\" data-param-prefix=\"encoder__\">\n",
       "        <div class=\"estimator-table\">\n",
       "            <details>\n",
       "                <summary>Parameters</summary>\n",
       "                <table class=\"parameters-table\">\n",
       "                  <tbody>\n",
       "                    \n",
       "        <tr class=\"default\">\n",
       "            <td><i class=\"copy-paste-icon\"\n",
       "                 onclick=\"copyToClipboard('categories',\n",
       "                          this.parentElement.nextElementSibling)\"\n",
       "            ></i></td>\n",
       "            <td class=\"param\">categories&nbsp;</td>\n",
       "            <td class=\"value\">&#x27;auto&#x27;</td>\n",
       "        </tr>\n",
       "    \n",
       "\n",
       "        <tr class=\"default\">\n",
       "            <td><i class=\"copy-paste-icon\"\n",
       "                 onclick=\"copyToClipboard('drop',\n",
       "                          this.parentElement.nextElementSibling)\"\n",
       "            ></i></td>\n",
       "            <td class=\"param\">drop&nbsp;</td>\n",
       "            <td class=\"value\">None</td>\n",
       "        </tr>\n",
       "    \n",
       "\n",
       "        <tr class=\"user-set\">\n",
       "            <td><i class=\"copy-paste-icon\"\n",
       "                 onclick=\"copyToClipboard('sparse_output',\n",
       "                          this.parentElement.nextElementSibling)\"\n",
       "            ></i></td>\n",
       "            <td class=\"param\">sparse_output&nbsp;</td>\n",
       "            <td class=\"value\">False</td>\n",
       "        </tr>\n",
       "    \n",
       "\n",
       "        <tr class=\"default\">\n",
       "            <td><i class=\"copy-paste-icon\"\n",
       "                 onclick=\"copyToClipboard('dtype',\n",
       "                          this.parentElement.nextElementSibling)\"\n",
       "            ></i></td>\n",
       "            <td class=\"param\">dtype&nbsp;</td>\n",
       "            <td class=\"value\">&lt;class &#x27;numpy.float64&#x27;&gt;</td>\n",
       "        </tr>\n",
       "    \n",
       "\n",
       "        <tr class=\"default\">\n",
       "            <td><i class=\"copy-paste-icon\"\n",
       "                 onclick=\"copyToClipboard('handle_unknown',\n",
       "                          this.parentElement.nextElementSibling)\"\n",
       "            ></i></td>\n",
       "            <td class=\"param\">handle_unknown&nbsp;</td>\n",
       "            <td class=\"value\">&#x27;error&#x27;</td>\n",
       "        </tr>\n",
       "    \n",
       "\n",
       "        <tr class=\"default\">\n",
       "            <td><i class=\"copy-paste-icon\"\n",
       "                 onclick=\"copyToClipboard('min_frequency',\n",
       "                          this.parentElement.nextElementSibling)\"\n",
       "            ></i></td>\n",
       "            <td class=\"param\">min_frequency&nbsp;</td>\n",
       "            <td class=\"value\">None</td>\n",
       "        </tr>\n",
       "    \n",
       "\n",
       "        <tr class=\"default\">\n",
       "            <td><i class=\"copy-paste-icon\"\n",
       "                 onclick=\"copyToClipboard('max_categories',\n",
       "                          this.parentElement.nextElementSibling)\"\n",
       "            ></i></td>\n",
       "            <td class=\"param\">max_categories&nbsp;</td>\n",
       "            <td class=\"value\">None</td>\n",
       "        </tr>\n",
       "    \n",
       "\n",
       "        <tr class=\"default\">\n",
       "            <td><i class=\"copy-paste-icon\"\n",
       "                 onclick=\"copyToClipboard('feature_name_combiner',\n",
       "                          this.parentElement.nextElementSibling)\"\n",
       "            ></i></td>\n",
       "            <td class=\"param\">feature_name_combiner&nbsp;</td>\n",
       "            <td class=\"value\">&#x27;concat&#x27;</td>\n",
       "        </tr>\n",
       "    \n",
       "                  </tbody>\n",
       "                </table>\n",
       "            </details>\n",
       "        </div>\n",
       "    </div></div></div></div></div></div><div class=\"sk-parallel-item\"><div class=\"sk-item\"><div class=\"sk-label-container\"><div class=\"sk-label fitted sk-toggleable\"><input class=\"sk-toggleable__control sk-hidden--visually\" id=\"sk-estimator-id-14\" type=\"checkbox\" ><label for=\"sk-estimator-id-14\" class=\"sk-toggleable__label fitted sk-toggleable__label-arrow\"><div><div>remainder</div></div></label><div class=\"sk-toggleable__content fitted\" data-param-prefix=\"remainder__\"><pre>[&#x27;survived&#x27;, &#x27;pclass&#x27;, &#x27;sibsp&#x27;, &#x27;parch&#x27;, &#x27;fare&#x27;, &#x27;class&#x27;, &#x27;who&#x27;, &#x27;adult_male&#x27;, &#x27;deck&#x27;, &#x27;embark_town&#x27;, &#x27;alive&#x27;, &#x27;alone&#x27;]</pre></div></div></div><div class=\"sk-serial\"><div class=\"sk-item\"><div class=\"sk-estimator fitted sk-toggleable\"><input class=\"sk-toggleable__control sk-hidden--visually\" id=\"sk-estimator-id-15\" type=\"checkbox\" ><label for=\"sk-estimator-id-15\" class=\"sk-toggleable__label fitted sk-toggleable__label-arrow\"><div><div>passthrough</div></div></label><div class=\"sk-toggleable__content fitted\" data-param-prefix=\"remainder__\"><pre>passthrough</pre></div></div></div></div></div></div></div></div></div></div><script>function copyToClipboard(text, element) {\n",
       "    // Get the parameter prefix from the closest toggleable content\n",
       "    const toggleableContent = element.closest('.sk-toggleable__content');\n",
       "    const paramPrefix = toggleableContent ? toggleableContent.dataset.paramPrefix : '';\n",
       "    const fullParamName = paramPrefix ? `${paramPrefix}${text}` : text;\n",
       "\n",
       "    const originalStyle = element.style;\n",
       "    const computedStyle = window.getComputedStyle(element);\n",
       "    const originalWidth = computedStyle.width;\n",
       "    const originalHTML = element.innerHTML.replace('Copied!', '');\n",
       "\n",
       "    navigator.clipboard.writeText(fullParamName)\n",
       "        .then(() => {\n",
       "            element.style.width = originalWidth;\n",
       "            element.style.color = 'green';\n",
       "            element.innerHTML = \"Copied!\";\n",
       "\n",
       "            setTimeout(() => {\n",
       "                element.innerHTML = originalHTML;\n",
       "                element.style = originalStyle;\n",
       "            }, 2000);\n",
       "        })\n",
       "        .catch(err => {\n",
       "            console.error('Failed to copy:', err);\n",
       "            element.style.color = 'red';\n",
       "            element.innerHTML = \"Failed!\";\n",
       "            setTimeout(() => {\n",
       "                element.innerHTML = originalHTML;\n",
       "                element.style = originalStyle;\n",
       "            }, 2000);\n",
       "        });\n",
       "    return false;\n",
       "}\n",
       "\n",
       "document.querySelectorAll('.fa-regular.fa-copy').forEach(function(element) {\n",
       "    const toggleableContent = element.closest('.sk-toggleable__content');\n",
       "    const paramPrefix = toggleableContent ? toggleableContent.dataset.paramPrefix : '';\n",
       "    const paramName = element.parentElement.nextElementSibling.textContent.trim();\n",
       "    const fullParamName = paramPrefix ? `${paramPrefix}${paramName}` : paramName;\n",
       "\n",
       "    element.setAttribute('title', fullParamName);\n",
       "});\n",
       "</script></body>"
      ],
      "text/plain": [
       "ColumnTransformer(remainder='passthrough',\n",
       "                  transformers=[('imputer', SimpleImputer(), ['age']),\n",
       "                                ('encoder', OneHotEncoder(sparse_output=False),\n",
       "                                 ['sex', 'embarked'])])"
      ]
     },
     "execution_count": 70,
     "metadata": {},
     "output_type": "execute_result"
    }
   ],
   "source": [
    "pipe.named_steps['preprocessor']"
   ]
  },
  {
   "cell_type": "code",
   "execution_count": 71,
   "metadata": {
    "executionInfo": {
     "elapsed": 2,
     "status": "ok",
     "timestamp": 1728922476429,
     "user": {
      "displayName": "YUKTI SETHI",
      "userId": "02282718160304582968"
     },
     "user_tz": -330
    },
    "id": "9r9c_TZEzc0v"
   },
   "outputs": [],
   "source": [
    "coltrans = ColumnTransformer([('imputer' ,  SimpleImputer(strategy = 'mean'), ['age']), ('encoder', OneHotEncoder(sparse_output=False), ['sex', 'embarked'])], remainder = 'passthrough')"
   ]
  },
  {
   "cell_type": "code",
   "execution_count": 72,
   "metadata": {
    "executionInfo": {
     "elapsed": 396,
     "status": "ok",
     "timestamp": 1728922965941,
     "user": {
      "displayName": "YUKTI SETHI",
      "userId": "02282718160304582968"
     },
     "user_tz": -330
    },
    "id": "zLlSv81cy0Xi"
   },
   "outputs": [],
   "source": [
    "transformed_data =coltrans.fit_transform(df)"
   ]
  },
  {
   "cell_type": "code",
   "execution_count": 73,
   "metadata": {
    "executionInfo": {
     "elapsed": 380,
     "status": "ok",
     "timestamp": 1728923110850,
     "user": {
      "displayName": "YUKTI SETHI",
      "userId": "02282718160304582968"
     },
     "user_tz": -330
    },
    "id": "YXex9EUt1yQ7"
   },
   "outputs": [],
   "source": [
    "ohe=list(coltrans['encoder'].get_feature_names_out())"
   ]
  },
  {
   "cell_type": "code",
   "execution_count": 74,
   "metadata": {
    "executionInfo": {
     "elapsed": 422,
     "status": "ok",
     "timestamp": 1728923216872,
     "user": {
      "displayName": "YUKTI SETHI",
      "userId": "02282718160304582968"
     },
     "user_tz": -330
    },
    "id": "l3HrhqgG2ZMA"
   },
   "outputs": [],
   "source": [
    "rem= df.columns.difference(['age', 'sex' ,  'embarked']).tolist()"
   ]
  },
  {
   "cell_type": "code",
   "execution_count": 75,
   "metadata": {
    "colab": {
     "base_uri": "https://localhost:8080/"
    },
    "executionInfo": {
     "elapsed": 383,
     "status": "ok",
     "timestamp": 1728924647106,
     "user": {
      "displayName": "YUKTI SETHI",
      "userId": "02282718160304582968"
     },
     "user_tz": -330
    },
    "id": "-4bVCxfL8Her",
    "outputId": "9b6160a1-1f03-4989-a2fc-2b95c0469d2d"
   },
   "outputs": [
    {
     "data": {
      "text/plain": [
       "['adult_male',\n",
       " 'alive',\n",
       " 'alone',\n",
       " 'class',\n",
       " 'deck',\n",
       " 'embark_town',\n",
       " 'fare',\n",
       " 'parch',\n",
       " 'pclass',\n",
       " 'sibsp',\n",
       " 'survived',\n",
       " 'who']"
      ]
     },
     "execution_count": 75,
     "metadata": {},
     "output_type": "execute_result"
    }
   ],
   "source": [
    "df.columns.difference(['age', 'sex' ,  'embarked']).tolist()"
   ]
  },
  {
   "cell_type": "code",
   "execution_count": 76,
   "metadata": {
    "colab": {
     "base_uri": "https://localhost:8080/"
    },
    "executionInfo": {
     "elapsed": 400,
     "status": "ok",
     "timestamp": 1728924417624,
     "user": {
      "displayName": "YUKTI SETHI",
      "userId": "02282718160304582968"
     },
     "user_tz": -330
    },
    "id": "QBOJN6Od7JJI",
    "outputId": "082e4dbf-f281-4b7e-9c29-3d3444bd54a4"
   },
   "outputs": [
    {
     "data": {
      "text/plain": [
       "Index(['survived', 'pclass', 'sex', 'age', 'sibsp', 'parch', 'fare',\n",
       "       'embarked', 'class', 'who', 'adult_male', 'deck', 'embark_town',\n",
       "       'alive', 'alone'],\n",
       "      dtype='object')"
      ]
     },
     "execution_count": 76,
     "metadata": {},
     "output_type": "execute_result"
    }
   ],
   "source": [
    "df.columns"
   ]
  },
  {
   "cell_type": "code",
   "execution_count": 77,
   "metadata": {
    "colab": {
     "base_uri": "https://localhost:8080/"
    },
    "executionInfo": {
     "elapsed": 2,
     "status": "ok",
     "timestamp": 1728924488476,
     "user": {
      "displayName": "YUKTI SETHI",
      "userId": "02282718160304582968"
     },
     "user_tz": -330
    },
    "id": "1cyTCjf47eDe",
    "outputId": "993509e3-0ed7-4583-fa37-ca10750202ee"
   },
   "outputs": [
    {
     "data": {
      "text/plain": [
       "array(['imputer__age', 'encoder__sex_female', 'encoder__sex_male',\n",
       "       'encoder__embarked_C', 'encoder__embarked_Q',\n",
       "       'encoder__embarked_S', 'encoder__embarked_nan',\n",
       "       'remainder__survived', 'remainder__pclass', 'remainder__sibsp',\n",
       "       'remainder__parch', 'remainder__fare', 'remainder__class',\n",
       "       'remainder__who', 'remainder__adult_male', 'remainder__deck',\n",
       "       'remainder__embark_town', 'remainder__alive', 'remainder__alone'],\n",
       "      dtype=object)"
      ]
     },
     "execution_count": 77,
     "metadata": {},
     "output_type": "execute_result"
    }
   ],
   "source": [
    "coltrans.get_feature_names_out()"
   ]
  },
  {
   "cell_type": "code",
   "execution_count": 78,
   "metadata": {
    "id": "vVfxAvLt7U8f"
   },
   "outputs": [],
   "source": [
    "# rem=['survived', 'pclass', 'sex', 'sibsp', 'parch', 'fare',\n",
    "#        'embarked', 'class', 'who', 'adult_male', 'deck', 'embark_town',\n",
    "#        'alive', 'alone']"
   ]
  },
  {
   "cell_type": "code",
   "execution_count": 79,
   "metadata": {
    "executionInfo": {
     "elapsed": 4,
     "status": "ok",
     "timestamp": 1728923224891,
     "user": {
      "displayName": "YUKTI SETHI",
      "userId": "02282718160304582968"
     },
     "user_tz": -330
    },
    "id": "CKJ5aGho2RBA"
   },
   "outputs": [],
   "source": [
    "cols=['age'] + ohe + rem"
   ]
  },
  {
   "cell_type": "code",
   "execution_count": 80,
   "metadata": {
    "executionInfo": {
     "elapsed": 422,
     "status": "ok",
     "timestamp": 1728924531885,
     "user": {
      "displayName": "YUKTI SETHI",
      "userId": "02282718160304582968"
     },
     "user_tz": -330
    },
    "id": "H6pipaGu0BIu"
   },
   "outputs": [],
   "source": [
    "trdf = pd.DataFrame(transformed_data, columns =coltrans.get_feature_names_out())"
   ]
  },
  {
   "cell_type": "code",
   "execution_count": 81,
   "metadata": {
    "colab": {
     "base_uri": "https://localhost:8080/",
     "height": 226
    },
    "executionInfo": {
     "elapsed": 527,
     "status": "ok",
     "timestamp": 1728924532825,
     "user": {
      "displayName": "YUKTI SETHI",
      "userId": "02282718160304582968"
     },
     "user_tz": -330
    },
    "id": "Wz9zHbBp3IzB",
    "outputId": "04c297b0-96f4-4d42-e308-874347da0bf2"
   },
   "outputs": [
    {
     "data": {
      "text/html": [
       "<div>\n",
       "<style scoped>\n",
       "    .dataframe tbody tr th:only-of-type {\n",
       "        vertical-align: middle;\n",
       "    }\n",
       "\n",
       "    .dataframe tbody tr th {\n",
       "        vertical-align: top;\n",
       "    }\n",
       "\n",
       "    .dataframe thead th {\n",
       "        text-align: right;\n",
       "    }\n",
       "</style>\n",
       "<table border=\"1\" class=\"dataframe\">\n",
       "  <thead>\n",
       "    <tr style=\"text-align: right;\">\n",
       "      <th></th>\n",
       "      <th>imputer__age</th>\n",
       "      <th>encoder__sex_female</th>\n",
       "      <th>encoder__sex_male</th>\n",
       "      <th>encoder__embarked_C</th>\n",
       "      <th>encoder__embarked_Q</th>\n",
       "      <th>encoder__embarked_S</th>\n",
       "      <th>encoder__embarked_nan</th>\n",
       "      <th>remainder__survived</th>\n",
       "      <th>remainder__pclass</th>\n",
       "      <th>remainder__sibsp</th>\n",
       "      <th>remainder__parch</th>\n",
       "      <th>remainder__fare</th>\n",
       "      <th>remainder__class</th>\n",
       "      <th>remainder__who</th>\n",
       "      <th>remainder__adult_male</th>\n",
       "      <th>remainder__deck</th>\n",
       "      <th>remainder__embark_town</th>\n",
       "      <th>remainder__alive</th>\n",
       "      <th>remainder__alone</th>\n",
       "    </tr>\n",
       "  </thead>\n",
       "  <tbody>\n",
       "    <tr>\n",
       "      <th>0</th>\n",
       "      <td>22.0</td>\n",
       "      <td>0.0</td>\n",
       "      <td>1.0</td>\n",
       "      <td>0.0</td>\n",
       "      <td>0.0</td>\n",
       "      <td>1.0</td>\n",
       "      <td>0.0</td>\n",
       "      <td>0</td>\n",
       "      <td>3</td>\n",
       "      <td>1</td>\n",
       "      <td>0</td>\n",
       "      <td>7.25</td>\n",
       "      <td>Third</td>\n",
       "      <td>man</td>\n",
       "      <td>True</td>\n",
       "      <td>NaN</td>\n",
       "      <td>Southampton</td>\n",
       "      <td>no</td>\n",
       "      <td>False</td>\n",
       "    </tr>\n",
       "    <tr>\n",
       "      <th>1</th>\n",
       "      <td>38.0</td>\n",
       "      <td>1.0</td>\n",
       "      <td>0.0</td>\n",
       "      <td>1.0</td>\n",
       "      <td>0.0</td>\n",
       "      <td>0.0</td>\n",
       "      <td>0.0</td>\n",
       "      <td>1</td>\n",
       "      <td>1</td>\n",
       "      <td>1</td>\n",
       "      <td>0</td>\n",
       "      <td>71.2833</td>\n",
       "      <td>First</td>\n",
       "      <td>woman</td>\n",
       "      <td>False</td>\n",
       "      <td>C</td>\n",
       "      <td>Cherbourg</td>\n",
       "      <td>yes</td>\n",
       "      <td>False</td>\n",
       "    </tr>\n",
       "    <tr>\n",
       "      <th>2</th>\n",
       "      <td>26.0</td>\n",
       "      <td>1.0</td>\n",
       "      <td>0.0</td>\n",
       "      <td>0.0</td>\n",
       "      <td>0.0</td>\n",
       "      <td>1.0</td>\n",
       "      <td>0.0</td>\n",
       "      <td>1</td>\n",
       "      <td>3</td>\n",
       "      <td>0</td>\n",
       "      <td>0</td>\n",
       "      <td>7.925</td>\n",
       "      <td>Third</td>\n",
       "      <td>woman</td>\n",
       "      <td>False</td>\n",
       "      <td>NaN</td>\n",
       "      <td>Southampton</td>\n",
       "      <td>yes</td>\n",
       "      <td>True</td>\n",
       "    </tr>\n",
       "    <tr>\n",
       "      <th>3</th>\n",
       "      <td>35.0</td>\n",
       "      <td>1.0</td>\n",
       "      <td>0.0</td>\n",
       "      <td>0.0</td>\n",
       "      <td>0.0</td>\n",
       "      <td>1.0</td>\n",
       "      <td>0.0</td>\n",
       "      <td>1</td>\n",
       "      <td>1</td>\n",
       "      <td>1</td>\n",
       "      <td>0</td>\n",
       "      <td>53.1</td>\n",
       "      <td>First</td>\n",
       "      <td>woman</td>\n",
       "      <td>False</td>\n",
       "      <td>C</td>\n",
       "      <td>Southampton</td>\n",
       "      <td>yes</td>\n",
       "      <td>False</td>\n",
       "    </tr>\n",
       "    <tr>\n",
       "      <th>4</th>\n",
       "      <td>35.0</td>\n",
       "      <td>0.0</td>\n",
       "      <td>1.0</td>\n",
       "      <td>0.0</td>\n",
       "      <td>0.0</td>\n",
       "      <td>1.0</td>\n",
       "      <td>0.0</td>\n",
       "      <td>0</td>\n",
       "      <td>3</td>\n",
       "      <td>0</td>\n",
       "      <td>0</td>\n",
       "      <td>8.05</td>\n",
       "      <td>Third</td>\n",
       "      <td>man</td>\n",
       "      <td>True</td>\n",
       "      <td>NaN</td>\n",
       "      <td>Southampton</td>\n",
       "      <td>no</td>\n",
       "      <td>True</td>\n",
       "    </tr>\n",
       "  </tbody>\n",
       "</table>\n",
       "</div>"
      ],
      "text/plain": [
       "  imputer__age encoder__sex_female encoder__sex_male encoder__embarked_C  \\\n",
       "0         22.0                 0.0               1.0                 0.0   \n",
       "1         38.0                 1.0               0.0                 1.0   \n",
       "2         26.0                 1.0               0.0                 0.0   \n",
       "3         35.0                 1.0               0.0                 0.0   \n",
       "4         35.0                 0.0               1.0                 0.0   \n",
       "\n",
       "  encoder__embarked_Q encoder__embarked_S encoder__embarked_nan  \\\n",
       "0                 0.0                 1.0                   0.0   \n",
       "1                 0.0                 0.0                   0.0   \n",
       "2                 0.0                 1.0                   0.0   \n",
       "3                 0.0                 1.0                   0.0   \n",
       "4                 0.0                 1.0                   0.0   \n",
       "\n",
       "  remainder__survived remainder__pclass remainder__sibsp remainder__parch  \\\n",
       "0                   0                 3                1                0   \n",
       "1                   1                 1                1                0   \n",
       "2                   1                 3                0                0   \n",
       "3                   1                 1                1                0   \n",
       "4                   0                 3                0                0   \n",
       "\n",
       "  remainder__fare remainder__class remainder__who remainder__adult_male  \\\n",
       "0            7.25            Third            man                  True   \n",
       "1         71.2833            First          woman                 False   \n",
       "2           7.925            Third          woman                 False   \n",
       "3            53.1            First          woman                 False   \n",
       "4            8.05            Third            man                  True   \n",
       "\n",
       "  remainder__deck remainder__embark_town remainder__alive remainder__alone  \n",
       "0             NaN            Southampton               no            False  \n",
       "1               C              Cherbourg              yes            False  \n",
       "2             NaN            Southampton              yes             True  \n",
       "3               C            Southampton              yes            False  \n",
       "4             NaN            Southampton               no             True  "
      ]
     },
     "execution_count": 81,
     "metadata": {},
     "output_type": "execute_result"
    }
   ],
   "source": [
    "trdf.head()"
   ]
  },
  {
   "cell_type": "markdown",
   "metadata": {
    "id": "lOjPU7hYehEZ"
   },
   "source": [
    "# Q9\n",
    "Use ColumnTransformer to apply OneHotEncoder to Sex and Embarked, and scale numerical columns like Age and Fare."
   ]
  },
  {
   "cell_type": "code",
   "execution_count": null,
   "metadata": {
    "id": "qqePUtvme4CT"
   },
   "outputs": [],
   "source": []
  },
  {
   "cell_type": "markdown",
   "metadata": {
    "id": "pg0AfRmQe9nW"
   },
   "source": [
    "# Q10\n",
    "Use SelectKBest to select the top 2 features that are most correlated with survival (Survived)."
   ]
  },
  {
   "cell_type": "code",
   "execution_count": 82,
   "metadata": {
    "executionInfo": {
     "elapsed": 1,
     "status": "ok",
     "timestamp": 1728923430755,
     "user": {
      "displayName": "YUKTI SETHI",
      "userId": "02282718160304582968"
     },
     "user_tz": -330
    },
    "id": "cGqPXGM-e_uW"
   },
   "outputs": [],
   "source": [
    "from sklearn.feature_selection import SelectKBest"
   ]
  },
  {
   "cell_type": "code",
   "execution_count": 83,
   "metadata": {
    "colab": {
     "base_uri": "https://localhost:8080/",
     "height": 680
    },
    "executionInfo": {
     "elapsed": 409,
     "status": "ok",
     "timestamp": 1728923649236,
     "user": {
      "displayName": "YUKTI SETHI",
      "userId": "02282718160304582968"
     },
     "user_tz": -330
    },
    "id": "gPdOsi954R5r",
    "outputId": "a33bf0c8-f970-4234-f602-89c00a58a4f2"
   },
   "outputs": [
    {
     "data": {
      "text/plain": [
       "imputer__age                0\n",
       "encoder__sex_female         0\n",
       "encoder__sex_male           0\n",
       "encoder__embarked_C         0\n",
       "encoder__embarked_Q         0\n",
       "encoder__embarked_S         0\n",
       "encoder__embarked_nan       0\n",
       "remainder__survived         0\n",
       "remainder__pclass           0\n",
       "remainder__sibsp            0\n",
       "remainder__parch            0\n",
       "remainder__fare             0\n",
       "remainder__class            0\n",
       "remainder__who              0\n",
       "remainder__adult_male       0\n",
       "remainder__deck           688\n",
       "remainder__embark_town      2\n",
       "remainder__alive            0\n",
       "remainder__alone            0\n",
       "dtype: int64"
      ]
     },
     "execution_count": 83,
     "metadata": {},
     "output_type": "execute_result"
    }
   ],
   "source": [
    "trdf.isna().sum()"
   ]
  },
  {
   "cell_type": "code",
   "execution_count": 84,
   "metadata": {
    "colab": {
     "base_uri": "https://localhost:8080/"
    },
    "executionInfo": {
     "elapsed": 386,
     "status": "ok",
     "timestamp": 1728924776911,
     "user": {
      "displayName": "YUKTI SETHI",
      "userId": "02282718160304582968"
     },
     "user_tz": -330
    },
    "id": "G2EGoMG84-O3",
    "outputId": "c99bf4a5-d212-4d7b-cf33-edac01caf374"
   },
   "outputs": [
    {
     "name": "stdout",
     "output_type": "stream",
     "text": [
      "<class 'pandas.core.frame.DataFrame'>\n",
      "RangeIndex: 891 entries, 0 to 890\n",
      "Data columns (total 19 columns):\n",
      " #   Column                  Non-Null Count  Dtype \n",
      "---  ------                  --------------  ----- \n",
      " 0   imputer__age            891 non-null    object\n",
      " 1   encoder__sex_female     891 non-null    object\n",
      " 2   encoder__sex_male       891 non-null    object\n",
      " 3   encoder__embarked_C     891 non-null    object\n",
      " 4   encoder__embarked_Q     891 non-null    object\n",
      " 5   encoder__embarked_S     891 non-null    object\n",
      " 6   encoder__embarked_nan   891 non-null    object\n",
      " 7   remainder__survived     891 non-null    object\n",
      " 8   remainder__pclass       891 non-null    object\n",
      " 9   remainder__sibsp        891 non-null    object\n",
      " 10  remainder__parch        891 non-null    object\n",
      " 11  remainder__fare         891 non-null    object\n",
      " 12  remainder__class        891 non-null    object\n",
      " 13  remainder__who          891 non-null    object\n",
      " 14  remainder__adult_male   891 non-null    object\n",
      " 15  remainder__deck         203 non-null    object\n",
      " 16  remainder__embark_town  889 non-null    object\n",
      " 17  remainder__alive        891 non-null    object\n",
      " 18  remainder__alone        891 non-null    object\n",
      "dtypes: object(19)\n",
      "memory usage: 132.4+ KB\n"
     ]
    }
   ],
   "source": [
    "trdf.info()"
   ]
  },
  {
   "cell_type": "code",
   "execution_count": 85,
   "metadata": {
    "executionInfo": {
     "elapsed": 433,
     "status": "ok",
     "timestamp": 1728924709652,
     "user": {
      "displayName": "YUKTI SETHI",
      "userId": "02282718160304582968"
     },
     "user_tz": -330
    },
    "id": "iXZwQDt33dT3"
   },
   "outputs": [],
   "source": [
    "X = trdf[['imputer__age', 'remainder__fare']]"
   ]
  },
  {
   "cell_type": "code",
   "execution_count": 86,
   "metadata": {
    "executionInfo": {
     "elapsed": 1,
     "status": "ok",
     "timestamp": 1728924711050,
     "user": {
      "displayName": "YUKTI SETHI",
      "userId": "02282718160304582968"
     },
     "user_tz": -330
    },
    "id": "pVvysANo3tZs"
   },
   "outputs": [],
   "source": [
    "y=trdf['remainder__survived']"
   ]
  },
  {
   "cell_type": "code",
   "execution_count": 87,
   "metadata": {
    "executionInfo": {
     "elapsed": 446,
     "status": "ok",
     "timestamp": 1728923751788,
     "user": {
      "displayName": "YUKTI SETHI",
      "userId": "02282718160304582968"
     },
     "user_tz": -330
    },
    "id": "I5D9TsBd4r9J"
   },
   "outputs": [
    {
     "name": "stdout",
     "output_type": "stream",
     "text": [
      "\u001b[1;31mInit signature:\u001b[0m \u001b[0mSelectKBest\u001b[0m\u001b[1;33m(\u001b[0m\u001b[0mscore_func\u001b[0m\u001b[1;33m=\u001b[0m\u001b[1;33m<\u001b[0m\u001b[0mfunction\u001b[0m \u001b[0mf_classif\u001b[0m \u001b[0mat\u001b[0m \u001b[1;36m0x000002B27A357920\u001b[0m\u001b[1;33m>\u001b[0m\u001b[1;33m,\u001b[0m \u001b[1;33m*\u001b[0m\u001b[1;33m,\u001b[0m \u001b[0mk\u001b[0m\u001b[1;33m=\u001b[0m\u001b[1;36m10\u001b[0m\u001b[1;33m)\u001b[0m\u001b[1;33m\u001b[0m\u001b[1;33m\u001b[0m\u001b[0m\n",
      "\u001b[1;31mDocstring:\u001b[0m     \n",
      "Select features according to the k highest scores.\n",
      "\n",
      "Read more in the :ref:`User Guide <univariate_feature_selection>`.\n",
      "\n",
      "Parameters\n",
      "----------\n",
      "score_func : callable, default=f_classif\n",
      "    Function taking two arrays X and y, and returning a pair of arrays\n",
      "    (scores, pvalues) or a single array with scores.\n",
      "    Default is f_classif (see below \"See Also\"). The default function only\n",
      "    works with classification tasks.\n",
      "\n",
      "    .. versionadded:: 0.18\n",
      "\n",
      "k : int or \"all\", default=10\n",
      "    Number of top features to select.\n",
      "    The \"all\" option bypasses selection, for use in a parameter search.\n",
      "\n",
      "Attributes\n",
      "----------\n",
      "scores_ : array-like of shape (n_features,)\n",
      "    Scores of features.\n",
      "\n",
      "pvalues_ : array-like of shape (n_features,)\n",
      "    p-values of feature scores, None if `score_func` returned only scores.\n",
      "\n",
      "n_features_in_ : int\n",
      "    Number of features seen during :term:`fit`.\n",
      "\n",
      "    .. versionadded:: 0.24\n",
      "\n",
      "feature_names_in_ : ndarray of shape (`n_features_in_`,)\n",
      "    Names of features seen during :term:`fit`. Defined only when `X`\n",
      "    has feature names that are all strings.\n",
      "\n",
      "    .. versionadded:: 1.0\n",
      "\n",
      "See Also\n",
      "--------\n",
      "f_classif: ANOVA F-value between label/feature for classification tasks.\n",
      "mutual_info_classif: Mutual information for a discrete target.\n",
      "chi2: Chi-squared stats of non-negative features for classification tasks.\n",
      "f_regression: F-value between label/feature for regression tasks.\n",
      "mutual_info_regression: Mutual information for a continuous target.\n",
      "SelectPercentile: Select features based on percentile of the highest\n",
      "    scores.\n",
      "SelectFpr : Select features based on a false positive rate test.\n",
      "SelectFdr : Select features based on an estimated false discovery rate.\n",
      "SelectFwe : Select features based on family-wise error rate.\n",
      "GenericUnivariateSelect : Univariate feature selector with configurable\n",
      "    mode.\n",
      "\n",
      "Notes\n",
      "-----\n",
      "Ties between features with equal scores will be broken in an unspecified\n",
      "way.\n",
      "\n",
      "This filter supports unsupervised feature selection that only requests `X` for\n",
      "computing the scores.\n",
      "\n",
      "Examples\n",
      "--------\n",
      ">>> from sklearn.datasets import load_digits\n",
      ">>> from sklearn.feature_selection import SelectKBest, chi2\n",
      ">>> X, y = load_digits(return_X_y=True)\n",
      ">>> X.shape\n",
      "(1797, 64)\n",
      ">>> X_new = SelectKBest(chi2, k=20).fit_transform(X, y)\n",
      ">>> X_new.shape\n",
      "(1797, 20)\n",
      "\u001b[1;31mFile:\u001b[0m           c:\\users\\pallavi\\appdata\\roaming\\python\\python311\\site-packages\\sklearn\\feature_selection\\_univariate_selection.py\n",
      "\u001b[1;31mType:\u001b[0m           ABCMeta\n",
      "\u001b[1;31mSubclasses:\u001b[0m     "
     ]
    }
   ],
   "source": [
    "?SelectKBest"
   ]
  },
  {
   "cell_type": "code",
   "execution_count": 88,
   "metadata": {
    "executionInfo": {
     "elapsed": 383,
     "status": "ok",
     "timestamp": 1728924712530,
     "user": {
      "displayName": "YUKTI SETHI",
      "userId": "02282718160304582968"
     },
     "user_tz": -330
    },
    "id": "9Rp7ovC_4iHD"
   },
   "outputs": [],
   "source": [
    "selector= SelectKBest(k=1)"
   ]
  },
  {
   "cell_type": "code",
   "execution_count": 89,
   "metadata": {
    "executionInfo": {
     "elapsed": 1,
     "status": "ok",
     "timestamp": 1728924713808,
     "user": {
      "displayName": "YUKTI SETHI",
      "userId": "02282718160304582968"
     },
     "user_tz": -330
    },
    "id": "bC2k7ty84x8e"
   },
   "outputs": [],
   "source": [
    "Xnew = selector.fit_transform(X, y)"
   ]
  },
  {
   "cell_type": "code",
   "execution_count": 90,
   "metadata": {
    "colab": {
     "base_uri": "https://localhost:8080/"
    },
    "executionInfo": {
     "elapsed": 2,
     "status": "ok",
     "timestamp": 1728924721216,
     "user": {
      "displayName": "YUKTI SETHI",
      "userId": "02282718160304582968"
     },
     "user_tz": -330
    },
    "id": "fKK9bhps8Y3h",
    "outputId": "4a12bad5-a78a-4837-a4bf-9b5a399d7ef1"
   },
   "outputs": [
    {
     "data": {
      "text/plain": [
       "(891, 1)"
      ]
     },
     "execution_count": 90,
     "metadata": {},
     "output_type": "execute_result"
    }
   ],
   "source": [
    "Xnew.shape"
   ]
  },
  {
   "cell_type": "markdown",
   "metadata": {
    "id": "4dfnpJDjfAUT"
   },
   "source": [
    "# Q11\n",
    "Use RFE (Recursive Feature Elimination) with a logistic regression model to select the top 3 features for predicting survival."
   ]
  },
  {
   "cell_type": "code",
   "execution_count": 91,
   "metadata": {
    "executionInfo": {
     "elapsed": 393,
     "status": "ok",
     "timestamp": 1728924983889,
     "user": {
      "displayName": "YUKTI SETHI",
      "userId": "02282718160304582968"
     },
     "user_tz": -330
    },
    "id": "EDRRZTppfKvZ"
   },
   "outputs": [],
   "source": [
    "from sklearn.feature_selection import RFE\n",
    "from sklearn.linear_model import LinearRegression"
   ]
  },
  {
   "cell_type": "code",
   "execution_count": 92,
   "metadata": {
    "executionInfo": {
     "elapsed": 1,
     "status": "ok",
     "timestamp": 1728924984307,
     "user": {
      "displayName": "YUKTI SETHI",
      "userId": "02282718160304582968"
     },
     "user_tz": -330
    },
    "id": "h8lUxPkg8_6x"
   },
   "outputs": [
    {
     "name": "stdout",
     "output_type": "stream",
     "text": [
      "\u001b[1;31mInit signature:\u001b[0m\n",
      "\u001b[0mRFE\u001b[0m\u001b[1;33m(\u001b[0m\u001b[1;33m\n",
      "\u001b[0m    \u001b[0mestimator\u001b[0m\u001b[1;33m,\u001b[0m\u001b[1;33m\n",
      "\u001b[0m    \u001b[1;33m*\u001b[0m\u001b[1;33m,\u001b[0m\u001b[1;33m\n",
      "\u001b[0m    \u001b[0mn_features_to_select\u001b[0m\u001b[1;33m=\u001b[0m\u001b[1;32mNone\u001b[0m\u001b[1;33m,\u001b[0m\u001b[1;33m\n",
      "\u001b[0m    \u001b[0mstep\u001b[0m\u001b[1;33m=\u001b[0m\u001b[1;36m1\u001b[0m\u001b[1;33m,\u001b[0m\u001b[1;33m\n",
      "\u001b[0m    \u001b[0mverbose\u001b[0m\u001b[1;33m=\u001b[0m\u001b[1;36m0\u001b[0m\u001b[1;33m,\u001b[0m\u001b[1;33m\n",
      "\u001b[0m    \u001b[0mimportance_getter\u001b[0m\u001b[1;33m=\u001b[0m\u001b[1;34m'auto'\u001b[0m\u001b[1;33m,\u001b[0m\u001b[1;33m\n",
      "\u001b[0m\u001b[1;33m)\u001b[0m\u001b[1;33m\u001b[0m\u001b[1;33m\u001b[0m\u001b[0m\n",
      "\u001b[1;31mDocstring:\u001b[0m     \n",
      "Feature ranking with recursive feature elimination.\n",
      "\n",
      "Given an external estimator that assigns weights to features (e.g., the\n",
      "coefficients of a linear model), the goal of recursive feature elimination\n",
      "(RFE) is to select features by recursively considering smaller and smaller\n",
      "sets of features. First, the estimator is trained on the initial set of\n",
      "features and the importance of each feature is obtained either through\n",
      "any specific attribute or callable.\n",
      "Then, the least important features are pruned from current set of features.\n",
      "That procedure is recursively repeated on the pruned set until the desired\n",
      "number of features to select is eventually reached.\n",
      "\n",
      "Read more in the :ref:`User Guide <rfe>`.\n",
      "\n",
      "Parameters\n",
      "----------\n",
      "estimator : ``Estimator`` instance\n",
      "    A supervised learning estimator with a ``fit`` method that provides\n",
      "    information about feature importance\n",
      "    (e.g. `coef_`, `feature_importances_`).\n",
      "\n",
      "n_features_to_select : int or float, default=None\n",
      "    The number of features to select. If `None`, half of the features are\n",
      "    selected. If integer, the parameter is the absolute number of features\n",
      "    to select. If float between 0 and 1, it is the fraction of features to\n",
      "    select.\n",
      "\n",
      "    .. versionchanged:: 0.24\n",
      "       Added float values for fractions.\n",
      "\n",
      "step : int or float, default=1\n",
      "    If greater than or equal to 1, then ``step`` corresponds to the\n",
      "    (integer) number of features to remove at each iteration.\n",
      "    If within (0.0, 1.0), then ``step`` corresponds to the percentage\n",
      "    (rounded down) of features to remove at each iteration.\n",
      "\n",
      "verbose : int, default=0\n",
      "    Controls verbosity of output.\n",
      "\n",
      "importance_getter : str or callable, default='auto'\n",
      "    If 'auto', uses the feature importance either through a `coef_`\n",
      "    or `feature_importances_` attributes of estimator.\n",
      "\n",
      "    Also accepts a string that specifies an attribute name/path\n",
      "    for extracting feature importance (implemented with `attrgetter`).\n",
      "    For example, give `regressor_.coef_` in case of\n",
      "    :class:`~sklearn.compose.TransformedTargetRegressor`  or\n",
      "    `named_steps.clf.feature_importances_` in case of\n",
      "    class:`~sklearn.pipeline.Pipeline` with its last step named `clf`.\n",
      "\n",
      "    If `callable`, overrides the default feature importance getter.\n",
      "    The callable is passed with the fitted estimator and it should\n",
      "    return importance for each feature.\n",
      "\n",
      "    .. versionadded:: 0.24\n",
      "\n",
      "Attributes\n",
      "----------\n",
      "classes_ : ndarray of shape (n_classes,)\n",
      "    The classes labels. Only available when `estimator` is a classifier.\n",
      "\n",
      "estimator_ : ``Estimator`` instance\n",
      "    The fitted estimator used to select features.\n",
      "\n",
      "n_features_ : int\n",
      "    The number of selected features.\n",
      "\n",
      "n_features_in_ : int\n",
      "    Number of features seen during :term:`fit`. Only defined if the\n",
      "    underlying estimator exposes such an attribute when fit.\n",
      "\n",
      "    .. versionadded:: 0.24\n",
      "\n",
      "feature_names_in_ : ndarray of shape (`n_features_in_`,)\n",
      "    Names of features seen during :term:`fit`. Defined only when `X`\n",
      "    has feature names that are all strings.\n",
      "\n",
      "    .. versionadded:: 1.0\n",
      "\n",
      "ranking_ : ndarray of shape (n_features,)\n",
      "    The feature ranking, such that ``ranking_[i]`` corresponds to the\n",
      "    ranking position of the i-th feature. Selected (i.e., estimated\n",
      "    best) features are assigned rank 1.\n",
      "\n",
      "support_ : ndarray of shape (n_features,)\n",
      "    The mask of selected features.\n",
      "\n",
      "See Also\n",
      "--------\n",
      "RFECV : Recursive feature elimination with built-in cross-validated\n",
      "    selection of the best number of features.\n",
      "SelectFromModel : Feature selection based on thresholds of importance\n",
      "    weights.\n",
      "SequentialFeatureSelector : Sequential cross-validation based feature\n",
      "    selection. Does not rely on importance weights.\n",
      "\n",
      "Notes\n",
      "-----\n",
      "Allows NaN/Inf in the input if the underlying estimator does as well.\n",
      "\n",
      "References\n",
      "----------\n",
      "\n",
      ".. [1] Guyon, I., Weston, J., Barnhill, S., & Vapnik, V., \"Gene selection\n",
      "       for cancer classification using support vector machines\",\n",
      "       Mach. Learn., 46(1-3), 389--422, 2002.\n",
      "\n",
      "Examples\n",
      "--------\n",
      "The following example shows how to retrieve the 5 most informative\n",
      "features in the Friedman #1 dataset.\n",
      "\n",
      ">>> from sklearn.datasets import make_friedman1\n",
      ">>> from sklearn.feature_selection import RFE\n",
      ">>> from sklearn.svm import SVR\n",
      ">>> X, y = make_friedman1(n_samples=50, n_features=10, random_state=0)\n",
      ">>> estimator = SVR(kernel=\"linear\")\n",
      ">>> selector = RFE(estimator, n_features_to_select=5, step=1)\n",
      ">>> selector = selector.fit(X, y)\n",
      ">>> selector.support_\n",
      "array([ True,  True,  True,  True,  True, False, False, False, False,\n",
      "       False])\n",
      ">>> selector.ranking_\n",
      "array([1, 1, 1, 1, 1, 6, 4, 3, 2, 5])\n",
      "\u001b[1;31mFile:\u001b[0m           c:\\users\\pallavi\\appdata\\roaming\\python\\python311\\site-packages\\sklearn\\feature_selection\\_rfe.py\n",
      "\u001b[1;31mType:\u001b[0m           ABCMeta\n",
      "\u001b[1;31mSubclasses:\u001b[0m     RFECV"
     ]
    }
   ],
   "source": [
    "?RFE"
   ]
  },
  {
   "cell_type": "code",
   "execution_count": 93,
   "metadata": {
    "executionInfo": {
     "elapsed": 7,
     "status": "ok",
     "timestamp": 1728924984313,
     "user": {
      "displayName": "YUKTI SETHI",
      "userId": "02282718160304582968"
     },
     "user_tz": -330
    },
    "id": "pDsEvbO988ha"
   },
   "outputs": [],
   "source": [
    "rfe= RFE(LinearRegression(), n_features_to_select=1)\n"
   ]
  },
  {
   "cell_type": "code",
   "execution_count": 94,
   "metadata": {
    "executionInfo": {
     "elapsed": 455,
     "status": "ok",
     "timestamp": 1728924988028,
     "user": {
      "displayName": "YUKTI SETHI",
      "userId": "02282718160304582968"
     },
     "user_tz": -330
    },
    "id": "61ulBPWQ9IGO"
   },
   "outputs": [],
   "source": [
    "XNEW=rfe.fit_transform(X, y)"
   ]
  },
  {
   "cell_type": "code",
   "execution_count": 95,
   "metadata": {
    "colab": {
     "base_uri": "https://localhost:8080/"
    },
    "executionInfo": {
     "elapsed": 4,
     "status": "ok",
     "timestamp": 1728925029407,
     "user": {
      "displayName": "YUKTI SETHI",
      "userId": "02282718160304582968"
     },
     "user_tz": -330
    },
    "id": "QWBGfSWH9jxW",
    "outputId": "62b2965c-7351-4ec7-cf9a-bfd2d846e6d6"
   },
   "outputs": [
    {
     "data": {
      "text/plain": [
       "(891, 1)"
      ]
     },
     "execution_count": 95,
     "metadata": {},
     "output_type": "execute_result"
    }
   ],
   "source": [
    "XNEW.shape"
   ]
  },
  {
   "cell_type": "markdown",
   "metadata": {
    "id": "DmjQ1VEPfLnm"
   },
   "source": [
    "# Q12\n",
    "\n",
    "Use FunctionTransformer to apply a log transformation to the Fare column."
   ]
  },
  {
   "cell_type": "code",
   "execution_count": 96,
   "metadata": {
    "executionInfo": {
     "elapsed": 603,
     "status": "ok",
     "timestamp": 1728925105790,
     "user": {
      "displayName": "YUKTI SETHI",
      "userId": "02282718160304582968"
     },
     "user_tz": -330
    },
    "id": "j4rCV77OfTR4"
   },
   "outputs": [],
   "source": [
    "from sklearn.preprocessing import FunctionTransformer\n",
    "import numpy as np\n",
    "fn=FunctionTransformer(np.log1p)"
   ]
  },
  {
   "cell_type": "code",
   "execution_count": 97,
   "metadata": {
    "executionInfo": {
     "elapsed": 425,
     "status": "ok",
     "timestamp": 1728925143609,
     "user": {
      "displayName": "YUKTI SETHI",
      "userId": "02282718160304582968"
     },
     "user_tz": -330
    },
    "id": "Teg_m17k91Rj"
   },
   "outputs": [],
   "source": [
    "xnew = fn.fit_transform(df['fare'])"
   ]
  },
  {
   "cell_type": "markdown",
   "metadata": {
    "id": "ZAXOGcppfTrM"
   },
   "source": [
    "# Q13\n",
    "Create a pipeline that:  \n",
    "\n",
    "Imputes missing values in the 'age' column using the mean.  \n",
    "\n",
    "Imputes missing values in the 'embarked' column using the most frequent strategy.  \n",
    "\n",
    "Scales the 'fare' and 'age' columns using StandardScaler.  \n",
    "\n",
    "One-hot encodes the 'sex' and 'embarked' columns.\n"
   ]
  },
  {
   "cell_type": "code",
   "execution_count": null,
   "metadata": {
    "id": "ZpmW2JpOfuXC"
   },
   "outputs": [],
   "source": []
  },
  {
   "cell_type": "markdown",
   "metadata": {
    "id": "DW-mcyGgf8jB"
   },
   "source": [
    "# Q14\n",
    "Create a pipeline that:\n",
    "\n",
    "Imputes missing values in the 'age' column using the mean.\n",
    "\n",
    "Scales the 'fare' column using StandardScaler.\n",
    "\n",
    "One-hot encodes the 'sex' column.\n",
    "Passes through the 'pclass' column without any transformation.\n",
    "\n",
    "Retains the original 'survived' column without any transformation."
   ]
  },
  {
   "cell_type": "code",
   "execution_count": null,
   "metadata": {
    "id": "ah3XhpGGf-uR"
   },
   "outputs": [],
   "source": []
  }
 ],
 "metadata": {
  "colab": {
   "authorship_tag": "ABX9TyNCkQrFgznkltkgvqm/Xfve",
   "provenance": [],
   "toc_visible": true
  },
  "kernelspec": {
   "display_name": "Python 3",
   "name": "python3"
  },
  "language_info": {
   "codemirror_mode": {
    "name": "ipython",
    "version": 3
   },
   "file_extension": ".py",
   "mimetype": "text/x-python",
   "name": "python",
   "nbconvert_exporter": "python",
   "pygments_lexer": "ipython3",
   "version": "3.11.2"
  }
 },
 "nbformat": 4,
 "nbformat_minor": 0
}
