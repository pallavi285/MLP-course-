{
 "cells": [
  {
   "cell_type": "code",
   "execution_count": 1,
   "id": "7afb5692",
   "metadata": {},
   "outputs": [],
   "source": [
    "import pandas as pd"
   ]
  },
  {
   "cell_type": "markdown",
   "id": "141164f1",
   "metadata": {},
   "source": [
    "# Applying Statistics using Pandas"
   ]
  },
  {
   "cell_type": "markdown",
   "id": "0e9ab8d7",
   "metadata": {},
   "source": [
    "Topic:\n",
    "The video is a practical lecture on how to use the pandas library in Python for real-world data analysis and statistical operations, especially in the context of data science coursework at IIT Madras.\n",
    "\n",
    "**Key Points Covered:**\n",
    "\n",
    "*Introduction to DataFrames & Series:*\n",
    "\n",
    "*Creation and structure of pandas Series and DataFrames.\n",
    "*\n",
    "Accessing columns, indices, and basic data exploration (shape, columns, summary).\n",
    "\n",
    "Selection with .loc, .iloc, and using conditional statements for filtering data.\n",
    "\n",
    "Handling Missing Data:\n",
    "\n",
    "Detecting null values and techniques to drop missing data.\n",
    "\n",
    "Explanation of axis parameter for dropping rows (axis=0) or columns (axis=1).\n",
    "\n",
    "**Data Aggregation:**   \n",
    "\n",
    "Performing simple statistical aggregations: mean(), std(), sum() on Series and DataFrames.\n",
    "\n",
    "Column-wise operations are default. Row-wise can be done by specifying axis=1.\n",
    "\n",
    "**Common Aggregation Functions:**\n",
    "\n",
    "**Other functions:** count, median, prod (product), mad (mean absolute deviation), and more.\n",
    "\n",
    "Grouping and Aggregating (groupby):\n",
    "\n",
    "Introduction to the groupby method, a powerful tool for split-apply-combine operations:\n",
    "\n",
    "- Split: Dividing data into groups based on a key.\n",
    "\n",
    "- Apply: Executing an aggregation or transformation on each group.\n",
    "\n",
    "- Combine: Bringing together the results as a single DataFrame.\n",
    "\n",
    "Demonstration using a DataFrame with a column of keys (A, B, C) and numerical data, grouping by keys, and applying aggregation functions like sum().\n",
    "\n",
    "**Practical Tips:**\n",
    "\n",
    "Use of cheat sheets and pandas documentation for quick reference.\n",
    "\n",
    "Importance of setting a random seed for reproducibility in examples.\n",
    "\n",
    "Saving and accessing Google Colab notebooks via Google Drive since the cloud runtime is temporary.\n",
    "\n",
    "**Conclusion:**\n",
    "The lecture walked through various pandas operations—from basic DataFrame handling to more advanced functionalities like aggregation and grouping—emphasizing tools essential for exploratory data analysis and statistical computing in Python. The session is interactive with questions and practical demonstrations"
   ]
  },
  {
   "cell_type": "markdown",
   "id": "2550d7e8",
   "metadata": {},
   "source": [
    "## Aggrigation"
   ]
  },
  {
   "cell_type": "markdown",
   "id": "e147261e",
   "metadata": {},
   "source": [
    "## pandas.DataFrame.aggregate"
   ]
  },
  {
   "cell_type": "code",
   "execution_count": null,
   "id": "01f9c1bc",
   "metadata": {},
   "outputs": [],
   "source": []
  }
 ],
 "metadata": {
  "kernelspec": {
   "display_name": "Python 3",
   "language": "python",
   "name": "python3"
  },
  "language_info": {
   "codemirror_mode": {
    "name": "ipython",
    "version": 3
   },
   "file_extension": ".py",
   "mimetype": "text/x-python",
   "name": "python",
   "nbconvert_exporter": "python",
   "pygments_lexer": "ipython3",
   "version": "3.11.2"
  }
 },
 "nbformat": 4,
 "nbformat_minor": 5
}
