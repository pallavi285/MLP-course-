{
 "cells": [
  {
   "cell_type": "markdown",
   "id": "3be3666a",
   "metadata": {},
   "source": [
    "\n",
    "\n",
    "**Creating DataFrames with random data**\n",
    "\n",
    "- Using numpy.random to generate random numbers for filling a DataFrame\n",
    "\n",
    "- Assigning custom row and column names (with examples for both letter and numeric indices)\n",
    "\n",
    "- Demonstrating how to check shape, column names, and use .info() and .head()\n",
    "\n",
    "**Row and column indexing**\n",
    "\n",
    "- Setting row and column indices using lists, ranges, and discussing the use of letters vs. numbers\n",
    "\n",
    "- Dealing with larger indices and dynamically generating column names (mention of custom code for names like Excel columns)\n",
    "\n",
    "**Data Selection with loc and iloc**\n",
    "\n",
    "- Using .loc for label-based indexing, explaining need for labels that must exist in the index\n",
    "\n",
    "- Demonstrating selection of specific rows and columns using .loc and .iloc\n",
    "\n",
    "- explaining different behaviors when using numeric indices vs. label indices\n",
    "\n",
    "**Advanced selection techniques**\n",
    "\n",
    "- Showing how to select ranges of rows and columns using slicing with .loc and .iloc\n",
    "\n",
    "- Displaying methods for multiple row/column selection at once\n",
    "\n",
    "Interactive features in Colab\n",
    "\n",
    "- Brief mention of Google Colab DataFrame viewer: graphical sorting, filtering, and summaries without writing code\n",
    "\n",
    "- These are not strictly pandas features but useful for rapid data insights\n",
    "\n",
    "**Lambda functions for selection**\n",
    "\n",
    "- Introducing how lambda (anonymous) functions can be used as selectors in pandas\n",
    "\n",
    "- Using lambdas to select rows based on condition (e.g., column value > 0)\n",
    "\n",
    "- Also covering standard boolean indexing as an alternative to lambda selectors\n",
    "\n",
    "- Complex conditions for filtering\n",
    "\n",
    "- Constructing *and-combined* and *or-combined* filters using boolean logic\n",
    "\n",
    "- Using lambda or boolean filters for more complex row selections\n",
    "\n",
    "- Use of *not (~)*, and,* or logical operations* in conditions\n",
    "\n",
    "**Key takeaways on .loc and .iloc**\n",
    "\n",
    "Emphasizing the difference:   \n",
    "-  .loc requires *label names*, .iloc always requires *integer positions*\n",
    "\n"
   ]
  },
  {
   "cell_type": "code",
   "execution_count": null,
   "id": "5a4c8fa7",
   "metadata": {},
   "outputs": [],
   "source": []
  }
 ],
 "metadata": {
  "kernelspec": {
   "display_name": "Python 3",
   "language": "python",
   "name": "python3"
  },
  "language_info": {
   "codemirror_mode": {
    "name": "ipython",
    "version": 3
   },
   "file_extension": ".py",
   "mimetype": "text/x-python",
   "name": "python",
   "nbconvert_exporter": "python",
   "pygments_lexer": "ipython3",
   "version": "3.11.2"
  }
 },
 "nbformat": 4,
 "nbformat_minor": 5
}
